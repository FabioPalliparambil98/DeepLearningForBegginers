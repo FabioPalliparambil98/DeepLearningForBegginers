{
  "nbformat": 4,
  "nbformat_minor": 0,
  "metadata": {
    "accelerator": "GPU",
    "colab": {
      "name": "Final_Experiment.ipynb",
      "provenance": [],
      "collapsed_sections": [
        "_TJ-1Cqx6_lI",
        "tdY1O0FACK3L",
        "YuU8U-kXkDok",
        "toJPdremjQCu",
        "UZyT8QXXhKTw",
        "sHVmMmEdgriY",
        "01sZoFTrkBfU",
        "wRZ8y343kaUg",
        "2AddwcTqhfXm",
        "BiFdVFJAkHK-",
        "Iwt3Pa9ikYBF",
        "rom24XzdiG4b",
        "oBPxKFPGj-oB",
        "upKsL3WjrWxM",
        "5WBGAOZ9sVlV",
        "vHFueM7KseFX",
        "5Vzc_IjDsoXI",
        "RfYcPsRlstqo",
        "avcgqVMvtCan",
        "VhnjKY-YiNEO",
        "QN-emxI3tIZg",
        "r2-tGgypSKHd",
        "r487r_YOlE23",
        "MKjiTx5KlRfW",
        "fT7yXYUyHAth",
        "Nzrl9G0y4Tmf",
        "fHs22aWKlvO_",
        "e7PbYULh8pOu"
      ],
      "toc_visible": true
    },
    "kernelspec": {
      "display_name": "Python 3",
      "name": "python3"
    }
  },
  "cells": [
    {
      "cell_type": "markdown",
      "metadata": {
        "id": "rGJVnmSqoHwK"
      },
      "source": [
        "## **Convolutional Nueral Network Model Expiriment** "
      ]
    },
    {
      "cell_type": "code",
      "metadata": {
        "colab": {
          "base_uri": "https://localhost:8080/"
        },
        "id": "9TPPyPSXIYy4",
        "outputId": "568a980c-fe58-49f7-8da6-8df9ea0ea808"
      },
      "source": [
        "from google.colab import drive\r\n",
        "drive.mount('/content/drive')\r\n",
        "\r\n",
        "\r\n",
        "import os \r\n",
        "os.chdir('/content/drive/My Drive/Deep_learning_unit')\r\n",
        "folder = os.path.join('/content/drive/My Drive/Deep_learning_unit')\r\n",
        "!ls "
      ],
      "execution_count": 1,
      "outputs": [
        {
          "output_type": "stream",
          "text": [
            "Mounted at /content/drive\n",
            "Assessment_82accuracy.ipynb  Final_Experiment.ipynb  FinalModel.ipynb\n"
          ],
          "name": "stdout"
        }
      ]
    },
    {
      "cell_type": "code",
      "metadata": {
        "id": "oZzj8P34Lmrv"
      },
      "source": [
        "# import packages\r\n",
        "import numpy as np\r\n",
        "import matplotlib.pyplot as plt\r\n",
        "import sklearn\r\n",
        "import sklearn.datasets\r\n",
        "import scipy.io\r\n",
        "import tensorflow as tf\r\n",
        "import math\r\n",
        "import timeit\r\n",
        "from keras.layers.normalization import BatchNormalization"
      ],
      "execution_count": 2,
      "outputs": []
    },
    {
      "cell_type": "markdown",
      "metadata": {
        "id": "qRM7qdnFhkkq"
      },
      "source": [
        "## **Loading the Data**"
      ]
    },
    {
      "cell_type": "code",
      "metadata": {
        "colab": {
          "base_uri": "https://localhost:8080/"
        },
        "id": "Fie-dQjgLjIc",
        "outputId": "be33c6e9-bf7c-4390-e257-218e1d2d591c"
      },
      "source": [
        "def load_cifar10(num_training=50000, num_test=10000):\r\n",
        "    \"\"\"\r\n",
        "    Fetch the CIFAR-10 dataset from the web.\r\n",
        "    \"\"\"\r\n",
        "    # Load the raw CIFAR-10 dataset and use appropriate data types and shapes\r\n",
        "    cifar10 = tf.keras.datasets.cifar10.load_data()\r\n",
        "    (X_train, y_train), (X_test, y_test) = cifar10\r\n",
        "    X_train = np.asarray(X_train, dtype=np.float32)\r\n",
        "    y_train = np.asarray(y_train, dtype=np.int32).flatten()\r\n",
        "    X_test = np.asarray(X_test, dtype=np.float32)\r\n",
        "    y_test = np.asarray(y_test, dtype=np.int32).flatten()\r\n",
        "\r\n",
        "\r\n",
        "    # Normalize the data: subtract the mean pixel and divide by std\r\n",
        "    mean_pixel = X_train.mean(axis=(0, 1, 2), keepdims=True)\r\n",
        "    std_pixel = X_train.std(axis=(0, 1, 2), keepdims=True)\r\n",
        "    X_train = (X_train - mean_pixel) / std_pixel\r\n",
        "    X_test = (X_test - mean_pixel) / std_pixel\r\n",
        "\r\n",
        "    return X_train, y_train, X_test, y_test\r\n",
        "\r\n",
        "\r\n",
        "# Invoke the above function to get our data.\r\n",
        "X_train, y_train, X_test, y_test = load_cifar10()\r\n",
        "print('Train data shape: ', X_train.shape)\r\n",
        "print('Train labels shape: ', y_train.shape, y_train.dtype)\r\n",
        "print('Test data shape: ', X_test.shape)\r\n",
        "print('Test labels shape: ', y_test.shape)"
      ],
      "execution_count": 3,
      "outputs": [
        {
          "output_type": "stream",
          "text": [
            "Downloading data from https://www.cs.toronto.edu/~kriz/cifar-10-python.tar.gz\n",
            "170500096/170498071 [==============================] - 4s 0us/step\n",
            "Train data shape:  (50000, 32, 32, 3)\n",
            "Train labels shape:  (50000,) int32\n",
            "Test data shape:  (10000, 32, 32, 3)\n",
            "Test labels shape:  (10000,)\n"
          ],
          "name": "stdout"
        }
      ]
    },
    {
      "cell_type": "code",
      "metadata": {
        "colab": {
          "base_uri": "https://localhost:8080/",
          "height": 466
        },
        "id": "Mt3uPqVaMUO2",
        "outputId": "cdddbe7f-b56b-4916-bcaa-706818361465"
      },
      "source": [
        "print('Train: X=%s, y=%s' % (X_train.shape, y_train.shape))\r\n",
        "print('Test: X=%s, y=%s' % (X_test.shape, y_test.shape))\r\n",
        "# plot first few images\r\n",
        "for i in range(9):\r\n",
        "\t# define subplot\r\n",
        "\tplt.subplot(330 + 1 + i)\r\n",
        "\t# plot raw pixel data\r\n",
        "\tplt.imshow(X_train[i])\r\n",
        "# show the figure\r\n",
        "plt.show()"
      ],
      "execution_count": 4,
      "outputs": [
        {
          "output_type": "stream",
          "text": [
            "Clipping input data to the valid range for imshow with RGB data ([0..1] for floats or [0..255] for integers).\n",
            "Clipping input data to the valid range for imshow with RGB data ([0..1] for floats or [0..255] for integers).\n",
            "Clipping input data to the valid range for imshow with RGB data ([0..1] for floats or [0..255] for integers).\n",
            "Clipping input data to the valid range for imshow with RGB data ([0..1] for floats or [0..255] for integers).\n",
            "Clipping input data to the valid range for imshow with RGB data ([0..1] for floats or [0..255] for integers).\n",
            "Clipping input data to the valid range for imshow with RGB data ([0..1] for floats or [0..255] for integers).\n",
            "Clipping input data to the valid range for imshow with RGB data ([0..1] for floats or [0..255] for integers).\n",
            "Clipping input data to the valid range for imshow with RGB data ([0..1] for floats or [0..255] for integers).\n",
            "Clipping input data to the valid range for imshow with RGB data ([0..1] for floats or [0..255] for integers).\n"
          ],
          "name": "stderr"
        },
        {
          "output_type": "stream",
          "text": [
            "Train: X=(50000, 32, 32, 3), y=(50000,)\n",
            "Test: X=(10000, 32, 32, 3), y=(10000,)\n"
          ],
          "name": "stdout"
        },
        {
          "output_type": "display_data",
          "data": {
            "image/png": "[encoded data removed]",
            "text/plain": [
              "<Figure size 432x288 with 9 Axes>"
            ]
          },
          "metadata": {
            "tags": [],
            "needs_background": "light"
          }
        }
      ]
    },
    {
      "cell_type": "markdown",
      "metadata": {
        "id": "h67bwiNVM3l0"
      },
      "source": [
        "# **Convolutional Nueral Network Expiriments**"
      ]
    },
    {
      "cell_type": "markdown",
      "metadata": {
        "id": "qgQjNCPShAQR"
      },
      "source": [
        "## Expiriment 1"
      ]
    },
    {
      "cell_type": "markdown",
      "metadata": {
        "id": "N8_lht1JNMDz"
      },
      "source": [
        "### **CNN Architectures**"
      ]
    },
    {
      "cell_type": "markdown",
      "metadata": {
        "id": "jyOtfafFAQ44"
      },
      "source": [
        "#### **1. Alexnet**"
      ]
    },
    {
      "cell_type": "code",
      "metadata": {
        "colab": {
          "base_uri": "https://localhost:8080/"
        },
        "id": "xGiathzDMhdR",
        "outputId": "92db64b4-da9f-45db-e086-199a74157d75"
      },
      "source": [
        "\r\n",
        "model = tf.keras.models.Sequential([\r\n",
        "   \r\n",
        "    tf.keras.layers.Conv2D(filters=32, kernel_size=3, padding=\"same\", activation=\"relu\", input_shape=[32,32,3]),\r\n",
        "    tf.keras.layers.Conv2D(filters=32, kernel_size=3,padding=\"same\",activation=\"relu\"),\r\n",
        "    tf.keras.layers.MaxPool2D(pool_size=2),\r\n",
        "\r\n",
        "\r\n",
        "    tf.keras.layers.Conv2D(filters=64, kernel_size=3,padding=\"same\",activation=\"relu\"),\r\n",
        "    tf.keras.layers.Conv2D(filters=64, kernel_size=3,padding=\"same\",activation=\"relu\"),\r\n",
        "    tf.keras.layers.MaxPool2D(pool_size=2),\r\n",
        "   \r\n",
        "\r\n",
        "    tf.keras.layers.Conv2D(filters=128, kernel_size=3,padding=\"same\",activation=\"relu\"),\r\n",
        "    tf.keras.layers.Conv2D(filters=128, kernel_size=3,padding=\"same\",activation=\"relu\"),\r\n",
        "    tf.keras.layers.MaxPool2D(pool_size=2),\r\n",
        "\r\n",
        "    tf.keras.layers.Flatten(),\r\n",
        "\r\n",
        "    tf.keras.layers.Dense(128,activation=\"relu\"),\r\n",
        "    tf.keras.layers.Dense(10,activation=\"softmax\")\r\n",
        "])\r\n",
        "model.summary()"
      ],
      "execution_count": 5,
      "outputs": [
        {
          "output_type": "stream",
          "text": [
            "Model: \"sequential\"\n",
            "_________________________________________________________________\n",
            "Layer (type)                 Output Shape              Param #   \n",
            "=================================================================\n",
            "conv2d (Conv2D)              (None, 32, 32, 32)        896       \n",
            "_________________________________________________________________\n",
            "conv2d_1 (Conv2D)            (None, 32, 32, 32)        9248      \n",
            "_________________________________________________________________\n",
            "max_pooling2d (MaxPooling2D) (None, 16, 16, 32)        0         \n",
            "_________________________________________________________________\n",
            "conv2d_2 (Conv2D)            (None, 16, 16, 64)        18496     \n",
            "_________________________________________________________________\n",
            "conv2d_3 (Conv2D)            (None, 16, 16, 64)        36928     \n",
            "_________________________________________________________________\n",
            "max_pooling2d_1 (MaxPooling2 (None, 8, 8, 64)          0         \n",
            "_________________________________________________________________\n",
            "conv2d_4 (Conv2D)            (None, 8, 8, 128)         73856     \n",
            "_________________________________________________________________\n",
            "conv2d_5 (Conv2D)            (None, 8, 8, 128)         147584    \n",
            "_________________________________________________________________\n",
            "max_pooling2d_2 (MaxPooling2 (None, 4, 4, 128)         0         \n",
            "_________________________________________________________________\n",
            "flatten (Flatten)            (None, 2048)              0         \n",
            "_________________________________________________________________\n",
            "dense (Dense)                (None, 128)               262272    \n",
            "_________________________________________________________________\n",
            "dense_1 (Dense)              (None, 10)                1290      \n",
            "=================================================================\n",
            "Total params: 550,570\n",
            "Trainable params: 550,570\n",
            "Non-trainable params: 0\n",
            "_________________________________________________________________\n"
          ],
          "name": "stdout"
        }
      ]
    },
    {
      "cell_type": "code",
      "metadata": {
        "id": "RSpuD7LqNXwV"
      },
      "source": [
        "model.compile(loss = \"sparse_categorical_crossentropy\",\r\n",
        "              optimizer =\"adam\",\r\n",
        "              metrics = [\"accuracy\"] )"
      ],
      "execution_count": 6,
      "outputs": []
    },
    {
      "cell_type": "code",
      "metadata": {
        "colab": {
          "base_uri": "https://localhost:8080/"
        },
        "id": "vGfOKlW7NhmA",
        "outputId": "9ebe2d9a-9140-4503-a53a-cf3767503174"
      },
      "source": [
        "history = model.fit(X_train, y_train, epochs=10,batch_size=128, validation_data=(X_test, y_test))"
      ],
      "execution_count": 7,
      "outputs": [
        {
          "output_type": "stream",
          "text": [
            "Epoch 1/10\n",
            "391/391 [==============================] - 13s 14ms/step - loss: 1.7215 - accuracy: 0.3682 - val_loss: 1.0729 - val_accuracy: 0.6160\n",
            "Epoch 2/10\n",
            "391/391 [==============================] - 5s 12ms/step - loss: 0.9948 - accuracy: 0.6486 - val_loss: 0.8313 - val_accuracy: 0.7079\n",
            "Epoch 3/10\n",
            "391/391 [==============================] - 5s 12ms/step - loss: 0.7281 - accuracy: 0.7449 - val_loss: 0.7370 - val_accuracy: 0.7492\n",
            "Epoch 4/10\n",
            "391/391 [==============================] - 5s 12ms/step - loss: 0.5910 - accuracy: 0.7919 - val_loss: 0.6980 - val_accuracy: 0.7628\n",
            "Epoch 5/10\n",
            "391/391 [==============================] - 5s 12ms/step - loss: 0.4764 - accuracy: 0.8335 - val_loss: 0.7001 - val_accuracy: 0.7728\n",
            "Epoch 6/10\n",
            "391/391 [==============================] - 5s 12ms/step - loss: 0.3859 - accuracy: 0.8661 - val_loss: 0.7148 - val_accuracy: 0.7714\n",
            "Epoch 7/10\n",
            "391/391 [==============================] - 5s 12ms/step - loss: 0.2993 - accuracy: 0.8968 - val_loss: 0.7285 - val_accuracy: 0.7762\n",
            "Epoch 8/10\n",
            "391/391 [==============================] - 5s 12ms/step - loss: 0.2278 - accuracy: 0.9210 - val_loss: 0.8162 - val_accuracy: 0.7672\n",
            "Epoch 9/10\n",
            "391/391 [==============================] - 5s 12ms/step - loss: 0.2001 - accuracy: 0.9292 - val_loss: 0.8013 - val_accuracy: 0.7828\n",
            "Epoch 10/10\n",
            "391/391 [==============================] - 5s 12ms/step - loss: 0.1432 - accuracy: 0.9515 - val_loss: 0.8563 - val_accuracy: 0.7783\n"
          ],
          "name": "stdout"
        }
      ]
    },
    {
      "cell_type": "code",
      "metadata": {
        "colab": {
          "base_uri": "https://localhost:8080/",
          "height": 295
        },
        "id": "bMhtpC-GocC9",
        "outputId": "b07c30bb-5c51-4011-ef60-6858363cbe8d"
      },
      "source": [
        "if int(tf.__version__.split('.')[0]) > 1:\r\n",
        "    acc_key = 'accuracy'\r\n",
        "else:\r\n",
        "    acc_key = 'acc'\r\n",
        "\r\n",
        "acc      = history.history[acc_key]\r\n",
        "loss     = history.history['loss']\r\n",
        "epochs   = range(1,len(acc)+1) \r\n",
        "\r\n",
        "plt.plot(epochs, acc,  label='Training accuracy')\r\n",
        "plt.title('Training accuracy')\r\n",
        "plt.xticks(epochs)\r\n",
        "plt.xlabel('epoch')\r\n",
        "plt.ylabel('accuracy')\r\n",
        "\r\n",
        "\r\n",
        "\r\n",
        "plt.legend();"
      ],
      "execution_count": 8,
      "outputs": [
        {
          "output_type": "display_data",
          "data": {
            "image/png": "[encoded data removed]",
            "text/plain": [
              "<Figure size 432x288 with 1 Axes>"
            ]
          },
          "metadata": {
            "tags": [],
            "needs_background": "light"
          }
        }
      ]
    },
    {
      "cell_type": "code",
      "metadata": {
        "colab": {
          "base_uri": "https://localhost:8080/",
          "height": 265
        },
        "id": "kKeMNWvz7YUR",
        "outputId": "8ec4ac53-c853-4f99-9a2e-0212d75cc6f1"
      },
      "source": [
        "if int(tf.__version__.split('.')[0]) > 1:\r\n",
        "    val_loss = 'val_loss'\r\n",
        "else:\r\n",
        "    acc_key = 'acc'\r\n",
        "\r\n",
        "val_loss = history.history[acc_key]\r\n",
        "\r\n",
        "plt.plot(epochs, loss,  label='Training Loss')\r\n",
        "plt.plot(epochs, val_loss,  label='Validation Loss')\r\n",
        "plt.legend()\r\n",
        "\r\n",
        "\r\n",
        "plt.legend();\r\n"
      ],
      "execution_count": 9,
      "outputs": [
        {
          "output_type": "display_data",
          "data": {
            "image/png": "[encoded data removed]",
            "text/plain": [
              "<Figure size 432x288 with 1 Axes>"
            ]
          },
          "metadata": {
            "tags": [],
            "needs_background": "light"
          }
        }
      ]
    },
    {
      "cell_type": "code",
      "metadata": {
        "id": "KNSP-dUY6HG_"
      },
      "source": [
        "def plot_history(history):\r\n",
        "    \r\n",
        "    import pandas as pd\r\n",
        "    import matplotlib.pyplot as plt\r\n",
        "    import tensorflow\r\n",
        "    \r\n",
        "\r\n",
        "    if int(tensorflow.__version__.split('.')[0]) > 1:\r\n",
        "        acc_key = 'accuracy'\r\n",
        "    else:\r\n",
        "        acc_key = 'acc'\r\n",
        "        \r\n",
        "    acc      = history.history[acc_key]\r\n",
        "    val_acc  = history.history['val_' + acc_key]\r\n",
        "    loss     = history.history['loss']\r\n",
        "    val_loss = history.history['val_loss']\r\n",
        "    epochs   = range(1,len(acc)+1) \r\n",
        "        \r\n",
        "        \r\n",
        "    \r\n",
        "    plt.rcParams['font.size'] = 16\r\n",
        "    plt.rcParams['axes.spines.right'] = False\r\n",
        "    plt.rcParams['axes.spines.top'] = False\r\n",
        "\r\n",
        "    fig, (ax1, ax2) = plt.subplots(1,2,figsize=(10,5))\r\n",
        "    \r\n",
        "    #------------------------------------------------\r\n",
        "    # Plot training and validation accuracy per epoch\r\n",
        "    #------------------------------------------------\r\n",
        "    ax1.plot(epochs, acc,  label='Training accuracy')\r\n",
        "    ax1.plot(epochs, val_acc,  label='Validation accuracy')\r\n",
        "    ax1.set_title('Accuracy')\r\n",
        "    ax1.set_xlabel('epoch')\r\n",
        "    ax1.set_ylabel('accuracy')\r\n",
        "    ax1.set_ylim(0.5,1)\r\n",
        "    \r\n",
        "    #------------------------------------------------\r\n",
        "    # Plot training and validation loss per epoch\r\n",
        "    #------------------------------------------------\r\n",
        "\r\n",
        "    ax2.plot(epochs, loss,  label='Training Loss')\r\n",
        "    ax2.plot(epochs, val_loss,  label='Validation Loss')\r\n",
        "    ax2.set_title('Loss')\r\n",
        "    ax2.set_xlabel('epoch')\r\n",
        "    ax2.set_ylabel('loss')\r\n",
        "    ax2.set_ylim(0,2)\r\n",
        "    ax2.legend()\r\n",
        "\r\n",
        "    fig.tight_layout()\r\n",
        "    plt.show()"
      ],
      "execution_count": 10,
      "outputs": []
    },
    {
      "cell_type": "code",
      "metadata": {
        "colab": {
          "base_uri": "https://localhost:8080/"
        },
        "id": "hphf8hbDo6QV",
        "outputId": "d42a71f4-92fa-4de0-a56c-0da9a51e821c"
      },
      "source": [
        "test_loss, test_accuracy = model.evaluate(X_test, y_test, batch_size=128 , verbose=2)\r\n",
        "print('Accuracy on test dataset:', test_accuracy)\r\n",
        "Alex_Accuracy = int(round(test_accuracy))"
      ],
      "execution_count": 11,
      "outputs": [
        {
          "output_type": "stream",
          "text": [
            "79/79 - 0s - loss: 0.8563 - accuracy: 0.7783\n",
            "Accuracy on test dataset: 0.7782999873161316\n"
          ],
          "name": "stdout"
        }
      ]
    },
    {
      "cell_type": "markdown",
      "metadata": {
        "id": "_TJ-1Cqx6_lI"
      },
      "source": [
        "#### **2. VGG**"
      ]
    },
    {
      "cell_type": "code",
      "metadata": {
        "colab": {
          "base_uri": "https://localhost:8080/"
        },
        "id": "xXs29AKu7IkI",
        "outputId": "001ea81e-ec13-4616-ea2a-787778432708"
      },
      "source": [
        "\r\n",
        "\r\n",
        "model = tf.keras.models.Sequential([\r\n",
        "   \r\n",
        "\r\n",
        "    tf.keras.layers.Conv2D(filters=64, kernel_size=3, padding=\"same\", activation=\"relu\", input_shape=[32,32,3]),\r\n",
        "    tf.keras.layers.Conv2D(filters=64, kernel_size=3,padding=\"same\",activation=\"relu\"),\r\n",
        "    tf.keras.layers.MaxPool2D(pool_size=2),\r\n",
        "\r\n",
        "    tf.keras.layers.Conv2D(filters=128, kernel_size=3, padding=\"same\", activation=\"relu\"),\r\n",
        "    tf.keras.layers.Conv2D(filters=128, kernel_size=3,padding=\"same\",activation=\"relu\"),\r\n",
        "    tf.keras.layers.MaxPool2D(pool_size=2),\r\n",
        "\r\n",
        "    tf.keras.layers.Conv2D(filters=256, kernel_size=3,padding=\"same\",activation=\"relu\"),\r\n",
        "    tf.keras.layers.Conv2D(filters=256, kernel_size=3,padding=\"same\",activation=\"relu\"),\r\n",
        "    tf.keras.layers.Conv2D(filters=256, kernel_size=3,padding=\"same\",activation=\"relu\"),\r\n",
        "    tf.keras.layers.MaxPool2D(pool_size=2),\r\n",
        "   \r\n",
        "\r\n",
        "    tf.keras.layers.Conv2D(filters=512, kernel_size=3,padding=\"same\",activation=\"relu\"),\r\n",
        "    tf.keras.layers.Conv2D(filters=512, kernel_size=3,padding=\"same\",activation=\"relu\"),\r\n",
        "    tf.keras.layers.Conv2D(filters=512, kernel_size=3,padding=\"same\",activation=\"relu\"),\r\n",
        "    tf.keras.layers.MaxPool2D(pool_size=2),\r\n",
        "\r\n",
        "    \r\n",
        "    tf.keras.layers.Conv2D(filters=512, kernel_size=3,padding=\"same\",activation=\"relu\"),\r\n",
        "    tf.keras.layers.Conv2D(filters=512, kernel_size=3,padding=\"same\",activation=\"relu\"),\r\n",
        "    tf.keras.layers.Conv2D(filters=512, kernel_size=3,padding=\"same\",activation=\"relu\"),\r\n",
        "    tf.keras.layers.MaxPool2D(pool_size=2),\r\n",
        "\r\n",
        "\r\n",
        "    tf.keras.layers.Flatten(),\r\n",
        "\r\n",
        "    tf.keras.layers.Dense(512,activation=\"relu\"),\r\n",
        "    tf.keras.layers.Dense(10,activation=\"softmax\")\r\n",
        "\r\n",
        "])\r\n",
        "model.summary()"
      ],
      "execution_count": 12,
      "outputs": [
        {
          "output_type": "stream",
          "text": [
            "Model: \"sequential_1\"\n",
            "_________________________________________________________________\n",
            "Layer (type)                 Output Shape              Param #   \n",
            "=================================================================\n",
            "conv2d_6 (Conv2D)            (None, 32, 32, 64)        1792      \n",
            "_________________________________________________________________\n",
            "conv2d_7 (Conv2D)            (None, 32, 32, 64)        36928     \n",
            "_________________________________________________________________\n",
            "max_pooling2d_3 (MaxPooling2 (None, 16, 16, 64)        0         \n",
            "_________________________________________________________________\n",
            "conv2d_8 (Conv2D)            (None, 16, 16, 128)       73856     \n",
            "_________________________________________________________________\n",
            "conv2d_9 (Conv2D)            (None, 16, 16, 128)       147584    \n",
            "_________________________________________________________________\n",
            "max_pooling2d_4 (MaxPooling2 (None, 8, 8, 128)         0         \n",
            "_________________________________________________________________\n",
            "conv2d_10 (Conv2D)           (None, 8, 8, 256)         295168    \n",
            "_________________________________________________________________\n",
            "conv2d_11 (Conv2D)           (None, 8, 8, 256)         590080    \n",
            "_________________________________________________________________\n",
            "conv2d_12 (Conv2D)           (None, 8, 8, 256)         590080    \n",
            "_________________________________________________________________\n",
            "max_pooling2d_5 (MaxPooling2 (None, 4, 4, 256)         0         \n",
            "_________________________________________________________________\n",
            "conv2d_13 (Conv2D)           (None, 4, 4, 512)         1180160   \n",
            "_________________________________________________________________\n",
            "conv2d_14 (Conv2D)           (None, 4, 4, 512)         2359808   \n",
            "_________________________________________________________________\n",
            "conv2d_15 (Conv2D)           (None, 4, 4, 512)         2359808   \n",
            "_________________________________________________________________\n",
            "max_pooling2d_6 (MaxPooling2 (None, 2, 2, 512)         0         \n",
            "_________________________________________________________________\n",
            "conv2d_16 (Conv2D)           (None, 2, 2, 512)         2359808   \n",
            "_________________________________________________________________\n",
            "conv2d_17 (Conv2D)           (None, 2, 2, 512)         2359808   \n",
            "_________________________________________________________________\n",
            "conv2d_18 (Conv2D)           (None, 2, 2, 512)         2359808   \n",
            "_________________________________________________________________\n",
            "max_pooling2d_7 (MaxPooling2 (None, 1, 1, 512)         0         \n",
            "_________________________________________________________________\n",
            "flatten_1 (Flatten)          (None, 512)               0         \n",
            "_________________________________________________________________\n",
            "dense_2 (Dense)              (None, 512)               262656    \n",
            "_________________________________________________________________\n",
            "dense_3 (Dense)              (None, 10)                5130      \n",
            "=================================================================\n",
            "Total params: 14,982,474\n",
            "Trainable params: 14,982,474\n",
            "Non-trainable params: 0\n",
            "_________________________________________________________________\n"
          ],
          "name": "stdout"
        }
      ]
    },
    {
      "cell_type": "code",
      "metadata": {
        "id": "5BksWQyZ7Lh2"
      },
      "source": [
        "model.compile(loss = \"sparse_categorical_crossentropy\",\r\n",
        "              optimizer =\"adam\",\r\n",
        "              metrics = [\"accuracy\"] )"
      ],
      "execution_count": 13,
      "outputs": []
    },
    {
      "cell_type": "code",
      "metadata": {
        "colab": {
          "base_uri": "https://localhost:8080/"
        },
        "id": "1G4jiytD7Lk_",
        "outputId": "149720f8-5445-4bc4-fe5c-09351a188732"
      },
      "source": [
        "history = model.fit(X_train, y_train, epochs=10,batch_size=128)"
      ],
      "execution_count": 14,
      "outputs": [
        {
          "output_type": "stream",
          "text": [
            "Epoch 1/10\n",
            "391/391 [==============================] - 23s 54ms/step - loss: 2.3484 - accuracy: 0.0992\n",
            "Epoch 2/10\n",
            "391/391 [==============================] - 20s 51ms/step - loss: 2.3027 - accuracy: 0.0990\n",
            "Epoch 3/10\n",
            "391/391 [==============================] - 20s 50ms/step - loss: 2.3027 - accuracy: 0.1021\n",
            "Epoch 4/10\n",
            "391/391 [==============================] - 20s 50ms/step - loss: 2.3027 - accuracy: 0.0985\n",
            "Epoch 5/10\n",
            "391/391 [==============================] - 20s 50ms/step - loss: 2.3027 - accuracy: 0.1003\n",
            "Epoch 6/10\n",
            "391/391 [==============================] - 20s 50ms/step - loss: 2.3027 - accuracy: 0.0979\n",
            "Epoch 7/10\n",
            "391/391 [==============================] - 20s 50ms/step - loss: 2.3027 - accuracy: 0.0995\n",
            "Epoch 8/10\n",
            "391/391 [==============================] - 20s 50ms/step - loss: 2.3027 - accuracy: 0.1006\n",
            "Epoch 9/10\n",
            "391/391 [==============================] - 20s 50ms/step - loss: 2.3026 - accuracy: 0.0989\n",
            "Epoch 10/10\n",
            "391/391 [==============================] - 20s 51ms/step - loss: 2.3027 - accuracy: 0.0991\n"
          ],
          "name": "stdout"
        }
      ]
    },
    {
      "cell_type": "code",
      "metadata": {
        "colab": {
          "base_uri": "https://localhost:8080/",
          "height": 0
        },
        "id": "1hywo2gD7Lno",
        "outputId": "2a2ad0b9-8ac3-4d53-f816-d27e1c2fcc6d"
      },
      "source": [
        "if int(tf.__version__.split('.')[0]) > 1:\r\n",
        "    acc_key = 'accuracy'\r\n",
        "else:\r\n",
        "    acc_key = 'acc'\r\n",
        "\r\n",
        "\r\n",
        "acc      = history.history[acc_key]\r\n",
        "loss     = history.history['loss']\r\n",
        "epochs   = range(1,len(acc)+1) \r\n",
        "\r\n",
        "\r\n",
        "plt.plot(epochs, acc,  label='Training accuracy')\r\n",
        "plt.title('Training accuracy')\r\n",
        "plt.xticks(epochs)\r\n",
        "plt.xlabel('epoch')\r\n",
        "plt.ylabel('accuracy')\r\n",
        "plt.legend();"
      ],
      "execution_count": 15,
      "outputs": [
        {
          "output_type": "display_data",
          "data": {
            "image/png": "[encoded data removed]",
            "text/plain": [
              "<Figure size 432x288 with 1 Axes>"
            ]
          },
          "metadata": {
            "tags": [],
            "needs_background": "light"
          }
        }
      ]
    },
    {
      "cell_type": "code",
      "metadata": {
        "colab": {
          "base_uri": "https://localhost:8080/"
        },
        "id": "DO_iK9gl7LpD",
        "outputId": "2c125c98-eb6a-4754-b7a2-c9bd9f41967b"
      },
      "source": [
        "test_loss, test_accuracy = model.evaluate(X_test, y_test, batch_size=128 , verbose=2)\r\n",
        "print('Accuracy on test dataset:', test_accuracy)"
      ],
      "execution_count": 16,
      "outputs": [
        {
          "output_type": "stream",
          "text": [
            "79/79 - 1s - loss: 2.3026 - accuracy: 0.1000\n",
            "Accuracy on test dataset: 0.10000000149011612\n"
          ],
          "name": "stdout"
        }
      ]
    },
    {
      "cell_type": "markdown",
      "metadata": {
        "id": "tdY1O0FACK3L"
      },
      "source": [
        "#### **3. Network in network**"
      ]
    },
    {
      "cell_type": "code",
      "metadata": {
        "id": "3iBtt5ECCcpy",
        "colab": {
          "base_uri": "https://localhost:8080/"
        },
        "outputId": "e561273a-3b3f-46c0-b888-a149c555bb50"
      },
      "source": [
        "\r\n",
        "model = tf.keras.models.Sequential([\r\n",
        "\r\n",
        "    tf.keras.layers.Conv2D(filters=192, kernel_size=5, padding=\"same\", activation=\"relu\", input_shape=[32,32,3]),\r\n",
        "    tf.keras.layers.Conv2D(filters=160, kernel_size=1,padding=\"same\",activation=\"relu\"),\r\n",
        "    tf.keras.layers.Conv2D(filters=96, kernel_size=1,padding=\"same\",activation=\"relu\"),\r\n",
        "    tf.keras.layers.MaxPool2D(pool_size=2),\r\n",
        "\r\n",
        "    tf.keras.layers.Conv2D(filters=192, kernel_size=5,padding=\"same\",activation=\"relu\"),\r\n",
        "    tf.keras.layers.Conv2D(filters=192, kernel_size=1,padding=\"same\",activation=\"relu\"),\r\n",
        "    tf.keras.layers.Conv2D(filters=192, kernel_size=1,padding=\"same\",activation=\"relu\"),\r\n",
        "    tf.keras.layers.MaxPool2D(pool_size=2),\r\n",
        "    tf.keras.layers.Conv2D(filters=192, kernel_size=3,padding=\"same\",activation=\"relu\"),\r\n",
        "\r\n",
        "\r\n",
        "    tf.keras.layers.Flatten(),\r\n",
        "\r\n",
        "\r\n",
        "    tf.keras.layers.Dense(192,activation=\"relu\"),\r\n",
        "    tf.keras.layers.Dense(10,activation=\"softmax\")\r\n",
        "\r\n",
        "])\r\n",
        "model.summary()"
      ],
      "execution_count": 17,
      "outputs": [
        {
          "output_type": "stream",
          "text": [
            "Model: \"sequential_2\"\n",
            "_________________________________________________________________\n",
            "Layer (type)                 Output Shape              Param #   \n",
            "=================================================================\n",
            "conv2d_19 (Conv2D)           (None, 32, 32, 192)       14592     \n",
            "_________________________________________________________________\n",
            "conv2d_20 (Conv2D)           (None, 32, 32, 160)       30880     \n",
            "_________________________________________________________________\n",
            "conv2d_21 (Conv2D)           (None, 32, 32, 96)        15456     \n",
            "_________________________________________________________________\n",
            "max_pooling2d_8 (MaxPooling2 (None, 16, 16, 96)        0         \n",
            "_________________________________________________________________\n",
            "conv2d_22 (Conv2D)           (None, 16, 16, 192)       460992    \n",
            "_________________________________________________________________\n",
            "conv2d_23 (Conv2D)           (None, 16, 16, 192)       37056     \n",
            "_________________________________________________________________\n",
            "conv2d_24 (Conv2D)           (None, 16, 16, 192)       37056     \n",
            "_________________________________________________________________\n",
            "max_pooling2d_9 (MaxPooling2 (None, 8, 8, 192)         0         \n",
            "_________________________________________________________________\n",
            "conv2d_25 (Conv2D)           (None, 8, 8, 192)         331968    \n",
            "_________________________________________________________________\n",
            "flatten_2 (Flatten)          (None, 12288)             0         \n",
            "_________________________________________________________________\n",
            "dense_4 (Dense)              (None, 192)               2359488   \n",
            "_________________________________________________________________\n",
            "dense_5 (Dense)              (None, 10)                1930      \n",
            "=================================================================\n",
            "Total params: 3,289,418\n",
            "Trainable params: 3,289,418\n",
            "Non-trainable params: 0\n",
            "_________________________________________________________________\n"
          ],
          "name": "stdout"
        }
      ]
    },
    {
      "cell_type": "code",
      "metadata": {
        "id": "bOJlU8-fCczv"
      },
      "source": [
        "model.compile(loss = \"sparse_categorical_crossentropy\",\r\n",
        "              optimizer =\"adam\",\r\n",
        "              metrics = [\"accuracy\"] )\r\n"
      ],
      "execution_count": 18,
      "outputs": []
    },
    {
      "cell_type": "code",
      "metadata": {
        "id": "ihh1dnjkCkQB",
        "colab": {
          "base_uri": "https://localhost:8080/"
        },
        "outputId": "509d6e10-a53e-4400-aba0-22c496aadd62"
      },
      "source": [
        "history = model.fit(X_train, y_train, epochs=10,batch_size=128)"
      ],
      "execution_count": 19,
      "outputs": [
        {
          "output_type": "stream",
          "text": [
            "Epoch 1/10\n",
            "391/391 [==============================] - 19s 47ms/step - loss: 1.8336 - accuracy: 0.3243\n",
            "Epoch 2/10\n",
            "391/391 [==============================] - 18s 46ms/step - loss: 1.0806 - accuracy: 0.6125\n",
            "Epoch 3/10\n",
            "391/391 [==============================] - 18s 46ms/step - loss: 0.8207 - accuracy: 0.7104\n",
            "Epoch 4/10\n",
            "391/391 [==============================] - 18s 46ms/step - loss: 0.6353 - accuracy: 0.7757\n",
            "Epoch 5/10\n",
            "391/391 [==============================] - 18s 46ms/step - loss: 0.5195 - accuracy: 0.8191\n",
            "Epoch 6/10\n",
            "391/391 [==============================] - 18s 46ms/step - loss: 0.3972 - accuracy: 0.8617\n",
            "Epoch 7/10\n",
            "391/391 [==============================] - 18s 46ms/step - loss: 0.2912 - accuracy: 0.8973\n",
            "Epoch 8/10\n",
            "391/391 [==============================] - 18s 46ms/step - loss: 0.2129 - accuracy: 0.9255\n",
            "Epoch 9/10\n",
            "391/391 [==============================] - 18s 46ms/step - loss: 0.1634 - accuracy: 0.9426\n",
            "Epoch 10/10\n",
            "391/391 [==============================] - 18s 46ms/step - loss: 0.1393 - accuracy: 0.9514\n"
          ],
          "name": "stdout"
        }
      ]
    },
    {
      "cell_type": "code",
      "metadata": {
        "id": "WtZwGF_MCkS2",
        "colab": {
          "base_uri": "https://localhost:8080/",
          "height": 295
        },
        "outputId": "c932e62f-f58e-4542-dfd3-c85a0d6846ca"
      },
      "source": [
        "if int(tf.__version__.split('.')[0]) > 1:\r\n",
        "    acc_key = 'accuracy'\r\n",
        "else:\r\n",
        "    acc_key = 'acc'\r\n",
        "\r\n",
        "acc      = history.history[acc_key]\r\n",
        "loss     = history.history['loss']\r\n",
        "epochs   = range(1,len(acc)+1) # Get number of epochs\r\n",
        "\r\n",
        "plt.plot(epochs, acc,  label='Training accuracy')\r\n",
        "plt.title('Training accuracy')\r\n",
        "plt.xticks(epochs)\r\n",
        "plt.xlabel('epoch')\r\n",
        "plt.ylabel('accuracy')\r\n",
        "plt.legend();"
      ],
      "execution_count": 20,
      "outputs": [
        {
          "output_type": "display_data",
          "data": {
            "image/png": "[encoded data removed]",
            "text/plain": [
              "<Figure size 432x288 with 1 Axes>"
            ]
          },
          "metadata": {
            "tags": [],
            "needs_background": "light"
          }
        }
      ]
    },
    {
      "cell_type": "code",
      "metadata": {
        "id": "psJnLXiLCc2y",
        "colab": {
          "base_uri": "https://localhost:8080/"
        },
        "outputId": "8df57210-4fa8-43ee-f47a-50b538b67196"
      },
      "source": [
        "test_loss, test_accuracy = model.evaluate(X_test, y_test, batch_size=128 , verbose=2)\r\n",
        "print('Accuracy on test dataset:', test_accuracy)\r\n"
      ],
      "execution_count": 21,
      "outputs": [
        {
          "output_type": "stream",
          "text": [
            "79/79 - 1s - loss: 1.1575 - accuracy: 0.7451\n",
            "Accuracy on test dataset: 0.7451000213623047\n"
          ],
          "name": "stdout"
        }
      ]
    },
    {
      "cell_type": "markdown",
      "metadata": {
        "id": "YuU8U-kXkDok"
      },
      "source": [
        "#### **4. Visualisation Of All The Networks Result**"
      ]
    },
    {
      "cell_type": "code",
      "metadata": {
        "id": "r3gsSqlpCc5m",
        "colab": {
          "base_uri": "https://localhost:8080/",
          "height": 0
        },
        "outputId": "db0dace1-9c1c-4d5d-bf79-8a3f1da2461f"
      },
      "source": [
        "import pandas as pd\r\n",
        "import plotly.express as px\r\n",
        "\r\n",
        "\r\n",
        "d = {'architecture': [\"NiN\",\"Alexnet\",\"VGG-16\"], 'Training_Accuracy': [95.7,76.9,86.7], 'Testing_Accuracy': [74.7,76.9,77.1]}\r\n",
        "df = pd.DataFrame(data=d)\r\n",
        "df"
      ],
      "execution_count": 22,
      "outputs": [
        {
          "output_type": "execute_result",
          "data": {
            "text/html": [
              "<div>\n",
              "<style scoped>\n",
              "    .dataframe tbody tr th:only-of-type {\n",
              "        vertical-align: middle;\n",
              "    }\n",
              "\n",
              "    .dataframe tbody tr th {\n",
              "        vertical-align: top;\n",
              "    }\n",
              "\n",
              "    .dataframe thead th {\n",
              "        text-align: right;\n",
              "    }\n",
              "</style>\n",
              "<table border=\"1\" class=\"dataframe\">\n",
              "  <thead>\n",
              "    <tr style=\"text-align: right;\">\n",
              "      <th></th>\n",
              "      <th>architecture</th>\n",
              "      <th>Training_Accuracy</th>\n",
              "      <th>Testing_Accuracy</th>\n",
              "    </tr>\n",
              "  </thead>\n",
              "  <tbody>\n",
              "    <tr>\n",
              "      <th>0</th>\n",
              "      <td>NiN</td>\n",
              "      <td>95.7</td>\n",
              "      <td>74.7</td>\n",
              "    </tr>\n",
              "    <tr>\n",
              "      <th>1</th>\n",
              "      <td>Alexnet</td>\n",
              "      <td>76.9</td>\n",
              "      <td>76.9</td>\n",
              "    </tr>\n",
              "    <tr>\n",
              "      <th>2</th>\n",
              "      <td>VGG-16</td>\n",
              "      <td>86.7</td>\n",
              "      <td>77.1</td>\n",
              "    </tr>\n",
              "  </tbody>\n",
              "</table>\n",
              "</div>"
            ],
            "text/plain": [
              "  architecture  Training_Accuracy  Testing_Accuracy\n",
              "0          NiN               95.7              74.7\n",
              "1      Alexnet               76.9              76.9\n",
              "2       VGG-16               86.7              77.1"
            ]
          },
          "metadata": {
            "tags": []
          },
          "execution_count": 22
        }
      ]
    },
    {
      "cell_type": "code",
      "metadata": {
        "id": "PPF6gv5pCc7v",
        "colab": {
          "base_uri": "https://localhost:8080/",
          "height": 0
        },
        "outputId": "db1756bf-a4ad-4599-a199-fed8c9f6deb1"
      },
      "source": [
        "import plotly.graph_objects as go\r\n",
        "\r\n",
        "\r\n",
        "fig = go.Figure()\r\n",
        "# Create and style traces\r\n",
        "\r\n",
        "fig.add_trace(go.Scatter(x=df['architecture'], y=df['Testing_Accuracy'],\r\n",
        "                         line=dict(color='firebrick', width=4, dash='dash')))\r\n",
        "\r\n",
        "# Edit the layout\r\n",
        "fig.update_layout(title='TheComparison between the CNN architecture',\r\n",
        "                   xaxis_title='CNN Architecture',\r\n",
        "                   yaxis_title='Accuracy (%)')\r\n",
        "\r\n",
        "\r\n",
        "fig.show()"
      ],
      "execution_count": 23,
      "outputs": [
        {
          "output_type": "display_data",
          "data": {
            "text/html": [
              "<html>\n",
              "<head><meta charset=\"utf-8\" /></head>\n",
              "<body>\n",
              "    <div>\n",
              "            <script src=\"https://cdnjs.cloudflare.com/ajax/libs/mathjax/2.7.5/MathJax.js?config=TeX-AMS-MML_SVG\"></script><script type=\"text/javascript\">if (window.MathJax) {MathJax.Hub.Config({SVG: {font: \"STIX-Web\"}});}</script>\n",
              "                <script type=\"text/javascript\">window.PlotlyConfig = {MathJaxConfig: 'local'};</script>\n",
              "        <script src=\"https://cdn.plot.ly/plotly-latest.min.js\"></script>    \n",
              "            <div id=\"b3b68a81-f018-4e51-b0c4-d235928808a1\" class=\"plotly-graph-div\" style=\"height:525px; width:100%;\"></div>\n",
              "            <script type=\"text/javascript\">\n",
              "                \n",
              "                    window.PLOTLYENV=window.PLOTLYENV || {};\n",
              "                    \n",
              "                if (document.getElementById(\"b3b68a81-f018-4e51-b0c4-d235928808a1\")) {\n",
              "                    Plotly.newPlot(\n",
              "                        'b3b68a81-f018-4e51-b0c4-d235928808a1',\n",
              "                        [{\"line\": {\"color\": \"firebrick\", \"dash\": \"dash\", \"width\": 4}, \"type\": \"scatter\", \"x\": [\"NiN\", \"Alexnet\", \"VGG-16\"], \"y\": [74.7, 76.9, 77.1]}],\n",
              "                        {\"template\": {\"data\": {\"bar\": [{\"error_x\": {\"color\": \"#2a3f5f\"}, \"error_y\": {\"color\": \"#2a3f5f\"}, \"marker\": {\"line\": {\"color\": \"#E5ECF6\", \"width\": 0.5}}, \"type\": \"bar\"}], \"barpolar\": [{\"marker\": {\"line\": {\"color\": \"#E5ECF6\", \"width\": 0.5}}, \"type\": \"barpolar\"}], \"carpet\": [{\"aaxis\": {\"endlinecolor\": \"#2a3f5f\", \"gridcolor\": \"white\", \"linecolor\": \"white\", \"minorgridcolor\": \"white\", \"startlinecolor\": \"#2a3f5f\"}, \"baxis\": {\"endlinecolor\": \"#2a3f5f\", \"gridcolor\": \"white\", \"linecolor\": \"white\", \"minorgridcolor\": \"white\", \"startlinecolor\": \"#2a3f5f\"}, \"type\": \"carpet\"}], \"choropleth\": [{\"colorbar\": {\"outlinewidth\": 0, \"ticks\": \"\"}, \"type\": \"choropleth\"}], \"contour\": [{\"colorbar\": {\"outlinewidth\": 0, \"ticks\": \"\"}, \"colorscale\": [[0.0, \"#0d0887\"], [0.1111111111111111, \"#46039f\"], [0.2222222222222222, \"#7201a8\"], [0.3333333333333333, \"#9c179e\"], [0.4444444444444444, \"#bd3786\"], [0.5555555555555556, \"#d8576b\"], [0.6666666666666666, \"#ed7953\"], [0.7777777777777778, \"#fb9f3a\"], [0.8888888888888888, \"#fdca26\"], [1.0, \"#f0f921\"]], \"type\": \"contour\"}], \"contourcarpet\": [{\"colorbar\": {\"outlinewidth\": 0, \"ticks\": \"\"}, \"type\": \"contourcarpet\"}], \"heatmap\": [{\"colorbar\": {\"outlinewidth\": 0, \"ticks\": \"\"}, \"colorscale\": [[0.0, \"#0d0887\"], [0.1111111111111111, \"#46039f\"], [0.2222222222222222, \"#7201a8\"], [0.3333333333333333, \"#9c179e\"], [0.4444444444444444, \"#bd3786\"], [0.5555555555555556, \"#d8576b\"], [0.6666666666666666, \"#ed7953\"], [0.7777777777777778, \"#fb9f3a\"], [0.8888888888888888, \"#fdca26\"], [1.0, \"#f0f921\"]], \"type\": \"heatmap\"}], \"heatmapgl\": [{\"colorbar\": {\"outlinewidth\": 0, \"ticks\": \"\"}, \"colorscale\": [[0.0, \"#0d0887\"], [0.1111111111111111, \"#46039f\"], [0.2222222222222222, \"#7201a8\"], [0.3333333333333333, \"#9c179e\"], [0.4444444444444444, \"#bd3786\"], [0.5555555555555556, \"#d8576b\"], [0.6666666666666666, \"#ed7953\"], [0.7777777777777778, \"#fb9f3a\"], [0.8888888888888888, \"#fdca26\"], [1.0, \"#f0f921\"]], \"type\": \"heatmapgl\"}], \"histogram\": [{\"marker\": {\"colorbar\": {\"outlinewidth\": 0, \"ticks\": \"\"}}, \"type\": \"histogram\"}], \"histogram2d\": [{\"colorbar\": {\"outlinewidth\": 0, \"ticks\": \"\"}, \"colorscale\": [[0.0, \"#0d0887\"], [0.1111111111111111, \"#46039f\"], [0.2222222222222222, \"#7201a8\"], [0.3333333333333333, \"#9c179e\"], [0.4444444444444444, \"#bd3786\"], [0.5555555555555556, \"#d8576b\"], [0.6666666666666666, \"#ed7953\"], [0.7777777777777778, \"#fb9f3a\"], [0.8888888888888888, \"#fdca26\"], [1.0, \"#f0f921\"]], \"type\": \"histogram2d\"}], \"histogram2dcontour\": [{\"colorbar\": {\"outlinewidth\": 0, \"ticks\": \"\"}, \"colorscale\": [[0.0, \"#0d0887\"], [0.1111111111111111, \"#46039f\"], [0.2222222222222222, \"#7201a8\"], [0.3333333333333333, \"#9c179e\"], [0.4444444444444444, \"#bd3786\"], [0.5555555555555556, \"#d8576b\"], [0.6666666666666666, \"#ed7953\"], [0.7777777777777778, \"#fb9f3a\"], [0.8888888888888888, \"#fdca26\"], [1.0, \"#f0f921\"]], \"type\": \"histogram2dcontour\"}], \"mesh3d\": [{\"colorbar\": {\"outlinewidth\": 0, \"ticks\": \"\"}, \"type\": \"mesh3d\"}], \"parcoords\": [{\"line\": {\"colorbar\": {\"outlinewidth\": 0, \"ticks\": \"\"}}, \"type\": \"parcoords\"}], \"pie\": [{\"automargin\": true, \"type\": \"pie\"}], \"scatter\": [{\"marker\": {\"colorbar\": {\"outlinewidth\": 0, \"ticks\": \"\"}}, \"type\": \"scatter\"}], \"scatter3d\": [{\"line\": {\"colorbar\": {\"outlinewidth\": 0, \"ticks\": \"\"}}, \"marker\": {\"colorbar\": {\"outlinewidth\": 0, \"ticks\": \"\"}}, \"type\": \"scatter3d\"}], \"scattercarpet\": [{\"marker\": {\"colorbar\": {\"outlinewidth\": 0, \"ticks\": \"\"}}, \"type\": \"scattercarpet\"}], \"scattergeo\": [{\"marker\": {\"colorbar\": {\"outlinewidth\": 0, \"ticks\": \"\"}}, \"type\": \"scattergeo\"}], \"scattergl\": [{\"marker\": {\"colorbar\": {\"outlinewidth\": 0, \"ticks\": \"\"}}, \"type\": \"scattergl\"}], \"scattermapbox\": [{\"marker\": {\"colorbar\": {\"outlinewidth\": 0, \"ticks\": \"\"}}, \"type\": \"scattermapbox\"}], \"scatterpolar\": [{\"marker\": {\"colorbar\": {\"outlinewidth\": 0, \"ticks\": \"\"}}, \"type\": \"scatterpolar\"}], \"scatterpolargl\": [{\"marker\": {\"colorbar\": {\"outlinewidth\": 0, \"ticks\": \"\"}}, \"type\": \"scatterpolargl\"}], \"scatterternary\": [{\"marker\": {\"colorbar\": {\"outlinewidth\": 0, \"ticks\": \"\"}}, \"type\": \"scatterternary\"}], \"surface\": [{\"colorbar\": {\"outlinewidth\": 0, \"ticks\": \"\"}, \"colorscale\": [[0.0, \"#0d0887\"], [0.1111111111111111, \"#46039f\"], [0.2222222222222222, \"#7201a8\"], [0.3333333333333333, \"#9c179e\"], [0.4444444444444444, \"#bd3786\"], [0.5555555555555556, \"#d8576b\"], [0.6666666666666666, \"#ed7953\"], [0.7777777777777778, \"#fb9f3a\"], [0.8888888888888888, \"#fdca26\"], [1.0, \"#f0f921\"]], \"type\": \"surface\"}], \"table\": [{\"cells\": {\"fill\": {\"color\": \"#EBF0F8\"}, \"line\": {\"color\": \"white\"}}, \"header\": {\"fill\": {\"color\": \"#C8D4E3\"}, \"line\": {\"color\": \"white\"}}, \"type\": \"table\"}]}, \"layout\": {\"annotationdefaults\": {\"arrowcolor\": \"#2a3f5f\", \"arrowhead\": 0, \"arrowwidth\": 1}, \"coloraxis\": {\"colorbar\": {\"outlinewidth\": 0, \"ticks\": \"\"}}, \"colorscale\": {\"diverging\": [[0, \"#8e0152\"], [0.1, \"#c51b7d\"], [0.2, \"#de77ae\"], [0.3, \"#f1b6da\"], [0.4, \"#fde0ef\"], [0.5, \"#f7f7f7\"], [0.6, \"#e6f5d0\"], [0.7, \"#b8e186\"], [0.8, \"#7fbc41\"], [0.9, \"#4d9221\"], [1, \"#276419\"]], \"sequential\": [[0.0, \"#0d0887\"], [0.1111111111111111, \"#46039f\"], [0.2222222222222222, \"#7201a8\"], [0.3333333333333333, \"#9c179e\"], [0.4444444444444444, \"#bd3786\"], [0.5555555555555556, \"#d8576b\"], [0.6666666666666666, \"#ed7953\"], [0.7777777777777778, \"#fb9f3a\"], [0.8888888888888888, \"#fdca26\"], [1.0, \"#f0f921\"]], \"sequentialminus\": [[0.0, \"#0d0887\"], [0.1111111111111111, \"#46039f\"], [0.2222222222222222, \"#7201a8\"], [0.3333333333333333, \"#9c179e\"], [0.4444444444444444, \"#bd3786\"], [0.5555555555555556, \"#d8576b\"], [0.6666666666666666, \"#ed7953\"], [0.7777777777777778, \"#fb9f3a\"], [0.8888888888888888, \"#fdca26\"], [1.0, \"#f0f921\"]]}, \"colorway\": [\"#636efa\", \"#EF553B\", \"#00cc96\", \"#ab63fa\", \"#FFA15A\", \"#19d3f3\", \"#FF6692\", \"#B6E880\", \"#FF97FF\", \"#FECB52\"], \"font\": {\"color\": \"#2a3f5f\"}, \"geo\": {\"bgcolor\": \"white\", \"lakecolor\": \"white\", \"landcolor\": \"#E5ECF6\", \"showlakes\": true, \"showland\": true, \"subunitcolor\": \"white\"}, \"hoverlabel\": {\"align\": \"left\"}, \"hovermode\": \"closest\", \"mapbox\": {\"style\": \"light\"}, \"paper_bgcolor\": \"white\", \"plot_bgcolor\": \"#E5ECF6\", \"polar\": {\"angularaxis\": {\"gridcolor\": \"white\", \"linecolor\": \"white\", \"ticks\": \"\"}, \"bgcolor\": \"#E5ECF6\", \"radialaxis\": {\"gridcolor\": \"white\", \"linecolor\": \"white\", \"ticks\": \"\"}}, \"scene\": {\"xaxis\": {\"backgroundcolor\": \"#E5ECF6\", \"gridcolor\": \"white\", \"gridwidth\": 2, \"linecolor\": \"white\", \"showbackground\": true, \"ticks\": \"\", \"zerolinecolor\": \"white\"}, \"yaxis\": {\"backgroundcolor\": \"#E5ECF6\", \"gridcolor\": \"white\", \"gridwidth\": 2, \"linecolor\": \"white\", \"showbackground\": true, \"ticks\": \"\", \"zerolinecolor\": \"white\"}, \"zaxis\": {\"backgroundcolor\": \"#E5ECF6\", \"gridcolor\": \"white\", \"gridwidth\": 2, \"linecolor\": \"white\", \"showbackground\": true, \"ticks\": \"\", \"zerolinecolor\": \"white\"}}, \"shapedefaults\": {\"line\": {\"color\": \"#2a3f5f\"}}, \"ternary\": {\"aaxis\": {\"gridcolor\": \"white\", \"linecolor\": \"white\", \"ticks\": \"\"}, \"baxis\": {\"gridcolor\": \"white\", \"linecolor\": \"white\", \"ticks\": \"\"}, \"bgcolor\": \"#E5ECF6\", \"caxis\": {\"gridcolor\": \"white\", \"linecolor\": \"white\", \"ticks\": \"\"}}, \"title\": {\"x\": 0.05}, \"xaxis\": {\"automargin\": true, \"gridcolor\": \"white\", \"linecolor\": \"white\", \"ticks\": \"\", \"title\": {\"standoff\": 15}, \"zerolinecolor\": \"white\", \"zerolinewidth\": 2}, \"yaxis\": {\"automargin\": true, \"gridcolor\": \"white\", \"linecolor\": \"white\", \"ticks\": \"\", \"title\": {\"standoff\": 15}, \"zerolinecolor\": \"white\", \"zerolinewidth\": 2}}}, \"title\": {\"text\": \"TheComparison between the CNN architecture\"}, \"xaxis\": {\"title\": {\"text\": \"CNN Architecture\"}}, \"yaxis\": {\"title\": {\"text\": \"Accuracy (%)\"}}},\n",
              "                        {\"responsive\": true}\n",
              "                    ).then(function(){\n",
              "                            \n",
              "var gd = document.getElementById('b3b68a81-f018-4e51-b0c4-d235928808a1');\n",
              "var x = new MutationObserver(function (mutations, observer) {{\n",
              "        var display = window.getComputedStyle(gd).display;\n",
              "        if (!display || display === 'none') {{\n",
              "            console.log([gd, 'removed!']);\n",
              "            Plotly.purge(gd);\n",
              "            observer.disconnect();\n",
              "        }}\n",
              "}});\n",
              "\n",
              "// Listen for the removal of the full notebook cells\n",
              "var notebookContainer = gd.closest('#notebook-container');\n",
              "if (notebookContainer) {{\n",
              "    x.observe(notebookContainer, {childList: true});\n",
              "}}\n",
              "\n",
              "// Listen for the clearing of the current output cell\n",
              "var outputEl = gd.closest('.output');\n",
              "if (outputEl) {{\n",
              "    x.observe(outputEl, {childList: true});\n",
              "}}\n",
              "\n",
              "                        })\n",
              "                };\n",
              "                \n",
              "            </script>\n",
              "        </div>\n",
              "</body>\n",
              "</html>"
            ]
          },
          "metadata": {
            "tags": []
          }
        }
      ]
    },
    {
      "cell_type": "code",
      "metadata": {
        "colab": {
          "base_uri": "https://localhost:8080/",
          "height": 0
        },
        "id": "Wc8wvXexlN1d",
        "outputId": "6c53bdd3-2dfb-4318-a557-a09d4bfba1d0"
      },
      "source": [
        "import matplotlib.pyplot as plt\r\n",
        "   \r\n",
        "Year = df.architecture\r\n",
        "Unemployment_Rate = df.Testing_Accuracy\r\n",
        "  \r\n",
        "plt.plot(Year, Unemployment_Rate, color='red', marker='o')\r\n",
        "plt.title('CNN Architectures', fontsize=14)\r\n",
        "plt.xlabel('CNN Architecture', fontsize=14)\r\n",
        "plt.ylabel('Testing Accuracy', fontsize=14)\r\n",
        "plt.grid(True)\r\n",
        "plt.show()"
      ],
      "execution_count": 24,
      "outputs": [
        {
          "output_type": "display_data",
          "data": {
            "image/png": "[encoded data removed]",
            "text/plain": [
              "<Figure size 432x288 with 1 Axes>"
            ]
          },
          "metadata": {
            "tags": [],
            "needs_background": "light"
          }
        }
      ]
    },
    {
      "cell_type": "code",
      "metadata": {
        "colab": {
          "base_uri": "https://localhost:8080/",
          "height": 0
        },
        "id": "RYpDHsKql7Pb",
        "outputId": "96208264-b5b3-4c1b-e1a9-02acf8b036b1"
      },
      "source": [
        "\r\n",
        "fig = px.bar(df, x='architecture', y='Testing_Accuracy',color = \"architecture\",title=\"CNN Architectures\")\r\n",
        "fig.show()"
      ],
      "execution_count": 25,
      "outputs": [
        {
          "output_type": "display_data",
          "data": {
            "text/html": [
              "<html>\n",
              "<head><meta charset=\"utf-8\" /></head>\n",
              "<body>\n",
              "    <div>\n",
              "            <script src=\"https://cdnjs.cloudflare.com/ajax/libs/mathjax/2.7.5/MathJax.js?config=TeX-AMS-MML_SVG\"></script><script type=\"text/javascript\">if (window.MathJax) {MathJax.Hub.Config({SVG: {font: \"STIX-Web\"}});}</script>\n",
              "                <script type=\"text/javascript\">window.PlotlyConfig = {MathJaxConfig: 'local'};</script>\n",
              "        <script src=\"https://cdn.plot.ly/plotly-latest.min.js\"></script>    \n",
              "            <div id=\"56b3630d-c173-4ca7-91aa-f91b1d705df3\" class=\"plotly-graph-div\" style=\"height:525px; width:100%;\"></div>\n",
              "            <script type=\"text/javascript\">\n",
              "                \n",
              "                    window.PLOTLYENV=window.PLOTLYENV || {};\n",
              "                    \n",
              "                if (document.getElementById(\"56b3630d-c173-4ca7-91aa-f91b1d705df3\")) {\n",
              "                    Plotly.newPlot(\n",
              "                        '56b3630d-c173-4ca7-91aa-f91b1d705df3',\n",
              "                        [{\"alignmentgroup\": \"True\", \"hoverlabel\": {\"namelength\": 0}, \"hovertemplate\": \"architecture=%{x}<br>Testing_Accuracy=%{y}\", \"legendgroup\": \"architecture=NiN\", \"marker\": {\"color\": \"#636efa\"}, \"name\": \"architecture=NiN\", \"offsetgroup\": \"architecture=NiN\", \"orientation\": \"v\", \"showlegend\": true, \"textposition\": \"auto\", \"type\": \"bar\", \"x\": [\"NiN\"], \"xaxis\": \"x\", \"y\": [74.7], \"yaxis\": \"y\"}, {\"alignmentgroup\": \"True\", \"hoverlabel\": {\"namelength\": 0}, \"hovertemplate\": \"architecture=%{x}<br>Testing_Accuracy=%{y}\", \"legendgroup\": \"architecture=Alexnet\", \"marker\": {\"color\": \"#EF553B\"}, \"name\": \"architecture=Alexnet\", \"offsetgroup\": \"architecture=Alexnet\", \"orientation\": \"v\", \"showlegend\": true, \"textposition\": \"auto\", \"type\": \"bar\", \"x\": [\"Alexnet\"], \"xaxis\": \"x\", \"y\": [76.9], \"yaxis\": \"y\"}, {\"alignmentgroup\": \"True\", \"hoverlabel\": {\"namelength\": 0}, \"hovertemplate\": \"architecture=%{x}<br>Testing_Accuracy=%{y}\", \"legendgroup\": \"architecture=VGG-16\", \"marker\": {\"color\": \"#00cc96\"}, \"name\": \"architecture=VGG-16\", \"offsetgroup\": \"architecture=VGG-16\", \"orientation\": \"v\", \"showlegend\": true, \"textposition\": \"auto\", \"type\": \"bar\", \"x\": [\"VGG-16\"], \"xaxis\": \"x\", \"y\": [77.1], \"yaxis\": \"y\"}],\n",
              "                        {\"barmode\": \"relative\", \"legend\": {\"tracegroupgap\": 0}, \"template\": {\"data\": {\"bar\": [{\"error_x\": {\"color\": \"#2a3f5f\"}, \"error_y\": {\"color\": \"#2a3f5f\"}, \"marker\": {\"line\": {\"color\": \"#E5ECF6\", \"width\": 0.5}}, \"type\": \"bar\"}], \"barpolar\": [{\"marker\": {\"line\": {\"color\": \"#E5ECF6\", \"width\": 0.5}}, \"type\": \"barpolar\"}], \"carpet\": [{\"aaxis\": {\"endlinecolor\": \"#2a3f5f\", \"gridcolor\": \"white\", \"linecolor\": \"white\", \"minorgridcolor\": \"white\", \"startlinecolor\": \"#2a3f5f\"}, \"baxis\": {\"endlinecolor\": \"#2a3f5f\", \"gridcolor\": \"white\", \"linecolor\": \"white\", \"minorgridcolor\": \"white\", \"startlinecolor\": \"#2a3f5f\"}, \"type\": \"carpet\"}], \"choropleth\": [{\"colorbar\": {\"outlinewidth\": 0, \"ticks\": \"\"}, \"type\": \"choropleth\"}], \"contour\": [{\"colorbar\": {\"outlinewidth\": 0, \"ticks\": \"\"}, \"colorscale\": [[0.0, \"#0d0887\"], [0.1111111111111111, \"#46039f\"], [0.2222222222222222, \"#7201a8\"], [0.3333333333333333, \"#9c179e\"], [0.4444444444444444, \"#bd3786\"], [0.5555555555555556, \"#d8576b\"], [0.6666666666666666, \"#ed7953\"], [0.7777777777777778, \"#fb9f3a\"], [0.8888888888888888, \"#fdca26\"], [1.0, \"#f0f921\"]], \"type\": \"contour\"}], \"contourcarpet\": [{\"colorbar\": {\"outlinewidth\": 0, \"ticks\": \"\"}, \"type\": \"contourcarpet\"}], \"heatmap\": [{\"colorbar\": {\"outlinewidth\": 0, \"ticks\": \"\"}, \"colorscale\": [[0.0, \"#0d0887\"], [0.1111111111111111, \"#46039f\"], [0.2222222222222222, \"#7201a8\"], [0.3333333333333333, \"#9c179e\"], [0.4444444444444444, \"#bd3786\"], [0.5555555555555556, \"#d8576b\"], [0.6666666666666666, \"#ed7953\"], [0.7777777777777778, \"#fb9f3a\"], [0.8888888888888888, \"#fdca26\"], [1.0, \"#f0f921\"]], \"type\": \"heatmap\"}], \"heatmapgl\": [{\"colorbar\": {\"outlinewidth\": 0, \"ticks\": \"\"}, \"colorscale\": [[0.0, \"#0d0887\"], [0.1111111111111111, \"#46039f\"], [0.2222222222222222, \"#7201a8\"], [0.3333333333333333, \"#9c179e\"], [0.4444444444444444, \"#bd3786\"], [0.5555555555555556, \"#d8576b\"], [0.6666666666666666, \"#ed7953\"], [0.7777777777777778, \"#fb9f3a\"], [0.8888888888888888, \"#fdca26\"], [1.0, \"#f0f921\"]], \"type\": \"heatmapgl\"}], \"histogram\": [{\"marker\": {\"colorbar\": {\"outlinewidth\": 0, \"ticks\": \"\"}}, \"type\": \"histogram\"}], \"histogram2d\": [{\"colorbar\": {\"outlinewidth\": 0, \"ticks\": \"\"}, \"colorscale\": [[0.0, \"#0d0887\"], [0.1111111111111111, \"#46039f\"], [0.2222222222222222, \"#7201a8\"], [0.3333333333333333, \"#9c179e\"], [0.4444444444444444, \"#bd3786\"], [0.5555555555555556, \"#d8576b\"], [0.6666666666666666, \"#ed7953\"], [0.7777777777777778, \"#fb9f3a\"], [0.8888888888888888, \"#fdca26\"], [1.0, \"#f0f921\"]], \"type\": \"histogram2d\"}], \"histogram2dcontour\": [{\"colorbar\": {\"outlinewidth\": 0, \"ticks\": \"\"}, \"colorscale\": [[0.0, \"#0d0887\"], [0.1111111111111111, \"#46039f\"], [0.2222222222222222, \"#7201a8\"], [0.3333333333333333, \"#9c179e\"], [0.4444444444444444, \"#bd3786\"], [0.5555555555555556, \"#d8576b\"], [0.6666666666666666, \"#ed7953\"], [0.7777777777777778, \"#fb9f3a\"], [0.8888888888888888, \"#fdca26\"], [1.0, \"#f0f921\"]], \"type\": \"histogram2dcontour\"}], \"mesh3d\": [{\"colorbar\": {\"outlinewidth\": 0, \"ticks\": \"\"}, \"type\": \"mesh3d\"}], \"parcoords\": [{\"line\": {\"colorbar\": {\"outlinewidth\": 0, \"ticks\": \"\"}}, \"type\": \"parcoords\"}], \"pie\": [{\"automargin\": true, \"type\": \"pie\"}], \"scatter\": [{\"marker\": {\"colorbar\": {\"outlinewidth\": 0, \"ticks\": \"\"}}, \"type\": \"scatter\"}], \"scatter3d\": [{\"line\": {\"colorbar\": {\"outlinewidth\": 0, \"ticks\": \"\"}}, \"marker\": {\"colorbar\": {\"outlinewidth\": 0, \"ticks\": \"\"}}, \"type\": \"scatter3d\"}], \"scattercarpet\": [{\"marker\": {\"colorbar\": {\"outlinewidth\": 0, \"ticks\": \"\"}}, \"type\": \"scattercarpet\"}], \"scattergeo\": [{\"marker\": {\"colorbar\": {\"outlinewidth\": 0, \"ticks\": \"\"}}, \"type\": \"scattergeo\"}], \"scattergl\": [{\"marker\": {\"colorbar\": {\"outlinewidth\": 0, \"ticks\": \"\"}}, \"type\": \"scattergl\"}], \"scattermapbox\": [{\"marker\": {\"colorbar\": {\"outlinewidth\": 0, \"ticks\": \"\"}}, \"type\": \"scattermapbox\"}], \"scatterpolar\": [{\"marker\": {\"colorbar\": {\"outlinewidth\": 0, \"ticks\": \"\"}}, \"type\": \"scatterpolar\"}], \"scatterpolargl\": [{\"marker\": {\"colorbar\": {\"outlinewidth\": 0, \"ticks\": \"\"}}, \"type\": \"scatterpolargl\"}], \"scatterternary\": [{\"marker\": {\"colorbar\": {\"outlinewidth\": 0, \"ticks\": \"\"}}, \"type\": \"scatterternary\"}], \"surface\": [{\"colorbar\": {\"outlinewidth\": 0, \"ticks\": \"\"}, \"colorscale\": [[0.0, \"#0d0887\"], [0.1111111111111111, \"#46039f\"], [0.2222222222222222, \"#7201a8\"], [0.3333333333333333, \"#9c179e\"], [0.4444444444444444, \"#bd3786\"], [0.5555555555555556, \"#d8576b\"], [0.6666666666666666, \"#ed7953\"], [0.7777777777777778, \"#fb9f3a\"], [0.8888888888888888, \"#fdca26\"], [1.0, \"#f0f921\"]], \"type\": \"surface\"}], \"table\": [{\"cells\": {\"fill\": {\"color\": \"#EBF0F8\"}, \"line\": {\"color\": \"white\"}}, \"header\": {\"fill\": {\"color\": \"#C8D4E3\"}, \"line\": {\"color\": \"white\"}}, \"type\": \"table\"}]}, \"layout\": {\"annotationdefaults\": {\"arrowcolor\": \"#2a3f5f\", \"arrowhead\": 0, \"arrowwidth\": 1}, \"coloraxis\": {\"colorbar\": {\"outlinewidth\": 0, \"ticks\": \"\"}}, \"colorscale\": {\"diverging\": [[0, \"#8e0152\"], [0.1, \"#c51b7d\"], [0.2, \"#de77ae\"], [0.3, \"#f1b6da\"], [0.4, \"#fde0ef\"], [0.5, \"#f7f7f7\"], [0.6, \"#e6f5d0\"], [0.7, \"#b8e186\"], [0.8, \"#7fbc41\"], [0.9, \"#4d9221\"], [1, \"#276419\"]], \"sequential\": [[0.0, \"#0d0887\"], [0.1111111111111111, \"#46039f\"], [0.2222222222222222, \"#7201a8\"], [0.3333333333333333, \"#9c179e\"], [0.4444444444444444, \"#bd3786\"], [0.5555555555555556, \"#d8576b\"], [0.6666666666666666, \"#ed7953\"], [0.7777777777777778, \"#fb9f3a\"], [0.8888888888888888, \"#fdca26\"], [1.0, \"#f0f921\"]], \"sequentialminus\": [[0.0, \"#0d0887\"], [0.1111111111111111, \"#46039f\"], [0.2222222222222222, \"#7201a8\"], [0.3333333333333333, \"#9c179e\"], [0.4444444444444444, \"#bd3786\"], [0.5555555555555556, \"#d8576b\"], [0.6666666666666666, \"#ed7953\"], [0.7777777777777778, \"#fb9f3a\"], [0.8888888888888888, \"#fdca26\"], [1.0, \"#f0f921\"]]}, \"colorway\": [\"#636efa\", \"#EF553B\", \"#00cc96\", \"#ab63fa\", \"#FFA15A\", \"#19d3f3\", \"#FF6692\", \"#B6E880\", \"#FF97FF\", \"#FECB52\"], \"font\": {\"color\": \"#2a3f5f\"}, \"geo\": {\"bgcolor\": \"white\", \"lakecolor\": \"white\", \"landcolor\": \"#E5ECF6\", \"showlakes\": true, \"showland\": true, \"subunitcolor\": \"white\"}, \"hoverlabel\": {\"align\": \"left\"}, \"hovermode\": \"closest\", \"mapbox\": {\"style\": \"light\"}, \"paper_bgcolor\": \"white\", \"plot_bgcolor\": \"#E5ECF6\", \"polar\": {\"angularaxis\": {\"gridcolor\": \"white\", \"linecolor\": \"white\", \"ticks\": \"\"}, \"bgcolor\": \"#E5ECF6\", \"radialaxis\": {\"gridcolor\": \"white\", \"linecolor\": \"white\", \"ticks\": \"\"}}, \"scene\": {\"xaxis\": {\"backgroundcolor\": \"#E5ECF6\", \"gridcolor\": \"white\", \"gridwidth\": 2, \"linecolor\": \"white\", \"showbackground\": true, \"ticks\": \"\", \"zerolinecolor\": \"white\"}, \"yaxis\": {\"backgroundcolor\": \"#E5ECF6\", \"gridcolor\": \"white\", \"gridwidth\": 2, \"linecolor\": \"white\", \"showbackground\": true, \"ticks\": \"\", \"zerolinecolor\": \"white\"}, \"zaxis\": {\"backgroundcolor\": \"#E5ECF6\", \"gridcolor\": \"white\", \"gridwidth\": 2, \"linecolor\": \"white\", \"showbackground\": true, \"ticks\": \"\", \"zerolinecolor\": \"white\"}}, \"shapedefaults\": {\"line\": {\"color\": \"#2a3f5f\"}}, \"ternary\": {\"aaxis\": {\"gridcolor\": \"white\", \"linecolor\": \"white\", \"ticks\": \"\"}, \"baxis\": {\"gridcolor\": \"white\", \"linecolor\": \"white\", \"ticks\": \"\"}, \"bgcolor\": \"#E5ECF6\", \"caxis\": {\"gridcolor\": \"white\", \"linecolor\": \"white\", \"ticks\": \"\"}}, \"title\": {\"x\": 0.05}, \"xaxis\": {\"automargin\": true, \"gridcolor\": \"white\", \"linecolor\": \"white\", \"ticks\": \"\", \"title\": {\"standoff\": 15}, \"zerolinecolor\": \"white\", \"zerolinewidth\": 2}, \"yaxis\": {\"automargin\": true, \"gridcolor\": \"white\", \"linecolor\": \"white\", \"ticks\": \"\", \"title\": {\"standoff\": 15}, \"zerolinecolor\": \"white\", \"zerolinewidth\": 2}}}, \"title\": {\"text\": \"CNN Architectures\"}, \"xaxis\": {\"anchor\": \"y\", \"categoryarray\": [\"NiN\", \"Alexnet\", \"VGG-16\"], \"categoryorder\": \"array\", \"domain\": [0.0, 1.0], \"title\": {\"text\": \"architecture\"}}, \"yaxis\": {\"anchor\": \"x\", \"domain\": [0.0, 1.0], \"title\": {\"text\": \"Testing_Accuracy\"}}},\n",
              "                        {\"responsive\": true}\n",
              "                    ).then(function(){\n",
              "                            \n",
              "var gd = document.getElementById('56b3630d-c173-4ca7-91aa-f91b1d705df3');\n",
              "var x = new MutationObserver(function (mutations, observer) {{\n",
              "        var display = window.getComputedStyle(gd).display;\n",
              "        if (!display || display === 'none') {{\n",
              "            console.log([gd, 'removed!']);\n",
              "            Plotly.purge(gd);\n",
              "            observer.disconnect();\n",
              "        }}\n",
              "}});\n",
              "\n",
              "// Listen for the removal of the full notebook cells\n",
              "var notebookContainer = gd.closest('#notebook-container');\n",
              "if (notebookContainer) {{\n",
              "    x.observe(notebookContainer, {childList: true});\n",
              "}}\n",
              "\n",
              "// Listen for the clearing of the current output cell\n",
              "var outputEl = gd.closest('.output');\n",
              "if (outputEl) {{\n",
              "    x.observe(outputEl, {childList: true});\n",
              "}}\n",
              "\n",
              "                        })\n",
              "                };\n",
              "                \n",
              "            </script>\n",
              "        </div>\n",
              "</body>\n",
              "</html>"
            ]
          },
          "metadata": {
            "tags": []
          }
        }
      ]
    },
    {
      "cell_type": "code",
      "metadata": {
        "id": "D1Sfq-3ig0XC"
      },
      "source": [
        ""
      ],
      "execution_count": 25,
      "outputs": []
    },
    {
      "cell_type": "markdown",
      "metadata": {
        "id": "mZHRjiRzhSIm"
      },
      "source": [
        "## **Expiriment 2**"
      ]
    },
    {
      "cell_type": "markdown",
      "metadata": {
        "id": "sMH_opzKBoJ4"
      },
      "source": [
        "### **Activation Function**\r\n"
      ]
    },
    {
      "cell_type": "markdown",
      "metadata": {
        "id": "uPMfkvwejJb2"
      },
      "source": [
        "#### **1. Activation Function**"
      ]
    },
    {
      "cell_type": "code",
      "metadata": {
        "colab": {
          "base_uri": "https://localhost:8080/"
        },
        "id": "H0pEwmCOBrwH",
        "outputId": "0ac98f21-f417-4904-c03b-d73e91e8fa00"
      },
      "source": [
        "model = tf.keras.models.Sequential([\r\n",
        "    \r\n",
        "\r\n",
        "    tf.keras.layers.Conv2D(filters=32, kernel_size=3, padding=\"same\", activation=\"relu\", input_shape=[32,32,3]),\r\n",
        "    tf.keras.layers.Conv2D(filters=32, kernel_size=3,padding=\"same\",activation=\"relu\"),\r\n",
        "    tf.keras.layers.MaxPool2D(pool_size=2),\r\n",
        "\r\n",
        "    tf.keras.layers.Conv2D(filters=64, kernel_size=3,padding=\"same\",activation=\"relu\"),\r\n",
        "    tf.keras.layers.Conv2D(filters=64, kernel_size=3,padding=\"same\",activation=\"relu\"),\r\n",
        "    tf.keras.layers.MaxPool2D(pool_size=2), \r\n",
        "\r\n",
        "    tf.keras.layers.Conv2D(filters=128, kernel_size=3,padding=\"same\",activation=\"relu\"),\r\n",
        "    tf.keras.layers.Conv2D(filters=128, kernel_size=3,padding=\"same\",activation=\"relu\"),\r\n",
        "    tf.keras.layers.MaxPool2D(pool_size=2),\r\n",
        "\r\n",
        "    tf.keras.layers.Flatten(),\r\n",
        "\r\n",
        "    tf.keras.layers.Dense(128,activation=\"relu\"),\r\n",
        "    tf.keras.layers.Dense(10,activation=\"softmax\")\r\n",
        "])\r\n",
        "model.summary()"
      ],
      "execution_count": 26,
      "outputs": [
        {
          "output_type": "stream",
          "text": [
            "Model: \"sequential_3\"\n",
            "_________________________________________________________________\n",
            "Layer (type)                 Output Shape              Param #   \n",
            "=================================================================\n",
            "conv2d_26 (Conv2D)           (None, 32, 32, 32)        896       \n",
            "_________________________________________________________________\n",
            "conv2d_27 (Conv2D)           (None, 32, 32, 32)        9248      \n",
            "_________________________________________________________________\n",
            "max_pooling2d_10 (MaxPooling (None, 16, 16, 32)        0         \n",
            "_________________________________________________________________\n",
            "conv2d_28 (Conv2D)           (None, 16, 16, 64)        18496     \n",
            "_________________________________________________________________\n",
            "conv2d_29 (Conv2D)           (None, 16, 16, 64)        36928     \n",
            "_________________________________________________________________\n",
            "max_pooling2d_11 (MaxPooling (None, 8, 8, 64)          0         \n",
            "_________________________________________________________________\n",
            "conv2d_30 (Conv2D)           (None, 8, 8, 128)         73856     \n",
            "_________________________________________________________________\n",
            "conv2d_31 (Conv2D)           (None, 8, 8, 128)         147584    \n",
            "_________________________________________________________________\n",
            "max_pooling2d_12 (MaxPooling (None, 4, 4, 128)         0         \n",
            "_________________________________________________________________\n",
            "flatten_3 (Flatten)          (None, 2048)              0         \n",
            "_________________________________________________________________\n",
            "dense_6 (Dense)              (None, 128)               262272    \n",
            "_________________________________________________________________\n",
            "dense_7 (Dense)              (None, 10)                1290      \n",
            "=================================================================\n",
            "Total params: 550,570\n",
            "Trainable params: 550,570\n",
            "Non-trainable params: 0\n",
            "_________________________________________________________________\n"
          ],
          "name": "stdout"
        }
      ]
    },
    {
      "cell_type": "code",
      "metadata": {
        "colab": {
          "base_uri": "https://localhost:8080/"
        },
        "id": "1kpBDpmC2RqI",
        "outputId": "e4777707-16dd-4702-be92-18d10940d964"
      },
      "source": [
        "model.compile(loss = \"sparse_categorical_crossentropy\",\r\n",
        "              optimizer =\"adam\",\r\n",
        "              metrics = [\"accuracy\"] )\r\n",
        "\r\n",
        "history = model.fit(X_train, y_train, epochs=10,batch_size=128,)"
      ],
      "execution_count": 27,
      "outputs": [
        {
          "output_type": "stream",
          "text": [
            "Epoch 1/10\n",
            "391/391 [==============================] - 5s 11ms/step - loss: 1.6998 - accuracy: 0.3735\n",
            "Epoch 2/10\n",
            "391/391 [==============================] - 4s 11ms/step - loss: 0.9583 - accuracy: 0.6611\n",
            "Epoch 3/10\n",
            "391/391 [==============================] - 4s 11ms/step - loss: 0.7209 - accuracy: 0.7467\n",
            "Epoch 4/10\n",
            "391/391 [==============================] - 4s 11ms/step - loss: 0.5777 - accuracy: 0.7961\n",
            "Epoch 5/10\n",
            "391/391 [==============================] - 4s 11ms/step - loss: 0.4580 - accuracy: 0.8400\n",
            "Epoch 6/10\n",
            "391/391 [==============================] - 4s 11ms/step - loss: 0.3639 - accuracy: 0.8746\n",
            "Epoch 7/10\n",
            "391/391 [==============================] - 4s 11ms/step - loss: 0.2765 - accuracy: 0.9029\n",
            "Epoch 8/10\n",
            "391/391 [==============================] - 4s 11ms/step - loss: 0.2135 - accuracy: 0.9252\n",
            "Epoch 9/10\n",
            "391/391 [==============================] - 4s 11ms/step - loss: 0.1618 - accuracy: 0.9431\n",
            "Epoch 10/10\n",
            "391/391 [==============================] - 4s 11ms/step - loss: 0.1262 - accuracy: 0.9563\n"
          ],
          "name": "stdout"
        }
      ]
    },
    {
      "cell_type": "code",
      "metadata": {
        "colab": {
          "base_uri": "https://localhost:8080/",
          "height": 295
        },
        "id": "5gEV1Xki2Rs_",
        "outputId": "b7c966f2-bb62-4c74-ef35-fccc7cad31f1"
      },
      "source": [
        "\r\n",
        "if int(tf.__version__.split('.')[0]) > 1:\r\n",
        "    acc_key = 'accuracy'\r\n",
        "else:\r\n",
        "    acc_key = 'acc'\r\n",
        "\r\n",
        "\r\n",
        "acc      = history.history[acc_key]\r\n",
        "loss     = history.history['loss']\r\n",
        "epochs   = range(1,len(acc)+1) # Get number of epochs\r\n",
        "\r\n",
        "\r\n",
        "plt.plot(epochs, acc,  label='Training accuracy')\r\n",
        "plt.title('Training accuracy')\r\n",
        "plt.xticks(epochs)\r\n",
        "plt.xlabel('epoch')\r\n",
        "plt.ylabel('accuracy')\r\n",
        "plt.legend();"
      ],
      "execution_count": 28,
      "outputs": [
        {
          "output_type": "display_data",
          "data": {
            "image/png": "[encoded data removed]",
            "text/plain": [
              "<Figure size 432x288 with 1 Axes>"
            ]
          },
          "metadata": {
            "tags": [],
            "needs_background": "light"
          }
        }
      ]
    },
    {
      "cell_type": "code",
      "metadata": {
        "colab": {
          "base_uri": "https://localhost:8080/"
        },
        "id": "NsT4qc5O2Rv4",
        "outputId": "6b233f3d-4559-4f7e-920b-fcda349aea8f"
      },
      "source": [
        "\r\n",
        "\r\n",
        "test_loss, test_accuracy = model.evaluate(X_test, y_test, batch_size=128 , verbose=2)\r\n",
        "print('Accuracy on test dataset:', test_accuracy)"
      ],
      "execution_count": 29,
      "outputs": [
        {
          "output_type": "stream",
          "text": [
            "79/79 - 0s - loss: 0.9451 - accuracy: 0.7764\n",
            "Accuracy on test dataset: 0.7764000296592712\n"
          ],
          "name": "stdout"
        }
      ]
    },
    {
      "cell_type": "markdown",
      "metadata": {
        "id": "toJPdremjQCu"
      },
      "source": [
        "#### **2. Data Visualisation Activation Function**"
      ]
    },
    {
      "cell_type": "code",
      "metadata": {
        "colab": {
          "base_uri": "https://localhost:8080/",
          "height": 0
        },
        "id": "FmUWqVIzjceT",
        "outputId": "76cd9d22-96e8-45e6-cfdc-08bde6af318c"
      },
      "source": [
        "import pandas as pd\r\n",
        "\r\n",
        "\r\n",
        "d = {'Activation_Function': [\"Sigmoid\",\"Softplus\",\"Tanh\",\"Selu\",\"Elu\",\"Softsign\",\"Relu\"], 'Training_Accuracy': [64.3,92.2,93.3,93.2,95.1,94.0,97.5], 'Testing_Accuracy': [59.9,65.1,72.3,73.6,75.9,76.6,77.4]}\r\n",
        "\r\n",
        "\r\n",
        "df = pd.DataFrame(data=d)\r\n",
        "df.sort_values(by='Testing_Accuracy', ascending=False)\r\n",
        "df"
      ],
      "execution_count": 30,
      "outputs": [
        {
          "output_type": "execute_result",
          "data": {
            "text/html": [
              "<div>\n",
              "<style scoped>\n",
              "    .dataframe tbody tr th:only-of-type {\n",
              "        vertical-align: middle;\n",
              "    }\n",
              "\n",
              "    .dataframe tbody tr th {\n",
              "        vertical-align: top;\n",
              "    }\n",
              "\n",
              "    .dataframe thead th {\n",
              "        text-align: right;\n",
              "    }\n",
              "</style>\n",
              "<table border=\"1\" class=\"dataframe\">\n",
              "  <thead>\n",
              "    <tr style=\"text-align: right;\">\n",
              "      <th></th>\n",
              "      <th>Activation_Function</th>\n",
              "      <th>Training_Accuracy</th>\n",
              "      <th>Testing_Accuracy</th>\n",
              "    </tr>\n",
              "  </thead>\n",
              "  <tbody>\n",
              "    <tr>\n",
              "      <th>0</th>\n",
              "      <td>Sigmoid</td>\n",
              "      <td>64.3</td>\n",
              "      <td>59.9</td>\n",
              "    </tr>\n",
              "    <tr>\n",
              "      <th>1</th>\n",
              "      <td>Softplus</td>\n",
              "      <td>92.2</td>\n",
              "      <td>65.1</td>\n",
              "    </tr>\n",
              "    <tr>\n",
              "      <th>2</th>\n",
              "      <td>Tanh</td>\n",
              "      <td>93.3</td>\n",
              "      <td>72.3</td>\n",
              "    </tr>\n",
              "    <tr>\n",
              "      <th>3</th>\n",
              "      <td>Selu</td>\n",
              "      <td>93.2</td>\n",
              "      <td>73.6</td>\n",
              "    </tr>\n",
              "    <tr>\n",
              "      <th>4</th>\n",
              "      <td>Elu</td>\n",
              "      <td>95.1</td>\n",
              "      <td>75.9</td>\n",
              "    </tr>\n",
              "    <tr>\n",
              "      <th>5</th>\n",
              "      <td>Softsign</td>\n",
              "      <td>94.0</td>\n",
              "      <td>76.6</td>\n",
              "    </tr>\n",
              "    <tr>\n",
              "      <th>6</th>\n",
              "      <td>Relu</td>\n",
              "      <td>97.5</td>\n",
              "      <td>77.4</td>\n",
              "    </tr>\n",
              "  </tbody>\n",
              "</table>\n",
              "</div>"
            ],
            "text/plain": [
              "  Activation_Function  Training_Accuracy  Testing_Accuracy\n",
              "0             Sigmoid               64.3              59.9\n",
              "1            Softplus               92.2              65.1\n",
              "2                Tanh               93.3              72.3\n",
              "3                Selu               93.2              73.6\n",
              "4                 Elu               95.1              75.9\n",
              "5            Softsign               94.0              76.6\n",
              "6                Relu               97.5              77.4"
            ]
          },
          "metadata": {
            "tags": []
          },
          "execution_count": 30
        }
      ]
    },
    {
      "cell_type": "code",
      "metadata": {
        "colab": {
          "base_uri": "https://localhost:8080/",
          "height": 0
        },
        "id": "0y9VpRVvjonf",
        "outputId": "b0b7914c-603c-439d-f2f5-93a8da8e21f8"
      },
      "source": [
        "import plotly.graph_objects as go\r\n",
        "\r\n",
        "\r\n",
        "fig = go.Figure()\r\n",
        "# Create and style traces\r\n",
        "\r\n",
        "fig.add_trace(go.Scatter(x=df['Activation_Function'], y=df['Testing_Accuracy'],\r\n",
        "                         line=dict(color='firebrick', width=4, dash='dash')))\r\n",
        "\r\n",
        "# Edit the layout\r\n",
        "fig.update_layout(title='Expirimenting Different Activation Functions',\r\n",
        "                   xaxis_title='Activation Function',\r\n",
        "                   yaxis_title='Testing Accuracy')\r\n",
        "\r\n",
        "\r\n",
        "fig.show()\r\n"
      ],
      "execution_count": 31,
      "outputs": [
        {
          "output_type": "display_data",
          "data": {
            "text/html": [
              "<html>\n",
              "<head><meta charset=\"utf-8\" /></head>\n",
              "<body>\n",
              "    <div>\n",
              "            <script src=\"https://cdnjs.cloudflare.com/ajax/libs/mathjax/2.7.5/MathJax.js?config=TeX-AMS-MML_SVG\"></script><script type=\"text/javascript\">if (window.MathJax) {MathJax.Hub.Config({SVG: {font: \"STIX-Web\"}});}</script>\n",
              "                <script type=\"text/javascript\">window.PlotlyConfig = {MathJaxConfig: 'local'};</script>\n",
              "        <script src=\"https://cdn.plot.ly/plotly-latest.min.js\"></script>    \n",
              "            <div id=\"c64ac9ab-a923-4862-a48c-d71289a3deb2\" class=\"plotly-graph-div\" style=\"height:525px; width:100%;\"></div>\n",
              "            <script type=\"text/javascript\">\n",
              "                \n",
              "                    window.PLOTLYENV=window.PLOTLYENV || {};\n",
              "                    \n",
              "                if (document.getElementById(\"c64ac9ab-a923-4862-a48c-d71289a3deb2\")) {\n",
              "                    Plotly.newPlot(\n",
              "                        'c64ac9ab-a923-4862-a48c-d71289a3deb2',\n",
              "                        [{\"line\": {\"color\": \"firebrick\", \"dash\": \"dash\", \"width\": 4}, \"type\": \"scatter\", \"x\": [\"Sigmoid\", \"Softplus\", \"Tanh\", \"Selu\", \"Elu\", \"Softsign\", \"Relu\"], \"y\": [59.9, 65.1, 72.3, 73.6, 75.9, 76.6, 77.4]}],\n",
              "                        {\"template\": {\"data\": {\"bar\": [{\"error_x\": {\"color\": \"#2a3f5f\"}, \"error_y\": {\"color\": \"#2a3f5f\"}, \"marker\": {\"line\": {\"color\": \"#E5ECF6\", \"width\": 0.5}}, \"type\": \"bar\"}], \"barpolar\": [{\"marker\": {\"line\": {\"color\": \"#E5ECF6\", \"width\": 0.5}}, \"type\": \"barpolar\"}], \"carpet\": [{\"aaxis\": {\"endlinecolor\": \"#2a3f5f\", \"gridcolor\": \"white\", \"linecolor\": \"white\", \"minorgridcolor\": \"white\", \"startlinecolor\": \"#2a3f5f\"}, \"baxis\": {\"endlinecolor\": \"#2a3f5f\", \"gridcolor\": \"white\", \"linecolor\": \"white\", \"minorgridcolor\": \"white\", \"startlinecolor\": \"#2a3f5f\"}, \"type\": \"carpet\"}], \"choropleth\": [{\"colorbar\": {\"outlinewidth\": 0, \"ticks\": \"\"}, \"type\": \"choropleth\"}], \"contour\": [{\"colorbar\": {\"outlinewidth\": 0, \"ticks\": \"\"}, \"colorscale\": [[0.0, \"#0d0887\"], [0.1111111111111111, \"#46039f\"], [0.2222222222222222, \"#7201a8\"], [0.3333333333333333, \"#9c179e\"], [0.4444444444444444, \"#bd3786\"], [0.5555555555555556, \"#d8576b\"], [0.6666666666666666, \"#ed7953\"], [0.7777777777777778, \"#fb9f3a\"], [0.8888888888888888, \"#fdca26\"], [1.0, \"#f0f921\"]], \"type\": \"contour\"}], \"contourcarpet\": [{\"colorbar\": {\"outlinewidth\": 0, \"ticks\": \"\"}, \"type\": \"contourcarpet\"}], \"heatmap\": [{\"colorbar\": {\"outlinewidth\": 0, \"ticks\": \"\"}, \"colorscale\": [[0.0, \"#0d0887\"], [0.1111111111111111, \"#46039f\"], [0.2222222222222222, \"#7201a8\"], [0.3333333333333333, \"#9c179e\"], [0.4444444444444444, \"#bd3786\"], [0.5555555555555556, \"#d8576b\"], [0.6666666666666666, \"#ed7953\"], [0.7777777777777778, \"#fb9f3a\"], [0.8888888888888888, \"#fdca26\"], [1.0, \"#f0f921\"]], \"type\": \"heatmap\"}], \"heatmapgl\": [{\"colorbar\": {\"outlinewidth\": 0, \"ticks\": \"\"}, \"colorscale\": [[0.0, \"#0d0887\"], [0.1111111111111111, \"#46039f\"], [0.2222222222222222, \"#7201a8\"], [0.3333333333333333, \"#9c179e\"], [0.4444444444444444, \"#bd3786\"], [0.5555555555555556, \"#d8576b\"], [0.6666666666666666, \"#ed7953\"], [0.7777777777777778, \"#fb9f3a\"], [0.8888888888888888, \"#fdca26\"], [1.0, \"#f0f921\"]], \"type\": \"heatmapgl\"}], \"histogram\": [{\"marker\": {\"colorbar\": {\"outlinewidth\": 0, \"ticks\": \"\"}}, \"type\": \"histogram\"}], \"histogram2d\": [{\"colorbar\": {\"outlinewidth\": 0, \"ticks\": \"\"}, \"colorscale\": [[0.0, \"#0d0887\"], [0.1111111111111111, \"#46039f\"], [0.2222222222222222, \"#7201a8\"], [0.3333333333333333, \"#9c179e\"], [0.4444444444444444, \"#bd3786\"], [0.5555555555555556, \"#d8576b\"], [0.6666666666666666, \"#ed7953\"], [0.7777777777777778, \"#fb9f3a\"], [0.8888888888888888, \"#fdca26\"], [1.0, \"#f0f921\"]], \"type\": \"histogram2d\"}], \"histogram2dcontour\": [{\"colorbar\": {\"outlinewidth\": 0, \"ticks\": \"\"}, \"colorscale\": [[0.0, \"#0d0887\"], [0.1111111111111111, \"#46039f\"], [0.2222222222222222, \"#7201a8\"], [0.3333333333333333, \"#9c179e\"], [0.4444444444444444, \"#bd3786\"], [0.5555555555555556, \"#d8576b\"], [0.6666666666666666, \"#ed7953\"], [0.7777777777777778, \"#fb9f3a\"], [0.8888888888888888, \"#fdca26\"], [1.0, \"#f0f921\"]], \"type\": \"histogram2dcontour\"}], \"mesh3d\": [{\"colorbar\": {\"outlinewidth\": 0, \"ticks\": \"\"}, \"type\": \"mesh3d\"}], \"parcoords\": [{\"line\": {\"colorbar\": {\"outlinewidth\": 0, \"ticks\": \"\"}}, \"type\": \"parcoords\"}], \"pie\": [{\"automargin\": true, \"type\": \"pie\"}], \"scatter\": [{\"marker\": {\"colorbar\": {\"outlinewidth\": 0, \"ticks\": \"\"}}, \"type\": \"scatter\"}], \"scatter3d\": [{\"line\": {\"colorbar\": {\"outlinewidth\": 0, \"ticks\": \"\"}}, \"marker\": {\"colorbar\": {\"outlinewidth\": 0, \"ticks\": \"\"}}, \"type\": \"scatter3d\"}], \"scattercarpet\": [{\"marker\": {\"colorbar\": {\"outlinewidth\": 0, \"ticks\": \"\"}}, \"type\": \"scattercarpet\"}], \"scattergeo\": [{\"marker\": {\"colorbar\": {\"outlinewidth\": 0, \"ticks\": \"\"}}, \"type\": \"scattergeo\"}], \"scattergl\": [{\"marker\": {\"colorbar\": {\"outlinewidth\": 0, \"ticks\": \"\"}}, \"type\": \"scattergl\"}], \"scattermapbox\": [{\"marker\": {\"colorbar\": {\"outlinewidth\": 0, \"ticks\": \"\"}}, \"type\": \"scattermapbox\"}], \"scatterpolar\": [{\"marker\": {\"colorbar\": {\"outlinewidth\": 0, \"ticks\": \"\"}}, \"type\": \"scatterpolar\"}], \"scatterpolargl\": [{\"marker\": {\"colorbar\": {\"outlinewidth\": 0, \"ticks\": \"\"}}, \"type\": \"scatterpolargl\"}], \"scatterternary\": [{\"marker\": {\"colorbar\": {\"outlinewidth\": 0, \"ticks\": \"\"}}, \"type\": \"scatterternary\"}], \"surface\": [{\"colorbar\": {\"outlinewidth\": 0, \"ticks\": \"\"}, \"colorscale\": [[0.0, \"#0d0887\"], [0.1111111111111111, \"#46039f\"], [0.2222222222222222, \"#7201a8\"], [0.3333333333333333, \"#9c179e\"], [0.4444444444444444, \"#bd3786\"], [0.5555555555555556, \"#d8576b\"], [0.6666666666666666, \"#ed7953\"], [0.7777777777777778, \"#fb9f3a\"], [0.8888888888888888, \"#fdca26\"], [1.0, \"#f0f921\"]], \"type\": \"surface\"}], \"table\": [{\"cells\": {\"fill\": {\"color\": \"#EBF0F8\"}, \"line\": {\"color\": \"white\"}}, \"header\": {\"fill\": {\"color\": \"#C8D4E3\"}, \"line\": {\"color\": \"white\"}}, \"type\": \"table\"}]}, \"layout\": {\"annotationdefaults\": {\"arrowcolor\": \"#2a3f5f\", \"arrowhead\": 0, \"arrowwidth\": 1}, \"coloraxis\": {\"colorbar\": {\"outlinewidth\": 0, \"ticks\": \"\"}}, \"colorscale\": {\"diverging\": [[0, \"#8e0152\"], [0.1, \"#c51b7d\"], [0.2, \"#de77ae\"], [0.3, \"#f1b6da\"], [0.4, \"#fde0ef\"], [0.5, \"#f7f7f7\"], [0.6, \"#e6f5d0\"], [0.7, \"#b8e186\"], [0.8, \"#7fbc41\"], [0.9, \"#4d9221\"], [1, \"#276419\"]], \"sequential\": [[0.0, \"#0d0887\"], [0.1111111111111111, \"#46039f\"], [0.2222222222222222, \"#7201a8\"], [0.3333333333333333, \"#9c179e\"], [0.4444444444444444, \"#bd3786\"], [0.5555555555555556, \"#d8576b\"], [0.6666666666666666, \"#ed7953\"], [0.7777777777777778, \"#fb9f3a\"], [0.8888888888888888, \"#fdca26\"], [1.0, \"#f0f921\"]], \"sequentialminus\": [[0.0, \"#0d0887\"], [0.1111111111111111, \"#46039f\"], [0.2222222222222222, \"#7201a8\"], [0.3333333333333333, \"#9c179e\"], [0.4444444444444444, \"#bd3786\"], [0.5555555555555556, \"#d8576b\"], [0.6666666666666666, \"#ed7953\"], [0.7777777777777778, \"#fb9f3a\"], [0.8888888888888888, \"#fdca26\"], [1.0, \"#f0f921\"]]}, \"colorway\": [\"#636efa\", \"#EF553B\", \"#00cc96\", \"#ab63fa\", \"#FFA15A\", \"#19d3f3\", \"#FF6692\", \"#B6E880\", \"#FF97FF\", \"#FECB52\"], \"font\": {\"color\": \"#2a3f5f\"}, \"geo\": {\"bgcolor\": \"white\", \"lakecolor\": \"white\", \"landcolor\": \"#E5ECF6\", \"showlakes\": true, \"showland\": true, \"subunitcolor\": \"white\"}, \"hoverlabel\": {\"align\": \"left\"}, \"hovermode\": \"closest\", \"mapbox\": {\"style\": \"light\"}, \"paper_bgcolor\": \"white\", \"plot_bgcolor\": \"#E5ECF6\", \"polar\": {\"angularaxis\": {\"gridcolor\": \"white\", \"linecolor\": \"white\", \"ticks\": \"\"}, \"bgcolor\": \"#E5ECF6\", \"radialaxis\": {\"gridcolor\": \"white\", \"linecolor\": \"white\", \"ticks\": \"\"}}, \"scene\": {\"xaxis\": {\"backgroundcolor\": \"#E5ECF6\", \"gridcolor\": \"white\", \"gridwidth\": 2, \"linecolor\": \"white\", \"showbackground\": true, \"ticks\": \"\", \"zerolinecolor\": \"white\"}, \"yaxis\": {\"backgroundcolor\": \"#E5ECF6\", \"gridcolor\": \"white\", \"gridwidth\": 2, \"linecolor\": \"white\", \"showbackground\": true, \"ticks\": \"\", \"zerolinecolor\": \"white\"}, \"zaxis\": {\"backgroundcolor\": \"#E5ECF6\", \"gridcolor\": \"white\", \"gridwidth\": 2, \"linecolor\": \"white\", \"showbackground\": true, \"ticks\": \"\", \"zerolinecolor\": \"white\"}}, \"shapedefaults\": {\"line\": {\"color\": \"#2a3f5f\"}}, \"ternary\": {\"aaxis\": {\"gridcolor\": \"white\", \"linecolor\": \"white\", \"ticks\": \"\"}, \"baxis\": {\"gridcolor\": \"white\", \"linecolor\": \"white\", \"ticks\": \"\"}, \"bgcolor\": \"#E5ECF6\", \"caxis\": {\"gridcolor\": \"white\", \"linecolor\": \"white\", \"ticks\": \"\"}}, \"title\": {\"x\": 0.05}, \"xaxis\": {\"automargin\": true, \"gridcolor\": \"white\", \"linecolor\": \"white\", \"ticks\": \"\", \"title\": {\"standoff\": 15}, \"zerolinecolor\": \"white\", \"zerolinewidth\": 2}, \"yaxis\": {\"automargin\": true, \"gridcolor\": \"white\", \"linecolor\": \"white\", \"ticks\": \"\", \"title\": {\"standoff\": 15}, \"zerolinecolor\": \"white\", \"zerolinewidth\": 2}}}, \"title\": {\"text\": \"Expirimenting Different Activation Functions\"}, \"xaxis\": {\"title\": {\"text\": \"Activation Function\"}}, \"yaxis\": {\"title\": {\"text\": \"Testing Accuracy\"}}},\n",
              "                        {\"responsive\": true}\n",
              "                    ).then(function(){\n",
              "                            \n",
              "var gd = document.getElementById('c64ac9ab-a923-4862-a48c-d71289a3deb2');\n",
              "var x = new MutationObserver(function (mutations, observer) {{\n",
              "        var display = window.getComputedStyle(gd).display;\n",
              "        if (!display || display === 'none') {{\n",
              "            console.log([gd, 'removed!']);\n",
              "            Plotly.purge(gd);\n",
              "            observer.disconnect();\n",
              "        }}\n",
              "}});\n",
              "\n",
              "// Listen for the removal of the full notebook cells\n",
              "var notebookContainer = gd.closest('#notebook-container');\n",
              "if (notebookContainer) {{\n",
              "    x.observe(notebookContainer, {childList: true});\n",
              "}}\n",
              "\n",
              "// Listen for the clearing of the current output cell\n",
              "var outputEl = gd.closest('.output');\n",
              "if (outputEl) {{\n",
              "    x.observe(outputEl, {childList: true});\n",
              "}}\n",
              "\n",
              "                        })\n",
              "                };\n",
              "                \n",
              "            </script>\n",
              "        </div>\n",
              "</body>\n",
              "</html>"
            ]
          },
          "metadata": {
            "tags": []
          }
        }
      ]
    },
    {
      "cell_type": "code",
      "metadata": {
        "colab": {
          "base_uri": "https://localhost:8080/",
          "height": 0
        },
        "id": "seVIKdg0jor_",
        "outputId": "758034d5-003c-4bef-ceee-0fb737d01017"
      },
      "source": [
        "\r\n",
        "\r\n",
        "import matplotlib.pyplot as plt\r\n",
        "   \r\n",
        "Year = df.Activation_Function\r\n",
        "Unemployment_Rate = df.Testing_Accuracy\r\n",
        "  \r\n",
        "plt.plot(Year, Unemployment_Rate, color='red', marker='o')\r\n",
        "plt.title('Activaiton Functions', fontsize=14)\r\n",
        "plt.xlabel('Activation Function', fontsize=14)\r\n",
        "plt.ylabel('Testing_Accuracy', fontsize=14)\r\n",
        "plt.grid(True)\r\n",
        "plt.show()"
      ],
      "execution_count": 32,
      "outputs": [
        {
          "output_type": "display_data",
          "data": {
            "image/png": "[encoded data removed]",
            "text/plain": [
              "<Figure size 432x288 with 1 Axes>"
            ]
          },
          "metadata": {
            "tags": [],
            "needs_background": "light"
          }
        }
      ]
    },
    {
      "cell_type": "markdown",
      "metadata": {
        "id": "UZyT8QXXhKTw"
      },
      "source": [
        "## **Expiriments 3**"
      ]
    },
    {
      "cell_type": "markdown",
      "metadata": {
        "id": "sHVmMmEdgriY"
      },
      "source": [
        "### **Filter Size**"
      ]
    },
    {
      "cell_type": "markdown",
      "metadata": {
        "id": "01sZoFTrkBfU"
      },
      "source": [
        "##### **1. Filter Size Experiment**\r\n",
        "Change the filter according \r\n",
        "- 1x1\r\n",
        "- 2x2\r\n",
        "- 3x3\r\n",
        "- 4x4\r\n",
        "- 5x5"
      ]
    },
    {
      "cell_type": "code",
      "metadata": {
        "colab": {
          "base_uri": "https://localhost:8080/"
        },
        "id": "U9fWIbNegzyw",
        "outputId": "1e5017c1-397b-487f-b8cf-77728491e717"
      },
      "source": [
        "\r\n",
        "model = tf.keras.models.Sequential([\r\n",
        "    \r\n",
        "\r\n",
        "    tf.keras.layers.Conv2D(filters=32, kernel_size=3, padding=\"same\", activation=\"relu\", input_shape=[32,32,3]),\r\n",
        "    tf.keras.layers.Conv2D(filters=32, kernel_size=3,padding=\"same\",activation=\"relu\"),\r\n",
        "    tf.keras.layers.MaxPool2D(pool_size=2),\r\n",
        "\r\n",
        "    tf.keras.layers.Conv2D(filters=64, kernel_size=3,padding=\"same\",activation=\"relu\"),\r\n",
        "    tf.keras.layers.Conv2D(filters=64, kernel_size=3,padding=\"same\",activation=\"relu\"),\r\n",
        "    tf.keras.layers.MaxPool2D(pool_size=2), \r\n",
        "\r\n",
        "    tf.keras.layers.Conv2D(filters=128, kernel_size=3,padding=\"same\",activation=\"relu\"),\r\n",
        "    tf.keras.layers.Conv2D(filters=128, kernel_size=3,padding=\"same\",activation=\"relu\"),\r\n",
        "    tf.keras.layers.MaxPool2D(pool_size=2),\r\n",
        "\r\n",
        "    tf.keras.layers.Flatten(),\r\n",
        "\r\n",
        "    tf.keras.layers.Dense(128,activation=\"relu\"),\r\n",
        "    tf.keras.layers.Dense(10,activation=\"softmax\")\r\n",
        "])\r\n",
        "model.summary()"
      ],
      "execution_count": 33,
      "outputs": [
        {
          "output_type": "stream",
          "text": [
            "Model: \"sequential_4\"\n",
            "_________________________________________________________________\n",
            "Layer (type)                 Output Shape              Param #   \n",
            "=================================================================\n",
            "conv2d_32 (Conv2D)           (None, 32, 32, 32)        896       \n",
            "_________________________________________________________________\n",
            "conv2d_33 (Conv2D)           (None, 32, 32, 32)        9248      \n",
            "_________________________________________________________________\n",
            "max_pooling2d_13 (MaxPooling (None, 16, 16, 32)        0         \n",
            "_________________________________________________________________\n",
            "conv2d_34 (Conv2D)           (None, 16, 16, 64)        18496     \n",
            "_________________________________________________________________\n",
            "conv2d_35 (Conv2D)           (None, 16, 16, 64)        36928     \n",
            "_________________________________________________________________\n",
            "max_pooling2d_14 (MaxPooling (None, 8, 8, 64)          0         \n",
            "_________________________________________________________________\n",
            "conv2d_36 (Conv2D)           (None, 8, 8, 128)         73856     \n",
            "_________________________________________________________________\n",
            "conv2d_37 (Conv2D)           (None, 8, 8, 128)         147584    \n",
            "_________________________________________________________________\n",
            "max_pooling2d_15 (MaxPooling (None, 4, 4, 128)         0         \n",
            "_________________________________________________________________\n",
            "flatten_4 (Flatten)          (None, 2048)              0         \n",
            "_________________________________________________________________\n",
            "dense_8 (Dense)              (None, 128)               262272    \n",
            "_________________________________________________________________\n",
            "dense_9 (Dense)              (None, 10)                1290      \n",
            "=================================================================\n",
            "Total params: 550,570\n",
            "Trainable params: 550,570\n",
            "Non-trainable params: 0\n",
            "_________________________________________________________________\n"
          ],
          "name": "stdout"
        }
      ]
    },
    {
      "cell_type": "code",
      "metadata": {
        "colab": {
          "base_uri": "https://localhost:8080/"
        },
        "id": "-CzqUoFUgz6o",
        "outputId": "756c1944-0b54-4e0c-db97-113f86796872"
      },
      "source": [
        "model.compile(loss = \"sparse_categorical_crossentropy\",\r\n",
        "              optimizer =\"adam\",\r\n",
        "              metrics = [\"accuracy\"] )\r\n",
        "\r\n",
        "\r\n",
        "history = model.fit(X_train, y_train, epochs=10,batch_size=128)"
      ],
      "execution_count": 34,
      "outputs": [
        {
          "output_type": "stream",
          "text": [
            "Epoch 1/10\n",
            "391/391 [==============================] - 5s 11ms/step - loss: 1.7498 - accuracy: 0.3547\n",
            "Epoch 2/10\n",
            "391/391 [==============================] - 4s 11ms/step - loss: 0.9861 - accuracy: 0.6514\n",
            "Epoch 3/10\n",
            "391/391 [==============================] - 4s 11ms/step - loss: 0.7413 - accuracy: 0.7421\n",
            "Epoch 4/10\n",
            "391/391 [==============================] - 4s 11ms/step - loss: 0.6016 - accuracy: 0.7885\n",
            "Epoch 5/10\n",
            "391/391 [==============================] - 4s 11ms/step - loss: 0.4850 - accuracy: 0.8325\n",
            "Epoch 6/10\n",
            "391/391 [==============================] - 4s 11ms/step - loss: 0.3884 - accuracy: 0.8650\n",
            "Epoch 7/10\n",
            "391/391 [==============================] - 4s 11ms/step - loss: 0.3221 - accuracy: 0.8881\n",
            "Epoch 8/10\n",
            "391/391 [==============================] - 4s 11ms/step - loss: 0.2486 - accuracy: 0.9124\n",
            "Epoch 9/10\n",
            "391/391 [==============================] - 4s 11ms/step - loss: 0.2008 - accuracy: 0.9287\n",
            "Epoch 10/10\n",
            "391/391 [==============================] - 4s 11ms/step - loss: 0.1396 - accuracy: 0.9512\n"
          ],
          "name": "stdout"
        }
      ]
    },
    {
      "cell_type": "code",
      "metadata": {
        "colab": {
          "base_uri": "https://localhost:8080/",
          "height": 0
        },
        "id": "Edyox4azgz8u",
        "outputId": "89903b8c-023a-4a72-d30b-c85c3e9dfaed"
      },
      "source": [
        "# accuracy values are stored in the dictionary `History.history` \r\n",
        "# the dictonary key to access these accuracy values are:\r\n",
        "# \"acc\" in tensorflow versions <2\r\n",
        "# \"accuracy\" in later versions\r\n",
        "\r\n",
        "# check the current version\r\n",
        "if int(tf.__version__.split('.')[0]) > 1:\r\n",
        "    acc_key = 'accuracy'\r\n",
        "else:\r\n",
        "    acc_key = 'acc'\r\n",
        "\r\n",
        "#-----------------------------------------------------------\r\n",
        "# Retrieve a list of list results on training and validation data\r\n",
        "# sets for each training epoch\r\n",
        "#-----------------------------------------------------------\r\n",
        "acc      = history.history[acc_key]\r\n",
        "loss     = history.history['loss']\r\n",
        "epochs   = range(1,len(acc)+1) # Get number of epochs\r\n",
        "#------------------------------------------------\r\n",
        "# Plot training and validation accuracy per epoch\r\n",
        "#------------------------------------------------\r\n",
        "plt.plot(epochs, acc,  label='Training accuracy')\r\n",
        "plt.title('Training accuracy')\r\n",
        "plt.xticks(epochs)\r\n",
        "plt.xlabel('epoch')\r\n",
        "plt.ylabel('accuracy')\r\n",
        "plt.legend();"
      ],
      "execution_count": 35,
      "outputs": [
        {
          "output_type": "display_data",
          "data": {
            "image/png": "[encoded data removed]",
            "text/plain": [
              "<Figure size 432x288 with 1 Axes>"
            ]
          },
          "metadata": {
            "tags": [],
            "needs_background": "light"
          }
        }
      ]
    },
    {
      "cell_type": "code",
      "metadata": {
        "colab": {
          "base_uri": "https://localhost:8080/"
        },
        "id": "Wo0LT1VB2Gni",
        "outputId": "42858fd9-7844-4e43-e6c2-902e438fa389"
      },
      "source": [
        "from keras.callbacks import EarlyStopping, ModelCheckpoint\r\n",
        "early_stopping = tf.keras.callbacks.EarlyStopping(patience=2,monitor='loss')\r\n",
        "\r\n",
        "test_loss, test_accuracy = model.evaluate(X_test, y_test, batch_size=128 , verbose=2, callbacks = [early_stopping])\r\n",
        "print('Accuracy on test dataset:', test_accuracy)"
      ],
      "execution_count": 36,
      "outputs": [
        {
          "output_type": "stream",
          "text": [
            "79/79 - 0s - loss: 0.8335 - accuracy: 0.7852\n",
            "Accuracy on test dataset: 0.7851999998092651\n"
          ],
          "name": "stdout"
        }
      ]
    },
    {
      "cell_type": "markdown",
      "metadata": {
        "id": "wRZ8y343kaUg"
      },
      "source": [
        "#### **2. Visualisation for different filter sizes**"
      ]
    },
    {
      "cell_type": "code",
      "metadata": {
        "colab": {
          "base_uri": "https://localhost:8080/",
          "height": 0
        },
        "id": "GvTNnuDCknc-",
        "outputId": "00df7b5c-c48f-4db2-eb2e-d65629ee70d1"
      },
      "source": [
        "d = {'Filter_size': [\"1x1\",\"2x2\",\"4x4\",\"3x3\",\"5x5\"], 'Training_Accuracy': [69.3,89.4,94.8,94.7,94.5], 'Test_Accuracy': [61.9,76.2,77.9,76.2,75.8]}\r\n",
        "\r\n",
        "\r\n",
        "df = pd.DataFrame(data=d)\r\n",
        "df.sort_values(by='Test_Accuracy', ascending=False)\r\n",
        "df"
      ],
      "execution_count": 37,
      "outputs": [
        {
          "output_type": "execute_result",
          "data": {
            "text/html": [
              "<div>\n",
              "<style scoped>\n",
              "    .dataframe tbody tr th:only-of-type {\n",
              "        vertical-align: middle;\n",
              "    }\n",
              "\n",
              "    .dataframe tbody tr th {\n",
              "        vertical-align: top;\n",
              "    }\n",
              "\n",
              "    .dataframe thead th {\n",
              "        text-align: right;\n",
              "    }\n",
              "</style>\n",
              "<table border=\"1\" class=\"dataframe\">\n",
              "  <thead>\n",
              "    <tr style=\"text-align: right;\">\n",
              "      <th></th>\n",
              "      <th>Filter_size</th>\n",
              "      <th>Training_Accuracy</th>\n",
              "      <th>Test_Accuracy</th>\n",
              "    </tr>\n",
              "  </thead>\n",
              "  <tbody>\n",
              "    <tr>\n",
              "      <th>0</th>\n",
              "      <td>1x1</td>\n",
              "      <td>69.3</td>\n",
              "      <td>61.9</td>\n",
              "    </tr>\n",
              "    <tr>\n",
              "      <th>1</th>\n",
              "      <td>2x2</td>\n",
              "      <td>89.4</td>\n",
              "      <td>76.2</td>\n",
              "    </tr>\n",
              "    <tr>\n",
              "      <th>2</th>\n",
              "      <td>4x4</td>\n",
              "      <td>94.8</td>\n",
              "      <td>77.9</td>\n",
              "    </tr>\n",
              "    <tr>\n",
              "      <th>3</th>\n",
              "      <td>3x3</td>\n",
              "      <td>94.7</td>\n",
              "      <td>76.2</td>\n",
              "    </tr>\n",
              "    <tr>\n",
              "      <th>4</th>\n",
              "      <td>5x5</td>\n",
              "      <td>94.5</td>\n",
              "      <td>75.8</td>\n",
              "    </tr>\n",
              "  </tbody>\n",
              "</table>\n",
              "</div>"
            ],
            "text/plain": [
              "  Filter_size  Training_Accuracy  Test_Accuracy\n",
              "0         1x1               69.3           61.9\n",
              "1         2x2               89.4           76.2\n",
              "2         4x4               94.8           77.9\n",
              "3         3x3               94.7           76.2\n",
              "4         5x5               94.5           75.8"
            ]
          },
          "metadata": {
            "tags": []
          },
          "execution_count": 37
        }
      ]
    },
    {
      "cell_type": "code",
      "metadata": {
        "colab": {
          "base_uri": "https://localhost:8080/",
          "height": 0
        },
        "id": "tH3OWjgskngN",
        "outputId": "65d1c296-77ca-443c-daae-6752c3815c34"
      },
      "source": [
        "\r\n",
        "\r\n",
        "fig = px.bar(df, x='Filter_size', y='Test_Accuracy',color = \"Filter_size\",title=\"Expirimenting Different Filter Size\")\r\n",
        "fig.show()\r\n"
      ],
      "execution_count": 38,
      "outputs": [
        {
          "output_type": "display_data",
          "data": {
            "text/html": [
              "<html>\n",
              "<head><meta charset=\"utf-8\" /></head>\n",
              "<body>\n",
              "    <div>\n",
              "            <script src=\"https://cdnjs.cloudflare.com/ajax/libs/mathjax/2.7.5/MathJax.js?config=TeX-AMS-MML_SVG\"></script><script type=\"text/javascript\">if (window.MathJax) {MathJax.Hub.Config({SVG: {font: \"STIX-Web\"}});}</script>\n",
              "                <script type=\"text/javascript\">window.PlotlyConfig = {MathJaxConfig: 'local'};</script>\n",
              "        <script src=\"https://cdn.plot.ly/plotly-latest.min.js\"></script>    \n",
              "            <div id=\"30b5ec69-fa79-4817-83cf-2dc1d3df3d57\" class=\"plotly-graph-div\" style=\"height:525px; width:100%;\"></div>\n",
              "            <script type=\"text/javascript\">\n",
              "                \n",
              "                    window.PLOTLYENV=window.PLOTLYENV || {};\n",
              "                    \n",
              "                if (document.getElementById(\"30b5ec69-fa79-4817-83cf-2dc1d3df3d57\")) {\n",
              "                    Plotly.newPlot(\n",
              "                        '30b5ec69-fa79-4817-83cf-2dc1d3df3d57',\n",
              "                        [{\"alignmentgroup\": \"True\", \"hoverlabel\": {\"namelength\": 0}, \"hovertemplate\": \"Filter_size=%{x}<br>Test_Accuracy=%{y}\", \"legendgroup\": \"Filter_size=1x1\", \"marker\": {\"color\": \"#636efa\"}, \"name\": \"Filter_size=1x1\", \"offsetgroup\": \"Filter_size=1x1\", \"orientation\": \"v\", \"showlegend\": true, \"textposition\": \"auto\", \"type\": \"bar\", \"x\": [\"1x1\"], \"xaxis\": \"x\", \"y\": [61.9], \"yaxis\": \"y\"}, {\"alignmentgroup\": \"True\", \"hoverlabel\": {\"namelength\": 0}, \"hovertemplate\": \"Filter_size=%{x}<br>Test_Accuracy=%{y}\", \"legendgroup\": \"Filter_size=2x2\", \"marker\": {\"color\": \"#EF553B\"}, \"name\": \"Filter_size=2x2\", \"offsetgroup\": \"Filter_size=2x2\", \"orientation\": \"v\", \"showlegend\": true, \"textposition\": \"auto\", \"type\": \"bar\", \"x\": [\"2x2\"], \"xaxis\": \"x\", \"y\": [76.2], \"yaxis\": \"y\"}, {\"alignmentgroup\": \"True\", \"hoverlabel\": {\"namelength\": 0}, \"hovertemplate\": \"Filter_size=%{x}<br>Test_Accuracy=%{y}\", \"legendgroup\": \"Filter_size=4x4\", \"marker\": {\"color\": \"#00cc96\"}, \"name\": \"Filter_size=4x4\", \"offsetgroup\": \"Filter_size=4x4\", \"orientation\": \"v\", \"showlegend\": true, \"textposition\": \"auto\", \"type\": \"bar\", \"x\": [\"4x4\"], \"xaxis\": \"x\", \"y\": [77.9], \"yaxis\": \"y\"}, {\"alignmentgroup\": \"True\", \"hoverlabel\": {\"namelength\": 0}, \"hovertemplate\": \"Filter_size=%{x}<br>Test_Accuracy=%{y}\", \"legendgroup\": \"Filter_size=3x3\", \"marker\": {\"color\": \"#ab63fa\"}, \"name\": \"Filter_size=3x3\", \"offsetgroup\": \"Filter_size=3x3\", \"orientation\": \"v\", \"showlegend\": true, \"textposition\": \"auto\", \"type\": \"bar\", \"x\": [\"3x3\"], \"xaxis\": \"x\", \"y\": [76.2], \"yaxis\": \"y\"}, {\"alignmentgroup\": \"True\", \"hoverlabel\": {\"namelength\": 0}, \"hovertemplate\": \"Filter_size=%{x}<br>Test_Accuracy=%{y}\", \"legendgroup\": \"Filter_size=5x5\", \"marker\": {\"color\": \"#FFA15A\"}, \"name\": \"Filter_size=5x5\", \"offsetgroup\": \"Filter_size=5x5\", \"orientation\": \"v\", \"showlegend\": true, \"textposition\": \"auto\", \"type\": \"bar\", \"x\": [\"5x5\"], \"xaxis\": \"x\", \"y\": [75.8], \"yaxis\": \"y\"}],\n",
              "                        {\"barmode\": \"relative\", \"legend\": {\"tracegroupgap\": 0}, \"template\": {\"data\": {\"bar\": [{\"error_x\": {\"color\": \"#2a3f5f\"}, \"error_y\": {\"color\": \"#2a3f5f\"}, \"marker\": {\"line\": {\"color\": \"#E5ECF6\", \"width\": 0.5}}, \"type\": \"bar\"}], \"barpolar\": [{\"marker\": {\"line\": {\"color\": \"#E5ECF6\", \"width\": 0.5}}, \"type\": \"barpolar\"}], \"carpet\": [{\"aaxis\": {\"endlinecolor\": \"#2a3f5f\", \"gridcolor\": \"white\", \"linecolor\": \"white\", \"minorgridcolor\": \"white\", \"startlinecolor\": \"#2a3f5f\"}, \"baxis\": {\"endlinecolor\": \"#2a3f5f\", \"gridcolor\": \"white\", \"linecolor\": \"white\", \"minorgridcolor\": \"white\", \"startlinecolor\": \"#2a3f5f\"}, \"type\": \"carpet\"}], \"choropleth\": [{\"colorbar\": {\"outlinewidth\": 0, \"ticks\": \"\"}, \"type\": \"choropleth\"}], \"contour\": [{\"colorbar\": {\"outlinewidth\": 0, \"ticks\": \"\"}, \"colorscale\": [[0.0, \"#0d0887\"], [0.1111111111111111, \"#46039f\"], [0.2222222222222222, \"#7201a8\"], [0.3333333333333333, \"#9c179e\"], [0.4444444444444444, \"#bd3786\"], [0.5555555555555556, \"#d8576b\"], [0.6666666666666666, \"#ed7953\"], [0.7777777777777778, \"#fb9f3a\"], [0.8888888888888888, \"#fdca26\"], [1.0, \"#f0f921\"]], \"type\": \"contour\"}], \"contourcarpet\": [{\"colorbar\": {\"outlinewidth\": 0, \"ticks\": \"\"}, \"type\": \"contourcarpet\"}], \"heatmap\": [{\"colorbar\": {\"outlinewidth\": 0, \"ticks\": \"\"}, \"colorscale\": [[0.0, \"#0d0887\"], [0.1111111111111111, \"#46039f\"], [0.2222222222222222, \"#7201a8\"], [0.3333333333333333, \"#9c179e\"], [0.4444444444444444, \"#bd3786\"], [0.5555555555555556, \"#d8576b\"], [0.6666666666666666, \"#ed7953\"], [0.7777777777777778, \"#fb9f3a\"], [0.8888888888888888, \"#fdca26\"], [1.0, \"#f0f921\"]], \"type\": \"heatmap\"}], \"heatmapgl\": [{\"colorbar\": {\"outlinewidth\": 0, \"ticks\": \"\"}, \"colorscale\": [[0.0, \"#0d0887\"], [0.1111111111111111, \"#46039f\"], [0.2222222222222222, \"#7201a8\"], [0.3333333333333333, \"#9c179e\"], [0.4444444444444444, \"#bd3786\"], [0.5555555555555556, \"#d8576b\"], [0.6666666666666666, \"#ed7953\"], [0.7777777777777778, \"#fb9f3a\"], [0.8888888888888888, \"#fdca26\"], [1.0, \"#f0f921\"]], \"type\": \"heatmapgl\"}], \"histogram\": [{\"marker\": {\"colorbar\": {\"outlinewidth\": 0, \"ticks\": \"\"}}, \"type\": \"histogram\"}], \"histogram2d\": [{\"colorbar\": {\"outlinewidth\": 0, \"ticks\": \"\"}, \"colorscale\": [[0.0, \"#0d0887\"], [0.1111111111111111, \"#46039f\"], [0.2222222222222222, \"#7201a8\"], [0.3333333333333333, \"#9c179e\"], [0.4444444444444444, \"#bd3786\"], [0.5555555555555556, \"#d8576b\"], [0.6666666666666666, \"#ed7953\"], [0.7777777777777778, \"#fb9f3a\"], [0.8888888888888888, \"#fdca26\"], [1.0, \"#f0f921\"]], \"type\": \"histogram2d\"}], \"histogram2dcontour\": [{\"colorbar\": {\"outlinewidth\": 0, \"ticks\": \"\"}, \"colorscale\": [[0.0, \"#0d0887\"], [0.1111111111111111, \"#46039f\"], [0.2222222222222222, \"#7201a8\"], [0.3333333333333333, \"#9c179e\"], [0.4444444444444444, \"#bd3786\"], [0.5555555555555556, \"#d8576b\"], [0.6666666666666666, \"#ed7953\"], [0.7777777777777778, \"#fb9f3a\"], [0.8888888888888888, \"#fdca26\"], [1.0, \"#f0f921\"]], \"type\": \"histogram2dcontour\"}], \"mesh3d\": [{\"colorbar\": {\"outlinewidth\": 0, \"ticks\": \"\"}, \"type\": \"mesh3d\"}], \"parcoords\": [{\"line\": {\"colorbar\": {\"outlinewidth\": 0, \"ticks\": \"\"}}, \"type\": \"parcoords\"}], \"pie\": [{\"automargin\": true, \"type\": \"pie\"}], \"scatter\": [{\"marker\": {\"colorbar\": {\"outlinewidth\": 0, \"ticks\": \"\"}}, \"type\": \"scatter\"}], \"scatter3d\": [{\"line\": {\"colorbar\": {\"outlinewidth\": 0, \"ticks\": \"\"}}, \"marker\": {\"colorbar\": {\"outlinewidth\": 0, \"ticks\": \"\"}}, \"type\": \"scatter3d\"}], \"scattercarpet\": [{\"marker\": {\"colorbar\": {\"outlinewidth\": 0, \"ticks\": \"\"}}, \"type\": \"scattercarpet\"}], \"scattergeo\": [{\"marker\": {\"colorbar\": {\"outlinewidth\": 0, \"ticks\": \"\"}}, \"type\": \"scattergeo\"}], \"scattergl\": [{\"marker\": {\"colorbar\": {\"outlinewidth\": 0, \"ticks\": \"\"}}, \"type\": \"scattergl\"}], \"scattermapbox\": [{\"marker\": {\"colorbar\": {\"outlinewidth\": 0, \"ticks\": \"\"}}, \"type\": \"scattermapbox\"}], \"scatterpolar\": [{\"marker\": {\"colorbar\": {\"outlinewidth\": 0, \"ticks\": \"\"}}, \"type\": \"scatterpolar\"}], \"scatterpolargl\": [{\"marker\": {\"colorbar\": {\"outlinewidth\": 0, \"ticks\": \"\"}}, \"type\": \"scatterpolargl\"}], \"scatterternary\": [{\"marker\": {\"colorbar\": {\"outlinewidth\": 0, \"ticks\": \"\"}}, \"type\": \"scatterternary\"}], \"surface\": [{\"colorbar\": {\"outlinewidth\": 0, \"ticks\": \"\"}, \"colorscale\": [[0.0, \"#0d0887\"], [0.1111111111111111, \"#46039f\"], [0.2222222222222222, \"#7201a8\"], [0.3333333333333333, \"#9c179e\"], [0.4444444444444444, \"#bd3786\"], [0.5555555555555556, \"#d8576b\"], [0.6666666666666666, \"#ed7953\"], [0.7777777777777778, \"#fb9f3a\"], [0.8888888888888888, \"#fdca26\"], [1.0, \"#f0f921\"]], \"type\": \"surface\"}], \"table\": [{\"cells\": {\"fill\": {\"color\": \"#EBF0F8\"}, \"line\": {\"color\": \"white\"}}, \"header\": {\"fill\": {\"color\": \"#C8D4E3\"}, \"line\": {\"color\": \"white\"}}, \"type\": \"table\"}]}, \"layout\": {\"annotationdefaults\": {\"arrowcolor\": \"#2a3f5f\", \"arrowhead\": 0, \"arrowwidth\": 1}, \"coloraxis\": {\"colorbar\": {\"outlinewidth\": 0, \"ticks\": \"\"}}, \"colorscale\": {\"diverging\": [[0, \"#8e0152\"], [0.1, \"#c51b7d\"], [0.2, \"#de77ae\"], [0.3, \"#f1b6da\"], [0.4, \"#fde0ef\"], [0.5, \"#f7f7f7\"], [0.6, \"#e6f5d0\"], [0.7, \"#b8e186\"], [0.8, \"#7fbc41\"], [0.9, \"#4d9221\"], [1, \"#276419\"]], \"sequential\": [[0.0, \"#0d0887\"], [0.1111111111111111, \"#46039f\"], [0.2222222222222222, \"#7201a8\"], [0.3333333333333333, \"#9c179e\"], [0.4444444444444444, \"#bd3786\"], [0.5555555555555556, \"#d8576b\"], [0.6666666666666666, \"#ed7953\"], [0.7777777777777778, \"#fb9f3a\"], [0.8888888888888888, \"#fdca26\"], [1.0, \"#f0f921\"]], \"sequentialminus\": [[0.0, \"#0d0887\"], [0.1111111111111111, \"#46039f\"], [0.2222222222222222, \"#7201a8\"], [0.3333333333333333, \"#9c179e\"], [0.4444444444444444, \"#bd3786\"], [0.5555555555555556, \"#d8576b\"], [0.6666666666666666, \"#ed7953\"], [0.7777777777777778, \"#fb9f3a\"], [0.8888888888888888, \"#fdca26\"], [1.0, \"#f0f921\"]]}, \"colorway\": [\"#636efa\", \"#EF553B\", \"#00cc96\", \"#ab63fa\", \"#FFA15A\", \"#19d3f3\", \"#FF6692\", \"#B6E880\", \"#FF97FF\", \"#FECB52\"], \"font\": {\"color\": \"#2a3f5f\"}, \"geo\": {\"bgcolor\": \"white\", \"lakecolor\": \"white\", \"landcolor\": \"#E5ECF6\", \"showlakes\": true, \"showland\": true, \"subunitcolor\": \"white\"}, \"hoverlabel\": {\"align\": \"left\"}, \"hovermode\": \"closest\", \"mapbox\": {\"style\": \"light\"}, \"paper_bgcolor\": \"white\", \"plot_bgcolor\": \"#E5ECF6\", \"polar\": {\"angularaxis\": {\"gridcolor\": \"white\", \"linecolor\": \"white\", \"ticks\": \"\"}, \"bgcolor\": \"#E5ECF6\", \"radialaxis\": {\"gridcolor\": \"white\", \"linecolor\": \"white\", \"ticks\": \"\"}}, \"scene\": {\"xaxis\": {\"backgroundcolor\": \"#E5ECF6\", \"gridcolor\": \"white\", \"gridwidth\": 2, \"linecolor\": \"white\", \"showbackground\": true, \"ticks\": \"\", \"zerolinecolor\": \"white\"}, \"yaxis\": {\"backgroundcolor\": \"#E5ECF6\", \"gridcolor\": \"white\", \"gridwidth\": 2, \"linecolor\": \"white\", \"showbackground\": true, \"ticks\": \"\", \"zerolinecolor\": \"white\"}, \"zaxis\": {\"backgroundcolor\": \"#E5ECF6\", \"gridcolor\": \"white\", \"gridwidth\": 2, \"linecolor\": \"white\", \"showbackground\": true, \"ticks\": \"\", \"zerolinecolor\": \"white\"}}, \"shapedefaults\": {\"line\": {\"color\": \"#2a3f5f\"}}, \"ternary\": {\"aaxis\": {\"gridcolor\": \"white\", \"linecolor\": \"white\", \"ticks\": \"\"}, \"baxis\": {\"gridcolor\": \"white\", \"linecolor\": \"white\", \"ticks\": \"\"}, \"bgcolor\": \"#E5ECF6\", \"caxis\": {\"gridcolor\": \"white\", \"linecolor\": \"white\", \"ticks\": \"\"}}, \"title\": {\"x\": 0.05}, \"xaxis\": {\"automargin\": true, \"gridcolor\": \"white\", \"linecolor\": \"white\", \"ticks\": \"\", \"title\": {\"standoff\": 15}, \"zerolinecolor\": \"white\", \"zerolinewidth\": 2}, \"yaxis\": {\"automargin\": true, \"gridcolor\": \"white\", \"linecolor\": \"white\", \"ticks\": \"\", \"title\": {\"standoff\": 15}, \"zerolinecolor\": \"white\", \"zerolinewidth\": 2}}}, \"title\": {\"text\": \"Expirimenting Different Filter Size\"}, \"xaxis\": {\"anchor\": \"y\", \"categoryarray\": [\"1x1\", \"2x2\", \"4x4\", \"3x3\", \"5x5\"], \"categoryorder\": \"array\", \"domain\": [0.0, 1.0], \"title\": {\"text\": \"Filter_size\"}}, \"yaxis\": {\"anchor\": \"x\", \"domain\": [0.0, 1.0], \"title\": {\"text\": \"Test_Accuracy\"}}},\n",
              "                        {\"responsive\": true}\n",
              "                    ).then(function(){\n",
              "                            \n",
              "var gd = document.getElementById('30b5ec69-fa79-4817-83cf-2dc1d3df3d57');\n",
              "var x = new MutationObserver(function (mutations, observer) {{\n",
              "        var display = window.getComputedStyle(gd).display;\n",
              "        if (!display || display === 'none') {{\n",
              "            console.log([gd, 'removed!']);\n",
              "            Plotly.purge(gd);\n",
              "            observer.disconnect();\n",
              "        }}\n",
              "}});\n",
              "\n",
              "// Listen for the removal of the full notebook cells\n",
              "var notebookContainer = gd.closest('#notebook-container');\n",
              "if (notebookContainer) {{\n",
              "    x.observe(notebookContainer, {childList: true});\n",
              "}}\n",
              "\n",
              "// Listen for the clearing of the current output cell\n",
              "var outputEl = gd.closest('.output');\n",
              "if (outputEl) {{\n",
              "    x.observe(outputEl, {childList: true});\n",
              "}}\n",
              "\n",
              "                        })\n",
              "                };\n",
              "                \n",
              "            </script>\n",
              "        </div>\n",
              "</body>\n",
              "</html>"
            ]
          },
          "metadata": {
            "tags": []
          }
        }
      ]
    },
    {
      "cell_type": "code",
      "metadata": {
        "colab": {
          "base_uri": "https://localhost:8080/",
          "height": 0
        },
        "id": "MMZgdXlDknjd",
        "outputId": "e242d8ab-75a3-4ddd-c648-f21fb7a1d0ed"
      },
      "source": [
        "import plotly.graph_objects as go\r\n",
        "\r\n",
        "\r\n",
        "fig = go.Figure()\r\n",
        "# Create and style traces\r\n",
        "\r\n",
        "fig.add_trace(go.Scatter(x=df['Filter_size'], y=df['Test_Accuracy'],\r\n",
        "                         line=dict(color='firebrick', width=4, dash='dash')))\r\n",
        "\r\n",
        "# Edit the layout\r\n",
        "fig.update_layout(title='Expirimenting Different Filter Sizes',\r\n",
        "                   xaxis_title='Filter Sizes',\r\n",
        "                   yaxis_title='Test_Accuracy')\r\n",
        "\r\n",
        "\r\n",
        "fig.show()"
      ],
      "execution_count": 39,
      "outputs": [
        {
          "output_type": "display_data",
          "data": {
            "text/html": [
              "<html>\n",
              "<head><meta charset=\"utf-8\" /></head>\n",
              "<body>\n",
              "    <div>\n",
              "            <script src=\"https://cdnjs.cloudflare.com/ajax/libs/mathjax/2.7.5/MathJax.js?config=TeX-AMS-MML_SVG\"></script><script type=\"text/javascript\">if (window.MathJax) {MathJax.Hub.Config({SVG: {font: \"STIX-Web\"}});}</script>\n",
              "                <script type=\"text/javascript\">window.PlotlyConfig = {MathJaxConfig: 'local'};</script>\n",
              "        <script src=\"https://cdn.plot.ly/plotly-latest.min.js\"></script>    \n",
              "            <div id=\"a25b9d93-6b56-4230-880d-a8fb150cb8c7\" class=\"plotly-graph-div\" style=\"height:525px; width:100%;\"></div>\n",
              "            <script type=\"text/javascript\">\n",
              "                \n",
              "                    window.PLOTLYENV=window.PLOTLYENV || {};\n",
              "                    \n",
              "                if (document.getElementById(\"a25b9d93-6b56-4230-880d-a8fb150cb8c7\")) {\n",
              "                    Plotly.newPlot(\n",
              "                        'a25b9d93-6b56-4230-880d-a8fb150cb8c7',\n",
              "                        [{\"line\": {\"color\": \"firebrick\", \"dash\": \"dash\", \"width\": 4}, \"type\": \"scatter\", \"x\": [\"1x1\", \"2x2\", \"4x4\", \"3x3\", \"5x5\"], \"y\": [61.9, 76.2, 77.9, 76.2, 75.8]}],\n",
              "                        {\"template\": {\"data\": {\"bar\": [{\"error_x\": {\"color\": \"#2a3f5f\"}, \"error_y\": {\"color\": \"#2a3f5f\"}, \"marker\": {\"line\": {\"color\": \"#E5ECF6\", \"width\": 0.5}}, \"type\": \"bar\"}], \"barpolar\": [{\"marker\": {\"line\": {\"color\": \"#E5ECF6\", \"width\": 0.5}}, \"type\": \"barpolar\"}], \"carpet\": [{\"aaxis\": {\"endlinecolor\": \"#2a3f5f\", \"gridcolor\": \"white\", \"linecolor\": \"white\", \"minorgridcolor\": \"white\", \"startlinecolor\": \"#2a3f5f\"}, \"baxis\": {\"endlinecolor\": \"#2a3f5f\", \"gridcolor\": \"white\", \"linecolor\": \"white\", \"minorgridcolor\": \"white\", \"startlinecolor\": \"#2a3f5f\"}, \"type\": \"carpet\"}], \"choropleth\": [{\"colorbar\": {\"outlinewidth\": 0, \"ticks\": \"\"}, \"type\": \"choropleth\"}], \"contour\": [{\"colorbar\": {\"outlinewidth\": 0, \"ticks\": \"\"}, \"colorscale\": [[0.0, \"#0d0887\"], [0.1111111111111111, \"#46039f\"], [0.2222222222222222, \"#7201a8\"], [0.3333333333333333, \"#9c179e\"], [0.4444444444444444, \"#bd3786\"], [0.5555555555555556, \"#d8576b\"], [0.6666666666666666, \"#ed7953\"], [0.7777777777777778, \"#fb9f3a\"], [0.8888888888888888, \"#fdca26\"], [1.0, \"#f0f921\"]], \"type\": \"contour\"}], \"contourcarpet\": [{\"colorbar\": {\"outlinewidth\": 0, \"ticks\": \"\"}, \"type\": \"contourcarpet\"}], \"heatmap\": [{\"colorbar\": {\"outlinewidth\": 0, \"ticks\": \"\"}, \"colorscale\": [[0.0, \"#0d0887\"], [0.1111111111111111, \"#46039f\"], [0.2222222222222222, \"#7201a8\"], [0.3333333333333333, \"#9c179e\"], [0.4444444444444444, \"#bd3786\"], [0.5555555555555556, \"#d8576b\"], [0.6666666666666666, \"#ed7953\"], [0.7777777777777778, \"#fb9f3a\"], [0.8888888888888888, \"#fdca26\"], [1.0, \"#f0f921\"]], \"type\": \"heatmap\"}], \"heatmapgl\": [{\"colorbar\": {\"outlinewidth\": 0, \"ticks\": \"\"}, \"colorscale\": [[0.0, \"#0d0887\"], [0.1111111111111111, \"#46039f\"], [0.2222222222222222, \"#7201a8\"], [0.3333333333333333, \"#9c179e\"], [0.4444444444444444, \"#bd3786\"], [0.5555555555555556, \"#d8576b\"], [0.6666666666666666, \"#ed7953\"], [0.7777777777777778, \"#fb9f3a\"], [0.8888888888888888, \"#fdca26\"], [1.0, \"#f0f921\"]], \"type\": \"heatmapgl\"}], \"histogram\": [{\"marker\": {\"colorbar\": {\"outlinewidth\": 0, \"ticks\": \"\"}}, \"type\": \"histogram\"}], \"histogram2d\": [{\"colorbar\": {\"outlinewidth\": 0, \"ticks\": \"\"}, \"colorscale\": [[0.0, \"#0d0887\"], [0.1111111111111111, \"#46039f\"], [0.2222222222222222, \"#7201a8\"], [0.3333333333333333, \"#9c179e\"], [0.4444444444444444, \"#bd3786\"], [0.5555555555555556, \"#d8576b\"], [0.6666666666666666, \"#ed7953\"], [0.7777777777777778, \"#fb9f3a\"], [0.8888888888888888, \"#fdca26\"], [1.0, \"#f0f921\"]], \"type\": \"histogram2d\"}], \"histogram2dcontour\": [{\"colorbar\": {\"outlinewidth\": 0, \"ticks\": \"\"}, \"colorscale\": [[0.0, \"#0d0887\"], [0.1111111111111111, \"#46039f\"], [0.2222222222222222, \"#7201a8\"], [0.3333333333333333, \"#9c179e\"], [0.4444444444444444, \"#bd3786\"], [0.5555555555555556, \"#d8576b\"], [0.6666666666666666, \"#ed7953\"], [0.7777777777777778, \"#fb9f3a\"], [0.8888888888888888, \"#fdca26\"], [1.0, \"#f0f921\"]], \"type\": \"histogram2dcontour\"}], \"mesh3d\": [{\"colorbar\": {\"outlinewidth\": 0, \"ticks\": \"\"}, \"type\": \"mesh3d\"}], \"parcoords\": [{\"line\": {\"colorbar\": {\"outlinewidth\": 0, \"ticks\": \"\"}}, \"type\": \"parcoords\"}], \"pie\": [{\"automargin\": true, \"type\": \"pie\"}], \"scatter\": [{\"marker\": {\"colorbar\": {\"outlinewidth\": 0, \"ticks\": \"\"}}, \"type\": \"scatter\"}], \"scatter3d\": [{\"line\": {\"colorbar\": {\"outlinewidth\": 0, \"ticks\": \"\"}}, \"marker\": {\"colorbar\": {\"outlinewidth\": 0, \"ticks\": \"\"}}, \"type\": \"scatter3d\"}], \"scattercarpet\": [{\"marker\": {\"colorbar\": {\"outlinewidth\": 0, \"ticks\": \"\"}}, \"type\": \"scattercarpet\"}], \"scattergeo\": [{\"marker\": {\"colorbar\": {\"outlinewidth\": 0, \"ticks\": \"\"}}, \"type\": \"scattergeo\"}], \"scattergl\": [{\"marker\": {\"colorbar\": {\"outlinewidth\": 0, \"ticks\": \"\"}}, \"type\": \"scattergl\"}], \"scattermapbox\": [{\"marker\": {\"colorbar\": {\"outlinewidth\": 0, \"ticks\": \"\"}}, \"type\": \"scattermapbox\"}], \"scatterpolar\": [{\"marker\": {\"colorbar\": {\"outlinewidth\": 0, \"ticks\": \"\"}}, \"type\": \"scatterpolar\"}], \"scatterpolargl\": [{\"marker\": {\"colorbar\": {\"outlinewidth\": 0, \"ticks\": \"\"}}, \"type\": \"scatterpolargl\"}], \"scatterternary\": [{\"marker\": {\"colorbar\": {\"outlinewidth\": 0, \"ticks\": \"\"}}, \"type\": \"scatterternary\"}], \"surface\": [{\"colorbar\": {\"outlinewidth\": 0, \"ticks\": \"\"}, \"colorscale\": [[0.0, \"#0d0887\"], [0.1111111111111111, \"#46039f\"], [0.2222222222222222, \"#7201a8\"], [0.3333333333333333, \"#9c179e\"], [0.4444444444444444, \"#bd3786\"], [0.5555555555555556, \"#d8576b\"], [0.6666666666666666, \"#ed7953\"], [0.7777777777777778, \"#fb9f3a\"], [0.8888888888888888, \"#fdca26\"], [1.0, \"#f0f921\"]], \"type\": \"surface\"}], \"table\": [{\"cells\": {\"fill\": {\"color\": \"#EBF0F8\"}, \"line\": {\"color\": \"white\"}}, \"header\": {\"fill\": {\"color\": \"#C8D4E3\"}, \"line\": {\"color\": \"white\"}}, \"type\": \"table\"}]}, \"layout\": {\"annotationdefaults\": {\"arrowcolor\": \"#2a3f5f\", \"arrowhead\": 0, \"arrowwidth\": 1}, \"coloraxis\": {\"colorbar\": {\"outlinewidth\": 0, \"ticks\": \"\"}}, \"colorscale\": {\"diverging\": [[0, \"#8e0152\"], [0.1, \"#c51b7d\"], [0.2, \"#de77ae\"], [0.3, \"#f1b6da\"], [0.4, \"#fde0ef\"], [0.5, \"#f7f7f7\"], [0.6, \"#e6f5d0\"], [0.7, \"#b8e186\"], [0.8, \"#7fbc41\"], [0.9, \"#4d9221\"], [1, \"#276419\"]], \"sequential\": [[0.0, \"#0d0887\"], [0.1111111111111111, \"#46039f\"], [0.2222222222222222, \"#7201a8\"], [0.3333333333333333, \"#9c179e\"], [0.4444444444444444, \"#bd3786\"], [0.5555555555555556, \"#d8576b\"], [0.6666666666666666, \"#ed7953\"], [0.7777777777777778, \"#fb9f3a\"], [0.8888888888888888, \"#fdca26\"], [1.0, \"#f0f921\"]], \"sequentialminus\": [[0.0, \"#0d0887\"], [0.1111111111111111, \"#46039f\"], [0.2222222222222222, \"#7201a8\"], [0.3333333333333333, \"#9c179e\"], [0.4444444444444444, \"#bd3786\"], [0.5555555555555556, \"#d8576b\"], [0.6666666666666666, \"#ed7953\"], [0.7777777777777778, \"#fb9f3a\"], [0.8888888888888888, \"#fdca26\"], [1.0, \"#f0f921\"]]}, \"colorway\": [\"#636efa\", \"#EF553B\", \"#00cc96\", \"#ab63fa\", \"#FFA15A\", \"#19d3f3\", \"#FF6692\", \"#B6E880\", \"#FF97FF\", \"#FECB52\"], \"font\": {\"color\": \"#2a3f5f\"}, \"geo\": {\"bgcolor\": \"white\", \"lakecolor\": \"white\", \"landcolor\": \"#E5ECF6\", \"showlakes\": true, \"showland\": true, \"subunitcolor\": \"white\"}, \"hoverlabel\": {\"align\": \"left\"}, \"hovermode\": \"closest\", \"mapbox\": {\"style\": \"light\"}, \"paper_bgcolor\": \"white\", \"plot_bgcolor\": \"#E5ECF6\", \"polar\": {\"angularaxis\": {\"gridcolor\": \"white\", \"linecolor\": \"white\", \"ticks\": \"\"}, \"bgcolor\": \"#E5ECF6\", \"radialaxis\": {\"gridcolor\": \"white\", \"linecolor\": \"white\", \"ticks\": \"\"}}, \"scene\": {\"xaxis\": {\"backgroundcolor\": \"#E5ECF6\", \"gridcolor\": \"white\", \"gridwidth\": 2, \"linecolor\": \"white\", \"showbackground\": true, \"ticks\": \"\", \"zerolinecolor\": \"white\"}, \"yaxis\": {\"backgroundcolor\": \"#E5ECF6\", \"gridcolor\": \"white\", \"gridwidth\": 2, \"linecolor\": \"white\", \"showbackground\": true, \"ticks\": \"\", \"zerolinecolor\": \"white\"}, \"zaxis\": {\"backgroundcolor\": \"#E5ECF6\", \"gridcolor\": \"white\", \"gridwidth\": 2, \"linecolor\": \"white\", \"showbackground\": true, \"ticks\": \"\", \"zerolinecolor\": \"white\"}}, \"shapedefaults\": {\"line\": {\"color\": \"#2a3f5f\"}}, \"ternary\": {\"aaxis\": {\"gridcolor\": \"white\", \"linecolor\": \"white\", \"ticks\": \"\"}, \"baxis\": {\"gridcolor\": \"white\", \"linecolor\": \"white\", \"ticks\": \"\"}, \"bgcolor\": \"#E5ECF6\", \"caxis\": {\"gridcolor\": \"white\", \"linecolor\": \"white\", \"ticks\": \"\"}}, \"title\": {\"x\": 0.05}, \"xaxis\": {\"automargin\": true, \"gridcolor\": \"white\", \"linecolor\": \"white\", \"ticks\": \"\", \"title\": {\"standoff\": 15}, \"zerolinecolor\": \"white\", \"zerolinewidth\": 2}, \"yaxis\": {\"automargin\": true, \"gridcolor\": \"white\", \"linecolor\": \"white\", \"ticks\": \"\", \"title\": {\"standoff\": 15}, \"zerolinecolor\": \"white\", \"zerolinewidth\": 2}}}, \"title\": {\"text\": \"Expirimenting Different Filter Sizes\"}, \"xaxis\": {\"title\": {\"text\": \"Filter Sizes\"}}, \"yaxis\": {\"title\": {\"text\": \"Test_Accuracy\"}}},\n",
              "                        {\"responsive\": true}\n",
              "                    ).then(function(){\n",
              "                            \n",
              "var gd = document.getElementById('a25b9d93-6b56-4230-880d-a8fb150cb8c7');\n",
              "var x = new MutationObserver(function (mutations, observer) {{\n",
              "        var display = window.getComputedStyle(gd).display;\n",
              "        if (!display || display === 'none') {{\n",
              "            console.log([gd, 'removed!']);\n",
              "            Plotly.purge(gd);\n",
              "            observer.disconnect();\n",
              "        }}\n",
              "}});\n",
              "\n",
              "// Listen for the removal of the full notebook cells\n",
              "var notebookContainer = gd.closest('#notebook-container');\n",
              "if (notebookContainer) {{\n",
              "    x.observe(notebookContainer, {childList: true});\n",
              "}}\n",
              "\n",
              "// Listen for the clearing of the current output cell\n",
              "var outputEl = gd.closest('.output');\n",
              "if (outputEl) {{\n",
              "    x.observe(outputEl, {childList: true});\n",
              "}}\n",
              "\n",
              "                        })\n",
              "                };\n",
              "                \n",
              "            </script>\n",
              "        </div>\n",
              "</body>\n",
              "</html>"
            ]
          },
          "metadata": {
            "tags": []
          }
        }
      ]
    },
    {
      "cell_type": "markdown",
      "metadata": {
        "id": "2AddwcTqhfXm"
      },
      "source": [
        "## **Expiriments 4**"
      ]
    },
    {
      "cell_type": "markdown",
      "metadata": {
        "id": "GJSL19RQj4dd"
      },
      "source": [
        "### **1. Number of Filter** \r\n",
        "- 32\r\n",
        "- 64\r\n",
        "- 128"
      ]
    },
    {
      "cell_type": "code",
      "metadata": {
        "colab": {
          "base_uri": "https://localhost:8080/"
        },
        "id": "8inQlr4fj-P0",
        "outputId": "7c59dab9-77aa-4df2-8ec1-8ed60b10958b"
      },
      "source": [
        "\r\n",
        "model = tf.keras.models.Sequential([\r\n",
        "    \r\n",
        "\r\n",
        "    tf.keras.layers.Conv2D(filters=32, kernel_size=3, padding=\"same\", activation=\"relu\", input_shape=[32,32,3]),\r\n",
        "    tf.keras.layers.Conv2D(filters=32, kernel_size=3,padding=\"same\",activation=\"relu\"),\r\n",
        "    tf.keras.layers.MaxPool2D(pool_size=2),\r\n",
        "\r\n",
        "    tf.keras.layers.Conv2D(filters=64, kernel_size=3,padding=\"same\",activation=\"relu\"),\r\n",
        "    tf.keras.layers.Conv2D(filters=64, kernel_size=3,padding=\"same\",activation=\"relu\"),\r\n",
        "    tf.keras.layers.MaxPool2D(pool_size=2), \r\n",
        "\r\n",
        "    tf.keras.layers.Conv2D(filters=128, kernel_size=3,padding=\"same\",activation=\"relu\"),\r\n",
        "    tf.keras.layers.Conv2D(filters=128, kernel_size=3,padding=\"same\",activation=\"relu\"),\r\n",
        "    tf.keras.layers.MaxPool2D(pool_size=2),\r\n",
        "\r\n",
        "    tf.keras.layers.Flatten(),\r\n",
        "\r\n",
        "    tf.keras.layers.Dense(128,activation=\"relu\"),\r\n",
        "    tf.keras.layers.Dense(10,activation=\"softmax\")\r\n",
        "])\r\n",
        "model.summary()"
      ],
      "execution_count": 40,
      "outputs": [
        {
          "output_type": "stream",
          "text": [
            "Model: \"sequential_5\"\n",
            "_________________________________________________________________\n",
            "Layer (type)                 Output Shape              Param #   \n",
            "=================================================================\n",
            "conv2d_38 (Conv2D)           (None, 32, 32, 32)        896       \n",
            "_________________________________________________________________\n",
            "conv2d_39 (Conv2D)           (None, 32, 32, 32)        9248      \n",
            "_________________________________________________________________\n",
            "max_pooling2d_16 (MaxPooling (None, 16, 16, 32)        0         \n",
            "_________________________________________________________________\n",
            "conv2d_40 (Conv2D)           (None, 16, 16, 64)        18496     \n",
            "_________________________________________________________________\n",
            "conv2d_41 (Conv2D)           (None, 16, 16, 64)        36928     \n",
            "_________________________________________________________________\n",
            "max_pooling2d_17 (MaxPooling (None, 8, 8, 64)          0         \n",
            "_________________________________________________________________\n",
            "conv2d_42 (Conv2D)           (None, 8, 8, 128)         73856     \n",
            "_________________________________________________________________\n",
            "conv2d_43 (Conv2D)           (None, 8, 8, 128)         147584    \n",
            "_________________________________________________________________\n",
            "max_pooling2d_18 (MaxPooling (None, 4, 4, 128)         0         \n",
            "_________________________________________________________________\n",
            "flatten_5 (Flatten)          (None, 2048)              0         \n",
            "_________________________________________________________________\n",
            "dense_10 (Dense)             (None, 128)               262272    \n",
            "_________________________________________________________________\n",
            "dense_11 (Dense)             (None, 10)                1290      \n",
            "=================================================================\n",
            "Total params: 550,570\n",
            "Trainable params: 550,570\n",
            "Non-trainable params: 0\n",
            "_________________________________________________________________\n"
          ],
          "name": "stdout"
        }
      ]
    },
    {
      "cell_type": "code",
      "metadata": {
        "colab": {
          "base_uri": "https://localhost:8080/"
        },
        "id": "Hf_utKiHLmes",
        "outputId": "b68cb682-4d6e-4522-df2e-037673e5e8ab"
      },
      "source": [
        "model.compile(loss = \"sparse_categorical_crossentropy\",\r\n",
        "              optimizer =\"adam\",\r\n",
        "              metrics = [\"accuracy\"] )\r\n",
        "\r\n",
        "\r\n",
        "history = model.fit(X_train, y_train, epochs=10,batch_size=128)"
      ],
      "execution_count": 41,
      "outputs": [
        {
          "output_type": "stream",
          "text": [
            "Epoch 1/10\n",
            "391/391 [==============================] - 5s 11ms/step - loss: 1.7136 - accuracy: 0.3751\n",
            "Epoch 2/10\n",
            "391/391 [==============================] - 4s 11ms/step - loss: 1.0107 - accuracy: 0.6431\n",
            "Epoch 3/10\n",
            "391/391 [==============================] - 4s 11ms/step - loss: 0.7385 - accuracy: 0.7422\n",
            "Epoch 4/10\n",
            "391/391 [==============================] - 4s 11ms/step - loss: 0.5918 - accuracy: 0.7952\n",
            "Epoch 5/10\n",
            "391/391 [==============================] - 4s 11ms/step - loss: 0.4685 - accuracy: 0.8385\n",
            "Epoch 6/10\n",
            "391/391 [==============================] - 4s 11ms/step - loss: 0.3809 - accuracy: 0.8675\n",
            "Epoch 7/10\n",
            "391/391 [==============================] - 4s 11ms/step - loss: 0.2987 - accuracy: 0.8948\n",
            "Epoch 8/10\n",
            "391/391 [==============================] - 4s 11ms/step - loss: 0.2256 - accuracy: 0.9223\n",
            "Epoch 9/10\n",
            "391/391 [==============================] - 4s 11ms/step - loss: 0.1780 - accuracy: 0.9363\n",
            "Epoch 10/10\n",
            "391/391 [==============================] - 4s 11ms/step - loss: 0.1343 - accuracy: 0.9521\n"
          ],
          "name": "stdout"
        }
      ]
    },
    {
      "cell_type": "code",
      "metadata": {
        "colab": {
          "base_uri": "https://localhost:8080/",
          "height": 0
        },
        "id": "4iSPkCUTELuM",
        "outputId": "dbb56bda-13d8-48aa-9f1f-872c4d2b9cda"
      },
      "source": [
        "# accuracy values are stored in the dictionary `History.history` \r\n",
        "# the dictonary key to access these accuracy values are:\r\n",
        "# \"acc\" in tensorflow versions <2\r\n",
        "# \"accuracy\" in later versions\r\n",
        "\r\n",
        "# check the current version\r\n",
        "if int(tf.__version__.split('.')[0]) > 1:\r\n",
        "    acc_key = 'accuracy'\r\n",
        "else:\r\n",
        "    acc_key = 'acc'\r\n",
        "\r\n",
        "#-----------------------------------------------------------\r\n",
        "# Retrieve a list of list results on training and validation data\r\n",
        "# sets for each training epoch\r\n",
        "#-----------------------------------------------------------\r\n",
        "acc      = history.history[acc_key]\r\n",
        "loss     = history.history['loss']\r\n",
        "epochs   = range(1,len(acc)+1) # Get number of epochs\r\n",
        "#------------------------------------------------\r\n",
        "# Plot training and validation accuracy per epoch\r\n",
        "#------------------------------------------------\r\n",
        "plt.plot(epochs, acc,  label='Training accuracy')\r\n",
        "plt.title('Training accuracy')\r\n",
        "plt.xticks(epochs)\r\n",
        "plt.xlabel('epoch')\r\n",
        "plt.ylabel('accuracy')\r\n",
        "plt.legend();"
      ],
      "execution_count": 42,
      "outputs": [
        {
          "output_type": "display_data",
          "data": {
            "image/png": "[encoded data removed]",
            "text/plain": [
              "<Figure size 432x288 with 1 Axes>"
            ]
          },
          "metadata": {
            "tags": [],
            "needs_background": "light"
          }
        }
      ]
    },
    {
      "cell_type": "code",
      "metadata": {
        "colab": {
          "base_uri": "https://localhost:8080/"
        },
        "id": "LK_p2qqgELw2",
        "outputId": "b76b0520-97ec-496a-86c1-9cd12c59b22a"
      },
      "source": [
        "from keras.callbacks import EarlyStopping, ModelCheckpoint\r\n",
        "early_stopping = tf.keras.callbacks.EarlyStopping(patience=2,monitor='loss')\r\n",
        "\r\n",
        "test_loss, test_accuracy = model.evaluate(X_test, y_test, batch_size=128 , verbose=2, callbacks = [early_stopping])\r\n",
        "print('Accuracy on test dataset:', test_accuracy)"
      ],
      "execution_count": 43,
      "outputs": [
        {
          "output_type": "stream",
          "text": [
            "79/79 - 0s - loss: 0.8819 - accuracy: 0.7825\n",
            "Accuracy on test dataset: 0.7825000286102295\n"
          ],
          "name": "stdout"
        }
      ]
    },
    {
      "cell_type": "code",
      "metadata": {
        "id": "Q0DTAXUYELzM"
      },
      "source": [
        ""
      ],
      "execution_count": 43,
      "outputs": []
    },
    {
      "cell_type": "code",
      "metadata": {
        "id": "yskgc0Mzj-TG"
      },
      "source": [
        ""
      ],
      "execution_count": 43,
      "outputs": []
    },
    {
      "cell_type": "markdown",
      "metadata": {
        "id": "i6xxFK89ht3H"
      },
      "source": [
        "## **Expiriment 5**"
      ]
    },
    {
      "cell_type": "markdown",
      "metadata": {
        "id": "U2zeKOKFkSTi"
      },
      "source": [
        "### **Pooling**"
      ]
    },
    {
      "cell_type": "markdown",
      "metadata": {
        "id": "BiFdVFJAkHK-"
      },
      "source": [
        "#### **1 Average pooling**"
      ]
    },
    {
      "cell_type": "code",
      "metadata": {
        "colab": {
          "base_uri": "https://localhost:8080/"
        },
        "id": "DRCbZFPvkUdJ",
        "outputId": "586fba3c-f0ed-437b-b929-6d4cf1335f9a"
      },
      "source": [
        "\r\n",
        "model = tf.keras.models.Sequential([\r\n",
        "    \r\n",
        "\r\n",
        "    tf.keras.layers.Conv2D(filters=32, kernel_size=3, padding=\"same\", activation=\"relu\", input_shape=[32,32,3]),\r\n",
        "    tf.keras.layers.Conv2D(filters=32, kernel_size=3,padding=\"same\",activation=\"relu\"),\r\n",
        "    tf.keras.layers.AveragePooling2D(pool_size=2),\r\n",
        "\r\n",
        "    tf.keras.layers.Conv2D(filters=64, kernel_size=3,padding=\"same\",activation=\"relu\"),\r\n",
        "    tf.keras.layers.Conv2D(filters=64, kernel_size=3,padding=\"same\",activation=\"relu\"),\r\n",
        "    tf.keras.layers.AveragePooling2D(pool_size=2), \r\n",
        "\r\n",
        "    tf.keras.layers.Conv2D(filters=128, kernel_size=3,padding=\"same\",activation=\"relu\"),\r\n",
        "    tf.keras.layers.Conv2D(filters=128, kernel_size=3,padding=\"same\",activation=\"relu\"),\r\n",
        "    tf.keras.layers.AveragePooling2D(pool_size=2),\r\n",
        "\r\n",
        "    tf.keras.layers.Flatten(),\r\n",
        "\r\n",
        "    tf.keras.layers.Dense(128,activation=\"relu\"),\r\n",
        "    tf.keras.layers.Dense(10,activation=\"softmax\")\r\n",
        "])\r\n",
        "model.summary()"
      ],
      "execution_count": 44,
      "outputs": [
        {
          "output_type": "stream",
          "text": [
            "Model: \"sequential_6\"\n",
            "_________________________________________________________________\n",
            "Layer (type)                 Output Shape              Param #   \n",
            "=================================================================\n",
            "conv2d_44 (Conv2D)           (None, 32, 32, 32)        896       \n",
            "_________________________________________________________________\n",
            "conv2d_45 (Conv2D)           (None, 32, 32, 32)        9248      \n",
            "_________________________________________________________________\n",
            "average_pooling2d (AveragePo (None, 16, 16, 32)        0         \n",
            "_________________________________________________________________\n",
            "conv2d_46 (Conv2D)           (None, 16, 16, 64)        18496     \n",
            "_________________________________________________________________\n",
            "conv2d_47 (Conv2D)           (None, 16, 16, 64)        36928     \n",
            "_________________________________________________________________\n",
            "average_pooling2d_1 (Average (None, 8, 8, 64)          0         \n",
            "_________________________________________________________________\n",
            "conv2d_48 (Conv2D)           (None, 8, 8, 128)         73856     \n",
            "_________________________________________________________________\n",
            "conv2d_49 (Conv2D)           (None, 8, 8, 128)         147584    \n",
            "_________________________________________________________________\n",
            "average_pooling2d_2 (Average (None, 4, 4, 128)         0         \n",
            "_________________________________________________________________\n",
            "flatten_6 (Flatten)          (None, 2048)              0         \n",
            "_________________________________________________________________\n",
            "dense_12 (Dense)             (None, 128)               262272    \n",
            "_________________________________________________________________\n",
            "dense_13 (Dense)             (None, 10)                1290      \n",
            "=================================================================\n",
            "Total params: 550,570\n",
            "Trainable params: 550,570\n",
            "Non-trainable params: 0\n",
            "_________________________________________________________________\n"
          ],
          "name": "stdout"
        }
      ]
    },
    {
      "cell_type": "code",
      "metadata": {
        "colab": {
          "base_uri": "https://localhost:8080/"
        },
        "id": "-wAsZNYEQRup",
        "outputId": "301c5a1a-3178-40db-b46f-baa354743308"
      },
      "source": [
        "model.compile(loss = \"sparse_categorical_crossentropy\",\r\n",
        "              optimizer =\"adam\",\r\n",
        "              metrics = [\"accuracy\"] )\r\n",
        "\r\n",
        "\r\n",
        "history = model.fit(X_train, y_train, epochs=10,batch_size=128)"
      ],
      "execution_count": 45,
      "outputs": [
        {
          "output_type": "stream",
          "text": [
            "Epoch 1/10\n",
            "391/391 [==============================] - 5s 11ms/step - loss: 1.7682 - accuracy: 0.3507\n",
            "Epoch 2/10\n",
            "391/391 [==============================] - 4s 11ms/step - loss: 1.0932 - accuracy: 0.6105\n",
            "Epoch 3/10\n",
            "391/391 [==============================] - 4s 11ms/step - loss: 0.8757 - accuracy: 0.6923\n",
            "Epoch 4/10\n",
            "391/391 [==============================] - 4s 11ms/step - loss: 0.7431 - accuracy: 0.7395\n",
            "Epoch 5/10\n",
            "391/391 [==============================] - 4s 11ms/step - loss: 0.6168 - accuracy: 0.7879\n",
            "Epoch 6/10\n",
            "391/391 [==============================] - 4s 11ms/step - loss: 0.5295 - accuracy: 0.8163\n",
            "Epoch 7/10\n",
            "391/391 [==============================] - 4s 11ms/step - loss: 0.4405 - accuracy: 0.8465\n",
            "Epoch 8/10\n",
            "391/391 [==============================] - 4s 11ms/step - loss: 0.3624 - accuracy: 0.8739\n",
            "Epoch 9/10\n",
            "391/391 [==============================] - 4s 11ms/step - loss: 0.3066 - accuracy: 0.8936\n",
            "Epoch 10/10\n",
            "391/391 [==============================] - 4s 11ms/step - loss: 0.2501 - accuracy: 0.9130\n"
          ],
          "name": "stdout"
        }
      ]
    },
    {
      "cell_type": "code",
      "metadata": {
        "colab": {
          "base_uri": "https://localhost:8080/",
          "height": 0
        },
        "id": "hqgzgITHQRxf",
        "outputId": "2f91e0b7-680f-4b0b-e372-0bfbad5a2903"
      },
      "source": [
        "# accuracy values are stored in the dictionary `History.history` \r\n",
        "# the dictonary key to access these accuracy values are:\r\n",
        "# \"acc\" in tensorflow versions <2\r\n",
        "# \"accuracy\" in later versions\r\n",
        "\r\n",
        "# check the current version\r\n",
        "if int(tf.__version__.split('.')[0]) > 1:\r\n",
        "    acc_key = 'accuracy'\r\n",
        "else:\r\n",
        "    acc_key = 'acc'\r\n",
        "\r\n",
        "#-----------------------------------------------------------\r\n",
        "# Retrieve a list of list results on training and validation data\r\n",
        "# sets for each training epoch\r\n",
        "#-----------------------------------------------------------\r\n",
        "acc      = history.history[acc_key]\r\n",
        "loss     = history.history['loss']\r\n",
        "epochs   = range(1,len(acc)+1) # Get number of epochs\r\n",
        "#------------------------------------------------\r\n",
        "# Plot training and validation accuracy per epoch\r\n",
        "#------------------------------------------------\r\n",
        "plt.plot(epochs, acc,  label='Training accuracy')\r\n",
        "plt.title('Training accuracy')\r\n",
        "plt.xticks(epochs)\r\n",
        "plt.xlabel('epoch')\r\n",
        "plt.ylabel('accuracy')\r\n",
        "plt.legend();"
      ],
      "execution_count": 46,
      "outputs": [
        {
          "output_type": "display_data",
          "data": {
            "image/png": "[encoded data removed]",
            "text/plain": [
              "<Figure size 432x288 with 1 Axes>"
            ]
          },
          "metadata": {
            "tags": [],
            "needs_background": "light"
          }
        }
      ]
    },
    {
      "cell_type": "code",
      "metadata": {
        "colab": {
          "base_uri": "https://localhost:8080/"
        },
        "id": "9kZyIShwQRzq",
        "outputId": "c5fbf195-9828-46c9-bc7f-8a2b48599746"
      },
      "source": [
        "\r\n",
        "test_loss, test_accuracy = model.evaluate(X_test, y_test, batch_size=128 , verbose=2)\r\n",
        "print('Accuracy on test dataset:', test_accuracy)"
      ],
      "execution_count": 47,
      "outputs": [
        {
          "output_type": "stream",
          "text": [
            "79/79 - 0s - loss: 0.7457 - accuracy: 0.7803\n",
            "Accuracy on test dataset: 0.7803000211715698\n"
          ],
          "name": "stdout"
        }
      ]
    },
    {
      "cell_type": "markdown",
      "metadata": {
        "id": "Iwt3Pa9ikYBF"
      },
      "source": [
        "#### **2 MaxPooling**\r\n",
        "\r\n",
        "\r\n",
        "\r\n"
      ]
    },
    {
      "cell_type": "code",
      "metadata": {
        "id": "2VH1vZKxnDw4",
        "colab": {
          "base_uri": "https://localhost:8080/"
        },
        "outputId": "69cb2633-d378-40f8-8da1-bc196f49912d"
      },
      "source": [
        "model = tf.keras.models.Sequential([\r\n",
        "    \r\n",
        "\r\n",
        "    tf.keras.layers.Conv2D(filters=32, kernel_size=3, padding=\"same\", activation=\"relu\", input_shape=[32,32,3]),\r\n",
        "    tf.keras.layers.Conv2D(filters=32, kernel_size=3,padding=\"same\",activation=\"relu\"),\r\n",
        "    tf.keras.layers.MaxPool2D(pool_size=2),\r\n",
        "\r\n",
        "    tf.keras.layers.Conv2D(filters=64, kernel_size=3,padding=\"same\",activation=\"relu\"),\r\n",
        "    tf.keras.layers.Conv2D(filters=64, kernel_size=3,padding=\"same\",activation=\"relu\"),\r\n",
        "    tf.keras.layers.MaxPool2D(pool_size=2), \r\n",
        "\r\n",
        "    tf.keras.layers.Conv2D(filters=128, kernel_size=3,padding=\"same\",activation=\"relu\"),\r\n",
        "    tf.keras.layers.Conv2D(filters=128, kernel_size=3,padding=\"same\",activation=\"relu\"),\r\n",
        "    tf.keras.layers.MaxPool2D(pool_size=2),\r\n",
        "\r\n",
        "    tf.keras.layers.Flatten(),\r\n",
        "\r\n",
        "    tf.keras.layers.Dense(128,activation=\"relu\"),\r\n",
        "    tf.keras.layers.Dense(10,activation=\"softmax\")\r\n",
        "])\r\n",
        "model.summary()"
      ],
      "execution_count": 48,
      "outputs": [
        {
          "output_type": "stream",
          "text": [
            "Model: \"sequential_7\"\n",
            "_________________________________________________________________\n",
            "Layer (type)                 Output Shape              Param #   \n",
            "=================================================================\n",
            "conv2d_50 (Conv2D)           (None, 32, 32, 32)        896       \n",
            "_________________________________________________________________\n",
            "conv2d_51 (Conv2D)           (None, 32, 32, 32)        9248      \n",
            "_________________________________________________________________\n",
            "max_pooling2d_19 (MaxPooling (None, 16, 16, 32)        0         \n",
            "_________________________________________________________________\n",
            "conv2d_52 (Conv2D)           (None, 16, 16, 64)        18496     \n",
            "_________________________________________________________________\n",
            "conv2d_53 (Conv2D)           (None, 16, 16, 64)        36928     \n",
            "_________________________________________________________________\n",
            "max_pooling2d_20 (MaxPooling (None, 8, 8, 64)          0         \n",
            "_________________________________________________________________\n",
            "conv2d_54 (Conv2D)           (None, 8, 8, 128)         73856     \n",
            "_________________________________________________________________\n",
            "conv2d_55 (Conv2D)           (None, 8, 8, 128)         147584    \n",
            "_________________________________________________________________\n",
            "max_pooling2d_21 (MaxPooling (None, 4, 4, 128)         0         \n",
            "_________________________________________________________________\n",
            "flatten_7 (Flatten)          (None, 2048)              0         \n",
            "_________________________________________________________________\n",
            "dense_14 (Dense)             (None, 128)               262272    \n",
            "_________________________________________________________________\n",
            "dense_15 (Dense)             (None, 10)                1290      \n",
            "=================================================================\n",
            "Total params: 550,570\n",
            "Trainable params: 550,570\n",
            "Non-trainable params: 0\n",
            "_________________________________________________________________\n"
          ],
          "name": "stdout"
        }
      ]
    },
    {
      "cell_type": "code",
      "metadata": {
        "id": "dyDxHcQhQTbG",
        "colab": {
          "base_uri": "https://localhost:8080/"
        },
        "outputId": "bac9f897-cd03-45e8-d445-78a97b4bc1eb"
      },
      "source": [
        "model.compile(loss = \"sparse_categorical_crossentropy\",\r\n",
        "              optimizer =\"adam\",\r\n",
        "              metrics = [\"accuracy\"] )\r\n",
        "\r\n",
        "\r\n",
        "history = model.fit(X_train, y_train, epochs=10,batch_size=128)"
      ],
      "execution_count": 49,
      "outputs": [
        {
          "output_type": "stream",
          "text": [
            "Epoch 1/10\n",
            "391/391 [==============================] - 5s 11ms/step - loss: 1.6946 - accuracy: 0.3791\n",
            "Epoch 2/10\n",
            "391/391 [==============================] - 4s 11ms/step - loss: 0.9688 - accuracy: 0.6568\n",
            "Epoch 3/10\n",
            "391/391 [==============================] - 4s 11ms/step - loss: 0.7136 - accuracy: 0.7490\n",
            "Epoch 4/10\n",
            "391/391 [==============================] - 4s 11ms/step - loss: 0.5681 - accuracy: 0.8025\n",
            "Epoch 5/10\n",
            "391/391 [==============================] - 4s 11ms/step - loss: 0.4475 - accuracy: 0.8461\n",
            "Epoch 6/10\n",
            "391/391 [==============================] - 4s 11ms/step - loss: 0.3592 - accuracy: 0.8741\n",
            "Epoch 7/10\n",
            "391/391 [==============================] - 4s 11ms/step - loss: 0.2686 - accuracy: 0.9070\n",
            "Epoch 8/10\n",
            "391/391 [==============================] - 4s 11ms/step - loss: 0.2134 - accuracy: 0.9262\n",
            "Epoch 9/10\n",
            "391/391 [==============================] - 4s 11ms/step - loss: 0.1649 - accuracy: 0.9441\n",
            "Epoch 10/10\n",
            "391/391 [==============================] - 4s 11ms/step - loss: 0.1332 - accuracy: 0.9526\n"
          ],
          "name": "stdout"
        }
      ]
    },
    {
      "cell_type": "code",
      "metadata": {
        "id": "nT6gCVK7QTeE",
        "colab": {
          "base_uri": "https://localhost:8080/",
          "height": 0
        },
        "outputId": "0575da37-91e8-48ab-96a0-b072d9e2ce55"
      },
      "source": [
        "# accuracy values are stored in the dictionary `History.history` \r\n",
        "# the dictonary key to access these accuracy values are:\r\n",
        "# \"acc\" in tensorflow versions <2\r\n",
        "# \"accuracy\" in later versions\r\n",
        "\r\n",
        "# check the current version\r\n",
        "if int(tf.__version__.split('.')[0]) > 1:\r\n",
        "    acc_key = 'accuracy'\r\n",
        "else:\r\n",
        "    acc_key = 'acc'\r\n",
        "\r\n",
        "#-----------------------------------------------------------\r\n",
        "# Retrieve a list of list results on training and validation data\r\n",
        "# sets for each training epoch\r\n",
        "#-----------------------------------------------------------\r\n",
        "acc      = history.history[acc_key]\r\n",
        "loss     = history.history['loss']\r\n",
        "epochs   = range(1,len(acc)+1) # Get number of epochs\r\n",
        "#------------------------------------------------\r\n",
        "# Plot training and validation accuracy per epoch\r\n",
        "#------------------------------------------------\r\n",
        "plt.plot(epochs, acc,  label='Training accuracy')\r\n",
        "plt.title('Training accuracy')\r\n",
        "plt.xticks(epochs)\r\n",
        "plt.xlabel('epoch')\r\n",
        "plt.ylabel('accuracy')\r\n",
        "plt.legend();"
      ],
      "execution_count": 50,
      "outputs": [
        {
          "output_type": "display_data",
          "data": {
            "image/png": "[encoded data removed]",
            "text/plain": [
              "<Figure size 432x288 with 1 Axes>"
            ]
          },
          "metadata": {
            "tags": [],
            "needs_background": "light"
          }
        }
      ]
    },
    {
      "cell_type": "code",
      "metadata": {
        "id": "tS8vjTtXQThD",
        "colab": {
          "base_uri": "https://localhost:8080/"
        },
        "outputId": "46b6c4cf-2ddf-46d3-a393-9e834a682346"
      },
      "source": [
        "\r\n",
        "test_loss, test_accuracy = model.evaluate(X_test, y_test, batch_size=128 , verbose=2)\r\n",
        "print('Accuracy on test dataset:', test_accuracy)"
      ],
      "execution_count": 51,
      "outputs": [
        {
          "output_type": "stream",
          "text": [
            "79/79 - 0s - loss: 0.9095 - accuracy: 0.7811\n",
            "Accuracy on test dataset: 0.7810999751091003\n"
          ],
          "name": "stdout"
        }
      ]
    },
    {
      "cell_type": "markdown",
      "metadata": {
        "id": "4fHgbyTzpA-e"
      },
      "source": [
        "#### **3. Visualisation of the pooling layer**"
      ]
    },
    {
      "cell_type": "code",
      "metadata": {
        "id": "LGyqUTgjkPLc",
        "colab": {
          "base_uri": "https://localhost:8080/",
          "height": 103
        },
        "outputId": "f3ed137f-d510-4eb6-adb6-0de05b4ba832"
      },
      "source": [
        "d = {'Pooling': [\"AveragePooling\",\"MaxPooling\"], 'Train_Accuracy': [91.7,94.5], 'Test_Accuracy': [77.9,78.3]}\r\n",
        "\r\n",
        "\r\n",
        "df = pd.DataFrame(data=d)\r\n",
        "df.sort_values(by='Test_Accuracy', ascending=False)\r\n",
        "df\r\n",
        "\r\n"
      ],
      "execution_count": 52,
      "outputs": [
        {
          "output_type": "execute_result",
          "data": {
            "text/html": [
              "<div>\n",
              "<style scoped>\n",
              "    .dataframe tbody tr th:only-of-type {\n",
              "        vertical-align: middle;\n",
              "    }\n",
              "\n",
              "    .dataframe tbody tr th {\n",
              "        vertical-align: top;\n",
              "    }\n",
              "\n",
              "    .dataframe thead th {\n",
              "        text-align: right;\n",
              "    }\n",
              "</style>\n",
              "<table border=\"1\" class=\"dataframe\">\n",
              "  <thead>\n",
              "    <tr style=\"text-align: right;\">\n",
              "      <th></th>\n",
              "      <th>Pooling</th>\n",
              "      <th>Train_Accuracy</th>\n",
              "      <th>Test_Accuracy</th>\n",
              "    </tr>\n",
              "  </thead>\n",
              "  <tbody>\n",
              "    <tr>\n",
              "      <th>0</th>\n",
              "      <td>AveragePooling</td>\n",
              "      <td>91.7</td>\n",
              "      <td>77.9</td>\n",
              "    </tr>\n",
              "    <tr>\n",
              "      <th>1</th>\n",
              "      <td>MaxPooling</td>\n",
              "      <td>94.5</td>\n",
              "      <td>78.3</td>\n",
              "    </tr>\n",
              "  </tbody>\n",
              "</table>\n",
              "</div>"
            ],
            "text/plain": [
              "          Pooling  Train_Accuracy  Test_Accuracy\n",
              "0  AveragePooling            91.7           77.9\n",
              "1      MaxPooling            94.5           78.3"
            ]
          },
          "metadata": {
            "tags": []
          },
          "execution_count": 52
        }
      ]
    },
    {
      "cell_type": "code",
      "metadata": {
        "colab": {
          "base_uri": "https://localhost:8080/",
          "height": 541
        },
        "id": "qx9sHY5Upf7E",
        "outputId": "94a7c5cd-f757-4b44-eaed-b3bec52d72bd"
      },
      "source": [
        "\r\n",
        "fig = px.bar(df, x='Pooling', y='Test_Accuracy',color = \"Pooling\",title=\"Expirimenting Different Pooling Layer\")\r\n",
        "fig.show()"
      ],
      "execution_count": 53,
      "outputs": [
        {
          "output_type": "display_data",
          "data": {
            "text/html": [
              "<html>\n",
              "<head><meta charset=\"utf-8\" /></head>\n",
              "<body>\n",
              "    <div>\n",
              "            <script src=\"https://cdnjs.cloudflare.com/ajax/libs/mathjax/2.7.5/MathJax.js?config=TeX-AMS-MML_SVG\"></script><script type=\"text/javascript\">if (window.MathJax) {MathJax.Hub.Config({SVG: {font: \"STIX-Web\"}});}</script>\n",
              "                <script type=\"text/javascript\">window.PlotlyConfig = {MathJaxConfig: 'local'};</script>\n",
              "        <script src=\"https://cdn.plot.ly/plotly-latest.min.js\"></script>    \n",
              "            <div id=\"37a322f9-86a3-434c-a8df-b796e35e4f7b\" class=\"plotly-graph-div\" style=\"height:525px; width:100%;\"></div>\n",
              "            <script type=\"text/javascript\">\n",
              "                \n",
              "                    window.PLOTLYENV=window.PLOTLYENV || {};\n",
              "                    \n",
              "                if (document.getElementById(\"37a322f9-86a3-434c-a8df-b796e35e4f7b\")) {\n",
              "                    Plotly.newPlot(\n",
              "                        '37a322f9-86a3-434c-a8df-b796e35e4f7b',\n",
              "                        [{\"alignmentgroup\": \"True\", \"hoverlabel\": {\"namelength\": 0}, \"hovertemplate\": \"Pooling=%{x}<br>Test_Accuracy=%{y}\", \"legendgroup\": \"Pooling=AveragePooling\", \"marker\": {\"color\": \"#636efa\"}, \"name\": \"Pooling=AveragePooling\", \"offsetgroup\": \"Pooling=AveragePooling\", \"orientation\": \"v\", \"showlegend\": true, \"textposition\": \"auto\", \"type\": \"bar\", \"x\": [\"AveragePooling\"], \"xaxis\": \"x\", \"y\": [77.9], \"yaxis\": \"y\"}, {\"alignmentgroup\": \"True\", \"hoverlabel\": {\"namelength\": 0}, \"hovertemplate\": \"Pooling=%{x}<br>Test_Accuracy=%{y}\", \"legendgroup\": \"Pooling=MaxPooling\", \"marker\": {\"color\": \"#EF553B\"}, \"name\": \"Pooling=MaxPooling\", \"offsetgroup\": \"Pooling=MaxPooling\", \"orientation\": \"v\", \"showlegend\": true, \"textposition\": \"auto\", \"type\": \"bar\", \"x\": [\"MaxPooling\"], \"xaxis\": \"x\", \"y\": [78.3], \"yaxis\": \"y\"}],\n",
              "                        {\"barmode\": \"relative\", \"legend\": {\"tracegroupgap\": 0}, \"template\": {\"data\": {\"bar\": [{\"error_x\": {\"color\": \"#2a3f5f\"}, \"error_y\": {\"color\": \"#2a3f5f\"}, \"marker\": {\"line\": {\"color\": \"#E5ECF6\", \"width\": 0.5}}, \"type\": \"bar\"}], \"barpolar\": [{\"marker\": {\"line\": {\"color\": \"#E5ECF6\", \"width\": 0.5}}, \"type\": \"barpolar\"}], \"carpet\": [{\"aaxis\": {\"endlinecolor\": \"#2a3f5f\", \"gridcolor\": \"white\", \"linecolor\": \"white\", \"minorgridcolor\": \"white\", \"startlinecolor\": \"#2a3f5f\"}, \"baxis\": {\"endlinecolor\": \"#2a3f5f\", \"gridcolor\": \"white\", \"linecolor\": \"white\", \"minorgridcolor\": \"white\", \"startlinecolor\": \"#2a3f5f\"}, \"type\": \"carpet\"}], \"choropleth\": [{\"colorbar\": {\"outlinewidth\": 0, \"ticks\": \"\"}, \"type\": \"choropleth\"}], \"contour\": [{\"colorbar\": {\"outlinewidth\": 0, \"ticks\": \"\"}, \"colorscale\": [[0.0, \"#0d0887\"], [0.1111111111111111, \"#46039f\"], [0.2222222222222222, \"#7201a8\"], [0.3333333333333333, \"#9c179e\"], [0.4444444444444444, \"#bd3786\"], [0.5555555555555556, \"#d8576b\"], [0.6666666666666666, \"#ed7953\"], [0.7777777777777778, \"#fb9f3a\"], [0.8888888888888888, \"#fdca26\"], [1.0, \"#f0f921\"]], \"type\": \"contour\"}], \"contourcarpet\": [{\"colorbar\": {\"outlinewidth\": 0, \"ticks\": \"\"}, \"type\": \"contourcarpet\"}], \"heatmap\": [{\"colorbar\": {\"outlinewidth\": 0, \"ticks\": \"\"}, \"colorscale\": [[0.0, \"#0d0887\"], [0.1111111111111111, \"#46039f\"], [0.2222222222222222, \"#7201a8\"], [0.3333333333333333, \"#9c179e\"], [0.4444444444444444, \"#bd3786\"], [0.5555555555555556, \"#d8576b\"], [0.6666666666666666, \"#ed7953\"], [0.7777777777777778, \"#fb9f3a\"], [0.8888888888888888, \"#fdca26\"], [1.0, \"#f0f921\"]], \"type\": \"heatmap\"}], \"heatmapgl\": [{\"colorbar\": {\"outlinewidth\": 0, \"ticks\": \"\"}, \"colorscale\": [[0.0, \"#0d0887\"], [0.1111111111111111, \"#46039f\"], [0.2222222222222222, \"#7201a8\"], [0.3333333333333333, \"#9c179e\"], [0.4444444444444444, \"#bd3786\"], [0.5555555555555556, \"#d8576b\"], [0.6666666666666666, \"#ed7953\"], [0.7777777777777778, \"#fb9f3a\"], [0.8888888888888888, \"#fdca26\"], [1.0, \"#f0f921\"]], \"type\": \"heatmapgl\"}], \"histogram\": [{\"marker\": {\"colorbar\": {\"outlinewidth\": 0, \"ticks\": \"\"}}, \"type\": \"histogram\"}], \"histogram2d\": [{\"colorbar\": {\"outlinewidth\": 0, \"ticks\": \"\"}, \"colorscale\": [[0.0, \"#0d0887\"], [0.1111111111111111, \"#46039f\"], [0.2222222222222222, \"#7201a8\"], [0.3333333333333333, \"#9c179e\"], [0.4444444444444444, \"#bd3786\"], [0.5555555555555556, \"#d8576b\"], [0.6666666666666666, \"#ed7953\"], [0.7777777777777778, \"#fb9f3a\"], [0.8888888888888888, \"#fdca26\"], [1.0, \"#f0f921\"]], \"type\": \"histogram2d\"}], \"histogram2dcontour\": [{\"colorbar\": {\"outlinewidth\": 0, \"ticks\": \"\"}, \"colorscale\": [[0.0, \"#0d0887\"], [0.1111111111111111, \"#46039f\"], [0.2222222222222222, \"#7201a8\"], [0.3333333333333333, \"#9c179e\"], [0.4444444444444444, \"#bd3786\"], [0.5555555555555556, \"#d8576b\"], [0.6666666666666666, \"#ed7953\"], [0.7777777777777778, \"#fb9f3a\"], [0.8888888888888888, \"#fdca26\"], [1.0, \"#f0f921\"]], \"type\": \"histogram2dcontour\"}], \"mesh3d\": [{\"colorbar\": {\"outlinewidth\": 0, \"ticks\": \"\"}, \"type\": \"mesh3d\"}], \"parcoords\": [{\"line\": {\"colorbar\": {\"outlinewidth\": 0, \"ticks\": \"\"}}, \"type\": \"parcoords\"}], \"pie\": [{\"automargin\": true, \"type\": \"pie\"}], \"scatter\": [{\"marker\": {\"colorbar\": {\"outlinewidth\": 0, \"ticks\": \"\"}}, \"type\": \"scatter\"}], \"scatter3d\": [{\"line\": {\"colorbar\": {\"outlinewidth\": 0, \"ticks\": \"\"}}, \"marker\": {\"colorbar\": {\"outlinewidth\": 0, \"ticks\": \"\"}}, \"type\": \"scatter3d\"}], \"scattercarpet\": [{\"marker\": {\"colorbar\": {\"outlinewidth\": 0, \"ticks\": \"\"}}, \"type\": \"scattercarpet\"}], \"scattergeo\": [{\"marker\": {\"colorbar\": {\"outlinewidth\": 0, \"ticks\": \"\"}}, \"type\": \"scattergeo\"}], \"scattergl\": [{\"marker\": {\"colorbar\": {\"outlinewidth\": 0, \"ticks\": \"\"}}, \"type\": \"scattergl\"}], \"scattermapbox\": [{\"marker\": {\"colorbar\": {\"outlinewidth\": 0, \"ticks\": \"\"}}, \"type\": \"scattermapbox\"}], \"scatterpolar\": [{\"marker\": {\"colorbar\": {\"outlinewidth\": 0, \"ticks\": \"\"}}, \"type\": \"scatterpolar\"}], \"scatterpolargl\": [{\"marker\": {\"colorbar\": {\"outlinewidth\": 0, \"ticks\": \"\"}}, \"type\": \"scatterpolargl\"}], \"scatterternary\": [{\"marker\": {\"colorbar\": {\"outlinewidth\": 0, \"ticks\": \"\"}}, \"type\": \"scatterternary\"}], \"surface\": [{\"colorbar\": {\"outlinewidth\": 0, \"ticks\": \"\"}, \"colorscale\": [[0.0, \"#0d0887\"], [0.1111111111111111, \"#46039f\"], [0.2222222222222222, \"#7201a8\"], [0.3333333333333333, \"#9c179e\"], [0.4444444444444444, \"#bd3786\"], [0.5555555555555556, \"#d8576b\"], [0.6666666666666666, \"#ed7953\"], [0.7777777777777778, \"#fb9f3a\"], [0.8888888888888888, \"#fdca26\"], [1.0, \"#f0f921\"]], \"type\": \"surface\"}], \"table\": [{\"cells\": {\"fill\": {\"color\": \"#EBF0F8\"}, \"line\": {\"color\": \"white\"}}, \"header\": {\"fill\": {\"color\": \"#C8D4E3\"}, \"line\": {\"color\": \"white\"}}, \"type\": \"table\"}]}, \"layout\": {\"annotationdefaults\": {\"arrowcolor\": \"#2a3f5f\", \"arrowhead\": 0, \"arrowwidth\": 1}, \"coloraxis\": {\"colorbar\": {\"outlinewidth\": 0, \"ticks\": \"\"}}, \"colorscale\": {\"diverging\": [[0, \"#8e0152\"], [0.1, \"#c51b7d\"], [0.2, \"#de77ae\"], [0.3, \"#f1b6da\"], [0.4, \"#fde0ef\"], [0.5, \"#f7f7f7\"], [0.6, \"#e6f5d0\"], [0.7, \"#b8e186\"], [0.8, \"#7fbc41\"], [0.9, \"#4d9221\"], [1, \"#276419\"]], \"sequential\": [[0.0, \"#0d0887\"], [0.1111111111111111, \"#46039f\"], [0.2222222222222222, \"#7201a8\"], [0.3333333333333333, \"#9c179e\"], [0.4444444444444444, \"#bd3786\"], [0.5555555555555556, \"#d8576b\"], [0.6666666666666666, \"#ed7953\"], [0.7777777777777778, \"#fb9f3a\"], [0.8888888888888888, \"#fdca26\"], [1.0, \"#f0f921\"]], \"sequentialminus\": [[0.0, \"#0d0887\"], [0.1111111111111111, \"#46039f\"], [0.2222222222222222, \"#7201a8\"], [0.3333333333333333, \"#9c179e\"], [0.4444444444444444, \"#bd3786\"], [0.5555555555555556, \"#d8576b\"], [0.6666666666666666, \"#ed7953\"], [0.7777777777777778, \"#fb9f3a\"], [0.8888888888888888, \"#fdca26\"], [1.0, \"#f0f921\"]]}, \"colorway\": [\"#636efa\", \"#EF553B\", \"#00cc96\", \"#ab63fa\", \"#FFA15A\", \"#19d3f3\", \"#FF6692\", \"#B6E880\", \"#FF97FF\", \"#FECB52\"], \"font\": {\"color\": \"#2a3f5f\"}, \"geo\": {\"bgcolor\": \"white\", \"lakecolor\": \"white\", \"landcolor\": \"#E5ECF6\", \"showlakes\": true, \"showland\": true, \"subunitcolor\": \"white\"}, \"hoverlabel\": {\"align\": \"left\"}, \"hovermode\": \"closest\", \"mapbox\": {\"style\": \"light\"}, \"paper_bgcolor\": \"white\", \"plot_bgcolor\": \"#E5ECF6\", \"polar\": {\"angularaxis\": {\"gridcolor\": \"white\", \"linecolor\": \"white\", \"ticks\": \"\"}, \"bgcolor\": \"#E5ECF6\", \"radialaxis\": {\"gridcolor\": \"white\", \"linecolor\": \"white\", \"ticks\": \"\"}}, \"scene\": {\"xaxis\": {\"backgroundcolor\": \"#E5ECF6\", \"gridcolor\": \"white\", \"gridwidth\": 2, \"linecolor\": \"white\", \"showbackground\": true, \"ticks\": \"\", \"zerolinecolor\": \"white\"}, \"yaxis\": {\"backgroundcolor\": \"#E5ECF6\", \"gridcolor\": \"white\", \"gridwidth\": 2, \"linecolor\": \"white\", \"showbackground\": true, \"ticks\": \"\", \"zerolinecolor\": \"white\"}, \"zaxis\": {\"backgroundcolor\": \"#E5ECF6\", \"gridcolor\": \"white\", \"gridwidth\": 2, \"linecolor\": \"white\", \"showbackground\": true, \"ticks\": \"\", \"zerolinecolor\": \"white\"}}, \"shapedefaults\": {\"line\": {\"color\": \"#2a3f5f\"}}, \"ternary\": {\"aaxis\": {\"gridcolor\": \"white\", \"linecolor\": \"white\", \"ticks\": \"\"}, \"baxis\": {\"gridcolor\": \"white\", \"linecolor\": \"white\", \"ticks\": \"\"}, \"bgcolor\": \"#E5ECF6\", \"caxis\": {\"gridcolor\": \"white\", \"linecolor\": \"white\", \"ticks\": \"\"}}, \"title\": {\"x\": 0.05}, \"xaxis\": {\"automargin\": true, \"gridcolor\": \"white\", \"linecolor\": \"white\", \"ticks\": \"\", \"title\": {\"standoff\": 15}, \"zerolinecolor\": \"white\", \"zerolinewidth\": 2}, \"yaxis\": {\"automargin\": true, \"gridcolor\": \"white\", \"linecolor\": \"white\", \"ticks\": \"\", \"title\": {\"standoff\": 15}, \"zerolinecolor\": \"white\", \"zerolinewidth\": 2}}}, \"title\": {\"text\": \"Expirimenting Different Pooling Layer\"}, \"xaxis\": {\"anchor\": \"y\", \"categoryarray\": [\"AveragePooling\", \"MaxPooling\"], \"categoryorder\": \"array\", \"domain\": [0.0, 1.0], \"title\": {\"text\": \"Pooling\"}}, \"yaxis\": {\"anchor\": \"x\", \"domain\": [0.0, 1.0], \"title\": {\"text\": \"Test_Accuracy\"}}},\n",
              "                        {\"responsive\": true}\n",
              "                    ).then(function(){\n",
              "                            \n",
              "var gd = document.getElementById('37a322f9-86a3-434c-a8df-b796e35e4f7b');\n",
              "var x = new MutationObserver(function (mutations, observer) {{\n",
              "        var display = window.getComputedStyle(gd).display;\n",
              "        if (!display || display === 'none') {{\n",
              "            console.log([gd, 'removed!']);\n",
              "            Plotly.purge(gd);\n",
              "            observer.disconnect();\n",
              "        }}\n",
              "}});\n",
              "\n",
              "// Listen for the removal of the full notebook cells\n",
              "var notebookContainer = gd.closest('#notebook-container');\n",
              "if (notebookContainer) {{\n",
              "    x.observe(notebookContainer, {childList: true});\n",
              "}}\n",
              "\n",
              "// Listen for the clearing of the current output cell\n",
              "var outputEl = gd.closest('.output');\n",
              "if (outputEl) {{\n",
              "    x.observe(outputEl, {childList: true});\n",
              "}}\n",
              "\n",
              "                        })\n",
              "                };\n",
              "                \n",
              "            </script>\n",
              "        </div>\n",
              "</body>\n",
              "</html>"
            ]
          },
          "metadata": {
            "tags": []
          }
        }
      ]
    },
    {
      "cell_type": "code",
      "metadata": {
        "colab": {
          "base_uri": "https://localhost:8080/",
          "height": 300
        },
        "id": "Fg7M26SYprJ3",
        "outputId": "cb3d3daa-bcb2-442b-fdb6-72f962291e65"
      },
      "source": [
        "\r\n",
        "\r\n",
        "\r\n",
        "import matplotlib.pyplot as plt\r\n",
        "   \r\n",
        "Year = df.Pooling\r\n",
        "Unemployment_Rate = df.Test_Accuracy\r\n",
        "  \r\n",
        "plt.plot(Year, Unemployment_Rate, color='red', marker='o')\r\n",
        "plt.title('Pooling layer', fontsize=14)\r\n",
        "plt.xlabel('Pooling', fontsize=14)\r\n",
        "plt.ylabel('Test_Accuracy', fontsize=14)\r\n",
        "plt.grid(True)\r\n",
        "plt.show()"
      ],
      "execution_count": 54,
      "outputs": [
        {
          "output_type": "display_data",
          "data": {
            "image/png": "[encoded data removed]",
            "text/plain": [
              "<Figure size 432x288 with 1 Axes>"
            ]
          },
          "metadata": {
            "tags": [],
            "needs_background": "light"
          }
        }
      ]
    },
    {
      "cell_type": "markdown",
      "metadata": {
        "id": "rom24XzdiG4b"
      },
      "source": [
        "## **Expiriment 6**"
      ]
    },
    {
      "cell_type": "markdown",
      "metadata": {
        "id": "oBPxKFPGj-oB"
      },
      "source": [
        "### **Loss Functions**\r\n",
        "Need to change accordingly while expiimenting\r\n",
        "- Hinge\r\n",
        "- Squared_hinge \r\n",
        "- logcosh\r\n",
        "- mean_squared_logarithmics_error\r\n",
        "- hubber_loss\r\n",
        "- sparse_categorical_crossentropy"
      ]
    },
    {
      "cell_type": "markdown",
      "metadata": {
        "id": "upKsL3WjrWxM"
      },
      "source": [
        "#### **1. Loss Function**"
      ]
    },
    {
      "cell_type": "markdown",
      "metadata": {
        "id": "pZhNn9s4iF4D"
      },
      "source": [
        ""
      ]
    },
    {
      "cell_type": "code",
      "metadata": {
        "id": "6KYh_yGDnIol",
        "colab": {
          "base_uri": "https://localhost:8080/"
        },
        "outputId": "a017c981-6fe6-41bd-df41-6680a4a490d0"
      },
      "source": [
        "model = tf.keras.models.Sequential([\r\n",
        "    \r\n",
        "\r\n",
        "    tf.keras.layers.Conv2D(filters=32, kernel_size=3, padding=\"same\", activation=\"relu\", input_shape=[32,32,3]),\r\n",
        "    tf.keras.layers.Conv2D(filters=32, kernel_size=3,padding=\"same\",activation=\"relu\"),\r\n",
        "    tf.keras.layers.MaxPool2D(pool_size=2),\r\n",
        "\r\n",
        "    tf.keras.layers.Conv2D(filters=64, kernel_size=3,padding=\"same\",activation=\"relu\"),\r\n",
        "    tf.keras.layers.Conv2D(filters=64, kernel_size=3,padding=\"same\",activation=\"relu\"),\r\n",
        "    tf.keras.layers.MaxPool2D(pool_size=2), \r\n",
        "\r\n",
        "    tf.keras.layers.Conv2D(filters=128, kernel_size=3,padding=\"same\",activation=\"relu\"),\r\n",
        "    tf.keras.layers.Conv2D(filters=128, kernel_size=3,padding=\"same\",activation=\"relu\"),\r\n",
        "    tf.keras.layers.MaxPool2D(pool_size=2),\r\n",
        "\r\n",
        "    tf.keras.layers.Flatten(),\r\n",
        "\r\n",
        "    tf.keras.layers.Dense(128,activation=\"relu\"),\r\n",
        "    tf.keras.layers.Dense(10,activation=\"softmax\")\r\n",
        "])\r\n",
        "model.summary()"
      ],
      "execution_count": 55,
      "outputs": [
        {
          "output_type": "stream",
          "text": [
            "Model: \"sequential_8\"\n",
            "_________________________________________________________________\n",
            "Layer (type)                 Output Shape              Param #   \n",
            "=================================================================\n",
            "conv2d_56 (Conv2D)           (None, 32, 32, 32)        896       \n",
            "_________________________________________________________________\n",
            "conv2d_57 (Conv2D)           (None, 32, 32, 32)        9248      \n",
            "_________________________________________________________________\n",
            "max_pooling2d_22 (MaxPooling (None, 16, 16, 32)        0         \n",
            "_________________________________________________________________\n",
            "conv2d_58 (Conv2D)           (None, 16, 16, 64)        18496     \n",
            "_________________________________________________________________\n",
            "conv2d_59 (Conv2D)           (None, 16, 16, 64)        36928     \n",
            "_________________________________________________________________\n",
            "max_pooling2d_23 (MaxPooling (None, 8, 8, 64)          0         \n",
            "_________________________________________________________________\n",
            "conv2d_60 (Conv2D)           (None, 8, 8, 128)         73856     \n",
            "_________________________________________________________________\n",
            "conv2d_61 (Conv2D)           (None, 8, 8, 128)         147584    \n",
            "_________________________________________________________________\n",
            "max_pooling2d_24 (MaxPooling (None, 4, 4, 128)         0         \n",
            "_________________________________________________________________\n",
            "flatten_8 (Flatten)          (None, 2048)              0         \n",
            "_________________________________________________________________\n",
            "dense_16 (Dense)             (None, 128)               262272    \n",
            "_________________________________________________________________\n",
            "dense_17 (Dense)             (None, 10)                1290      \n",
            "=================================================================\n",
            "Total params: 550,570\n",
            "Trainable params: 550,570\n",
            "Non-trainable params: 0\n",
            "_________________________________________________________________\n"
          ],
          "name": "stdout"
        }
      ]
    },
    {
      "cell_type": "markdown",
      "metadata": {
        "id": "5WBGAOZ9sVlV"
      },
      "source": [
        "#### **2. Hinge**\r\n"
      ]
    },
    {
      "cell_type": "code",
      "metadata": {
        "id": "HnZJEsoQnIrP",
        "colab": {
          "base_uri": "https://localhost:8080/"
        },
        "outputId": "7faac5fe-cdf9-4916-a3c8-919764cac941"
      },
      "source": [
        "model.compile(loss = \"hinge\",\r\n",
        "              optimizer =\"adam\",\r\n",
        "              metrics = [\"accuracy\"] )\r\n",
        "\r\n",
        "history = model.fit(X_train, y_train, epochs=10,batch_size=128)"
      ],
      "execution_count": 56,
      "outputs": [
        {
          "output_type": "stream",
          "text": [
            "Epoch 1/10\n",
            "391/391 [==============================] - 5s 11ms/step - loss: 0.5508 - accuracy: 0.0990\n",
            "Epoch 2/10\n",
            "391/391 [==============================] - 4s 11ms/step - loss: 0.5467 - accuracy: 0.0982\n",
            "Epoch 3/10\n",
            "391/391 [==============================] - 4s 11ms/step - loss: 0.5493 - accuracy: 0.0985\n",
            "Epoch 4/10\n",
            "391/391 [==============================] - 4s 11ms/step - loss: 0.5507 - accuracy: 0.1016\n",
            "Epoch 5/10\n",
            "391/391 [==============================] - 4s 11ms/step - loss: 0.5500 - accuracy: 0.0990\n",
            "Epoch 6/10\n",
            "391/391 [==============================] - 4s 11ms/step - loss: 0.5494 - accuracy: 0.0999\n",
            "Epoch 7/10\n",
            "391/391 [==============================] - 4s 11ms/step - loss: 0.5494 - accuracy: 0.1016\n",
            "Epoch 8/10\n",
            "391/391 [==============================] - 4s 11ms/step - loss: 0.5507 - accuracy: 0.1010\n",
            "Epoch 9/10\n",
            "391/391 [==============================] - 4s 11ms/step - loss: 0.5489 - accuracy: 0.0991\n",
            "Epoch 10/10\n",
            "391/391 [==============================] - 4s 11ms/step - loss: 0.5500 - accuracy: 0.0989\n"
          ],
          "name": "stdout"
        }
      ]
    },
    {
      "cell_type": "code",
      "metadata": {
        "colab": {
          "base_uri": "https://localhost:8080/",
          "height": 0
        },
        "id": "cq-XGe3vkq9V",
        "outputId": "e5dda71b-d06c-4887-b7fa-d2833c34d9a6"
      },
      "source": [
        "# accuracy values are stored in the dictionary `History.history` \r\n",
        "# the dictonary key to access these accuracy values are:\r\n",
        "# \"acc\" in tensorflow versions <2\r\n",
        "# \"accuracy\" in later versions\r\n",
        "\r\n",
        "# check the current version\r\n",
        "if int(tf.__version__.split('.')[0]) > 1:\r\n",
        "    acc_key = 'accuracy'\r\n",
        "else:\r\n",
        "    acc_key = 'acc'\r\n",
        "\r\n",
        "#-----------------------------------------------------------\r\n",
        "# Retrieve a list of list results on training and validation data\r\n",
        "# sets for each training epoch\r\n",
        "#-----------------------------------------------------------\r\n",
        "acc      = history.history[acc_key]\r\n",
        "loss     = history.history['loss']\r\n",
        "epochs   = range(1,len(acc)+1) # Get number of epochs\r\n",
        "#------------------------------------------------\r\n",
        "# Plot training and validation accuracy per epoch\r\n",
        "#------------------------------------------------\r\n",
        "plt.plot(epochs, acc,  label='Training accuracy')\r\n",
        "plt.title('Training accuracy')\r\n",
        "plt.xticks(epochs)\r\n",
        "plt.xlabel('epoch')\r\n",
        "plt.ylabel('accuracy')\r\n",
        "plt.legend();"
      ],
      "execution_count": 57,
      "outputs": [
        {
          "output_type": "display_data",
          "data": {
            "image/png": "[encoded data removed]",
            "text/plain": [
              "<Figure size 432x288 with 1 Axes>"
            ]
          },
          "metadata": {
            "tags": [],
            "needs_background": "light"
          }
        }
      ]
    },
    {
      "cell_type": "code",
      "metadata": {
        "colab": {
          "base_uri": "https://localhost:8080/"
        },
        "id": "kW0VGJyikq_7",
        "outputId": "c945c600-8937-4f6f-e30e-628f1e323efc"
      },
      "source": [
        "\r\n",
        "test_loss, test_accuracy = model.evaluate(X_test, y_test, batch_size=128 , verbose=2)\r\n",
        "print('Accuracy on test dataset:', test_accuracy)"
      ],
      "execution_count": 58,
      "outputs": [
        {
          "output_type": "stream",
          "text": [
            "79/79 - 0s - loss: 0.5500 - accuracy: 0.1000\n",
            "Accuracy on test dataset: 0.10000000149011612\n"
          ],
          "name": "stdout"
        }
      ]
    },
    {
      "cell_type": "markdown",
      "metadata": {
        "id": "vHFueM7KseFX"
      },
      "source": [
        "#### **3. Squared_hinge**\r\n",
        "\r\n"
      ]
    },
    {
      "cell_type": "code",
      "metadata": {
        "colab": {
          "base_uri": "https://localhost:8080/"
        },
        "id": "jTAcAp4wsn2Y",
        "outputId": "43433377-397b-47bb-90f7-55c2b8176ebd"
      },
      "source": [
        "model.compile(loss = \"squared_hinge\",\r\n",
        "              optimizer =\"adam\",\r\n",
        "              metrics = [\"accuracy\"] )\r\n",
        "\r\n",
        "history = model.fit(X_train, y_train, epochs=10,batch_size=128)"
      ],
      "execution_count": 59,
      "outputs": [
        {
          "output_type": "stream",
          "text": [
            "Epoch 1/10\n",
            "391/391 [==============================] - 5s 11ms/step - loss: 0.3880 - accuracy: 0.0971\n",
            "Epoch 2/10\n",
            "391/391 [==============================] - 4s 11ms/step - loss: 0.3838 - accuracy: 0.1090\n",
            "Epoch 3/10\n",
            "391/391 [==============================] - 4s 11ms/step - loss: 0.3857 - accuracy: 0.1016\n",
            "Epoch 4/10\n",
            "391/391 [==============================] - 4s 11ms/step - loss: 0.3856 - accuracy: 0.1030\n",
            "Epoch 5/10\n",
            "391/391 [==============================] - 4s 11ms/step - loss: 0.3857 - accuracy: 0.0998\n",
            "Epoch 6/10\n",
            "391/391 [==============================] - 4s 11ms/step - loss: 0.3820 - accuracy: 0.0990\n",
            "Epoch 7/10\n",
            "391/391 [==============================] - 4s 11ms/step - loss: 0.3880 - accuracy: 0.0954\n",
            "Epoch 8/10\n",
            "391/391 [==============================] - 4s 11ms/step - loss: 0.3863 - accuracy: 0.1006\n",
            "Epoch 9/10\n",
            "391/391 [==============================] - 4s 11ms/step - loss: 0.3843 - accuracy: 0.0990\n",
            "Epoch 10/10\n",
            "391/391 [==============================] - 4s 11ms/step - loss: 0.3868 - accuracy: 0.1027\n"
          ],
          "name": "stdout"
        }
      ]
    },
    {
      "cell_type": "code",
      "metadata": {
        "colab": {
          "base_uri": "https://localhost:8080/",
          "height": 0
        },
        "id": "VVdvVf7DtHQK",
        "outputId": "91b075ca-1c2f-4e35-80c5-e2a4c19e023e"
      },
      "source": [
        "# accuracy values are stored in the dictionary `History.history` \r\n",
        "# the dictonary key to access these accuracy values are:\r\n",
        "# \"acc\" in tensorflow versions <2\r\n",
        "# \"accuracy\" in later versions\r\n",
        "\r\n",
        "# check the current version\r\n",
        "if int(tf.__version__.split('.')[0]) > 1:\r\n",
        "    acc_key = 'accuracy'\r\n",
        "else:\r\n",
        "    acc_key = 'acc'\r\n",
        "\r\n",
        "#-----------------------------------------------------------\r\n",
        "# Retrieve a list of list results on training and validation data\r\n",
        "# sets for each training epoch\r\n",
        "#-----------------------------------------------------------\r\n",
        "acc      = history.history[acc_key]\r\n",
        "loss     = history.history['loss']\r\n",
        "epochs   = range(1,len(acc)+1) # Get number of epochs\r\n",
        "#------------------------------------------------\r\n",
        "# Plot training and validation accuracy per epoch\r\n",
        "#------------------------------------------------\r\n",
        "plt.plot(epochs, acc,  label='Training accuracy')\r\n",
        "plt.title('Training accuracy')\r\n",
        "plt.xticks(epochs)\r\n",
        "plt.xlabel('epoch')\r\n",
        "plt.ylabel('accuracy')\r\n",
        "plt.legend();"
      ],
      "execution_count": 60,
      "outputs": [
        {
          "output_type": "display_data",
          "data": {
            "image/png": "[encoded data removed]",
            "text/plain": [
              "<Figure size 432x288 with 1 Axes>"
            ]
          },
          "metadata": {
            "tags": [],
            "needs_background": "light"
          }
        }
      ]
    },
    {
      "cell_type": "code",
      "metadata": {
        "colab": {
          "base_uri": "https://localhost:8080/"
        },
        "id": "jBxdoVBLtHYR",
        "outputId": "a309a1f0-6807-4354-9904-5ebcaf54cf23"
      },
      "source": [
        "\r\n",
        "test_loss, test_accuracy = model.evaluate(X_test, y_test, batch_size=128 , verbose=2)\r\n",
        "print('Accuracy on test dataset:', test_accuracy)"
      ],
      "execution_count": 61,
      "outputs": [
        {
          "output_type": "stream",
          "text": [
            "79/79 - 0s - loss: 0.3850 - accuracy: 0.0846\n",
            "Accuracy on test dataset: 0.08460000157356262\n"
          ],
          "name": "stdout"
        }
      ]
    },
    {
      "cell_type": "markdown",
      "metadata": {
        "id": "5Vzc_IjDsoXI"
      },
      "source": [
        "#### **3. logcosh**\r\n"
      ]
    },
    {
      "cell_type": "code",
      "metadata": {
        "colab": {
          "base_uri": "https://localhost:8080/"
        },
        "id": "fxbe176lstHV",
        "outputId": "75f3a8f3-ed9a-42c3-b34c-afefcc2f4fea"
      },
      "source": [
        "model.compile(loss = \"logcosh\",\r\n",
        "              optimizer =\"adam\",\r\n",
        "              metrics = [\"accuracy\"] )\r\n",
        "\r\n",
        "history = model.fit(X_train, y_train, epochs=10,batch_size=128)"
      ],
      "execution_count": 62,
      "outputs": [
        {
          "output_type": "stream",
          "text": [
            "Epoch 1/10\n",
            "391/391 [==============================] - 5s 11ms/step - loss: 3.8096 - accuracy: 0.0999\n",
            "Epoch 2/10\n",
            "391/391 [==============================] - 4s 11ms/step - loss: 3.7743 - accuracy: 0.0978\n",
            "Epoch 3/10\n",
            "391/391 [==============================] - 4s 11ms/step - loss: 3.7930 - accuracy: 0.0975\n",
            "Epoch 4/10\n",
            "391/391 [==============================] - 4s 11ms/step - loss: 3.8170 - accuracy: 0.0991\n",
            "Epoch 5/10\n",
            "391/391 [==============================] - 4s 11ms/step - loss: 3.8039 - accuracy: 0.0973\n",
            "Epoch 6/10\n",
            "391/391 [==============================] - 4s 11ms/step - loss: 3.8139 - accuracy: 0.0997\n",
            "Epoch 7/10\n",
            "391/391 [==============================] - 4s 11ms/step - loss: 3.8123 - accuracy: 0.1006\n",
            "Epoch 8/10\n",
            "391/391 [==============================] - 4s 11ms/step - loss: 3.7957 - accuracy: 0.0985\n",
            "Epoch 9/10\n",
            "391/391 [==============================] - 4s 11ms/step - loss: 3.8109 - accuracy: 0.0990\n",
            "Epoch 10/10\n",
            "391/391 [==============================] - 4s 11ms/step - loss: 3.8051 - accuracy: 0.0990\n"
          ],
          "name": "stdout"
        }
      ]
    },
    {
      "cell_type": "code",
      "metadata": {
        "colab": {
          "base_uri": "https://localhost:8080/",
          "height": 0
        },
        "id": "Pb_UjRHQtQGy",
        "outputId": "6df2376c-1cf8-4a97-a916-a2d66b5e1c0c"
      },
      "source": [
        "# accuracy values are stored in the dictionary `History.history` \r\n",
        "# the dictonary key to access these accuracy values are:\r\n",
        "# \"acc\" in tensorflow versions <2\r\n",
        "# \"accuracy\" in later versions\r\n",
        "\r\n",
        "# check the current version\r\n",
        "if int(tf.__version__.split('.')[0]) > 1:\r\n",
        "    acc_key = 'accuracy'\r\n",
        "else:\r\n",
        "    acc_key = 'acc'\r\n",
        "\r\n",
        "#-----------------------------------------------------------\r\n",
        "# Retrieve a list of list results on training and validation data\r\n",
        "# sets for each training epoch\r\n",
        "#-----------------------------------------------------------\r\n",
        "acc      = history.history[acc_key]\r\n",
        "loss     = history.history['loss']\r\n",
        "epochs   = range(1,len(acc)+1) # Get number of epochs\r\n",
        "#------------------------------------------------\r\n",
        "# Plot training and validation accuracy per epoch\r\n",
        "#------------------------------------------------\r\n",
        "plt.plot(epochs, acc,  label='Training accuracy')\r\n",
        "plt.title('Training accuracy')\r\n",
        "plt.xticks(epochs)\r\n",
        "plt.xlabel('epoch')\r\n",
        "plt.ylabel('accuracy')\r\n",
        "plt.legend();"
      ],
      "execution_count": 63,
      "outputs": [
        {
          "output_type": "display_data",
          "data": {
            "image/png": "[encoded data removed]",
            "text/plain": [
              "<Figure size 432x288 with 1 Axes>"
            ]
          },
          "metadata": {
            "tags": [],
            "needs_background": "light"
          }
        }
      ]
    },
    {
      "cell_type": "code",
      "metadata": {
        "colab": {
          "base_uri": "https://localhost:8080/"
        },
        "id": "sKd94OgJtZUl",
        "outputId": "550682cb-48d1-4a6c-c1a5-f1ed91f97c68"
      },
      "source": [
        "\r\n",
        "test_loss, test_accuracy = model.evaluate(X_test, y_test, batch_size=128 , verbose=2)\r\n",
        "print('Accuracy on test dataset:', test_accuracy)"
      ],
      "execution_count": 64,
      "outputs": [
        {
          "output_type": "stream",
          "text": [
            "79/79 - 0s - loss: 3.8045 - accuracy: 0.1014\n",
            "Accuracy on test dataset: 0.10140000283718109\n"
          ],
          "name": "stdout"
        }
      ]
    },
    {
      "cell_type": "markdown",
      "metadata": {
        "id": "RfYcPsRlstqo"
      },
      "source": [
        "#### **4.mean_squared_logarithmics_error**"
      ]
    },
    {
      "cell_type": "code",
      "metadata": {
        "colab": {
          "base_uri": "https://localhost:8080/"
        },
        "id": "giFC9vgcs2WQ",
        "outputId": "d5ef7733-8f2e-478a-e353-6e42382faabb"
      },
      "source": [
        "model.compile(loss = \"mean_squared_logarithmic_error\",\r\n",
        "              optimizer =\"adam\",\r\n",
        "              metrics = [\"accuracy\"] )\r\n",
        "\r\n",
        "history = model.fit(X_train, y_train, epochs=10,batch_size=128)"
      ],
      "execution_count": 65,
      "outputs": [
        {
          "output_type": "stream",
          "text": [
            "Epoch 1/10\n",
            "391/391 [==============================] - 5s 11ms/step - loss: 2.5061 - accuracy: 0.0998\n",
            "Epoch 2/10\n",
            "391/391 [==============================] - 4s 11ms/step - loss: 2.4881 - accuracy: 0.0996\n",
            "Epoch 3/10\n",
            "391/391 [==============================] - 4s 11ms/step - loss: 2.4810 - accuracy: 0.0986\n",
            "Epoch 4/10\n",
            "391/391 [==============================] - 4s 11ms/step - loss: 2.4887 - accuracy: 0.0982\n",
            "Epoch 5/10\n",
            "391/391 [==============================] - 4s 11ms/step - loss: 2.4912 - accuracy: 0.0995\n",
            "Epoch 6/10\n",
            "391/391 [==============================] - 4s 11ms/step - loss: 2.4913 - accuracy: 0.0961\n",
            "Epoch 7/10\n",
            "391/391 [==============================] - 4s 11ms/step - loss: 2.4921 - accuracy: 0.1012\n",
            "Epoch 8/10\n",
            "391/391 [==============================] - 4s 11ms/step - loss: 2.4848 - accuracy: 0.0976\n",
            "Epoch 9/10\n",
            "391/391 [==============================] - 4s 11ms/step - loss: 2.4860 - accuracy: 0.0961\n",
            "Epoch 10/10\n",
            "391/391 [==============================] - 4s 11ms/step - loss: 2.4842 - accuracy: 0.0993\n"
          ],
          "name": "stdout"
        }
      ]
    },
    {
      "cell_type": "code",
      "metadata": {
        "colab": {
          "base_uri": "https://localhost:8080/",
          "height": 0
        },
        "id": "x2YrRk4KtRVK",
        "outputId": "0968743c-80fc-40e6-d50f-4e8e128bab68"
      },
      "source": [
        "# accuracy values are stored in the dictionary `History.history` \r\n",
        "# the dictonary key to access these accuracy values are:\r\n",
        "# \"acc\" in tensorflow versions <2\r\n",
        "# \"accuracy\" in later versions\r\n",
        "\r\n",
        "# check the current version\r\n",
        "if int(tf.__version__.split('.')[0]) > 1:\r\n",
        "    acc_key = 'accuracy'\r\n",
        "else:\r\n",
        "    acc_key = 'acc'\r\n",
        "\r\n",
        "#-----------------------------------------------------------\r\n",
        "# Retrieve a list of list results on training and validation data\r\n",
        "# sets for each training epoch\r\n",
        "#-----------------------------------------------------------\r\n",
        "acc      = history.history[acc_key]\r\n",
        "loss     = history.history['loss']\r\n",
        "epochs   = range(1,len(acc)+1) # Get number of epochs\r\n",
        "#------------------------------------------------\r\n",
        "# Plot training and validation accuracy per epoch\r\n",
        "#------------------------------------------------\r\n",
        "plt.plot(epochs, acc,  label='Training accuracy')\r\n",
        "plt.title('Training accuracy')\r\n",
        "plt.xticks(epochs)\r\n",
        "plt.xlabel('epoch')\r\n",
        "plt.ylabel('accuracy')\r\n",
        "plt.legend();"
      ],
      "execution_count": 66,
      "outputs": [
        {
          "output_type": "display_data",
          "data": {
            "image/png": "[encoded data removed]",
            "text/plain": [
              "<Figure size 432x288 with 1 Axes>"
            ]
          },
          "metadata": {
            "tags": [],
            "needs_background": "light"
          }
        }
      ]
    },
    {
      "cell_type": "code",
      "metadata": {
        "colab": {
          "base_uri": "https://localhost:8080/"
        },
        "id": "obXj9r27taJi",
        "outputId": "4c25e92a-9fc2-4d61-9baf-13a565f5f8d1"
      },
      "source": [
        "\r\n",
        "test_loss, test_accuracy = model.evaluate(X_test, y_test, batch_size=128 , verbose=2)\r\n",
        "print('Accuracy on test dataset:', test_accuracy)"
      ],
      "execution_count": 67,
      "outputs": [
        {
          "output_type": "stream",
          "text": [
            "79/79 - 0s - loss: 2.4862 - accuracy: 0.1016\n",
            "Accuracy on test dataset: 0.10159999877214432\n"
          ],
          "name": "stdout"
        }
      ]
    },
    {
      "cell_type": "markdown",
      "metadata": {
        "id": "avcgqVMvtCan"
      },
      "source": [
        "#### **5.sparse_categorical_crossentropy**"
      ]
    },
    {
      "cell_type": "code",
      "metadata": {
        "id": "qpWDzyDmtGXb",
        "colab": {
          "base_uri": "https://localhost:8080/"
        },
        "outputId": "787ed1cc-e370-44b8-a885-3a92852f427b"
      },
      "source": [
        "model.compile(loss = \"sparse_categorical_crossentropy\",\r\n",
        "              optimizer =\"adam\",\r\n",
        "              metrics = [\"accuracy\"] )\r\n",
        "\r\n",
        "history = model.fit(X_train, y_train, epochs=10,batch_size=128)"
      ],
      "execution_count": 68,
      "outputs": [
        {
          "output_type": "stream",
          "text": [
            "Epoch 1/10\n",
            "391/391 [==============================] - 5s 11ms/step - loss: 1.8506 - accuracy: 0.3142\n",
            "Epoch 2/10\n",
            "391/391 [==============================] - 4s 11ms/step - loss: 1.0670 - accuracy: 0.6212\n",
            "Epoch 3/10\n",
            "391/391 [==============================] - 4s 11ms/step - loss: 0.7660 - accuracy: 0.7318\n",
            "Epoch 4/10\n",
            "391/391 [==============================] - 4s 11ms/step - loss: 0.6279 - accuracy: 0.7788\n",
            "Epoch 5/10\n",
            "391/391 [==============================] - 4s 11ms/step - loss: 0.5116 - accuracy: 0.8240\n",
            "Epoch 6/10\n",
            "391/391 [==============================] - 4s 11ms/step - loss: 0.4016 - accuracy: 0.8609\n",
            "Epoch 7/10\n",
            "391/391 [==============================] - 4s 11ms/step - loss: 0.3294 - accuracy: 0.8850\n",
            "Epoch 8/10\n",
            "391/391 [==============================] - 4s 11ms/step - loss: 0.2618 - accuracy: 0.9089\n",
            "Epoch 9/10\n",
            "391/391 [==============================] - 4s 11ms/step - loss: 0.2017 - accuracy: 0.9282\n",
            "Epoch 10/10\n",
            "391/391 [==============================] - 4s 11ms/step - loss: 0.1618 - accuracy: 0.9429\n"
          ],
          "name": "stdout"
        }
      ]
    },
    {
      "cell_type": "code",
      "metadata": {
        "id": "gmBzEzSetSjr",
        "colab": {
          "base_uri": "https://localhost:8080/",
          "height": 0
        },
        "outputId": "365508c5-01ec-46c3-fdfd-6ef114d0dcee"
      },
      "source": [
        "# accuracy values are stored in the dictionary `History.history` \r\n",
        "# the dictonary key to access these accuracy values are:\r\n",
        "# \"acc\" in tensorflow versions <2\r\n",
        "# \"accuracy\" in later versions\r\n",
        "\r\n",
        "# check the current version\r\n",
        "if int(tf.__version__.split('.')[0]) > 1:\r\n",
        "    acc_key = 'accuracy'\r\n",
        "else:\r\n",
        "    acc_key = 'acc'\r\n",
        "\r\n",
        "#-----------------------------------------------------------\r\n",
        "# Retrieve a list of list results on training and validation data\r\n",
        "# sets for each training epoch\r\n",
        "#-----------------------------------------------------------\r\n",
        "acc      = history.history[acc_key]\r\n",
        "loss     = history.history['loss']\r\n",
        "epochs   = range(1,len(acc)+1) # Get number of epochs\r\n",
        "#------------------------------------------------\r\n",
        "# Plot training and validation accuracy per epoch\r\n",
        "#------------------------------------------------\r\n",
        "plt.plot(epochs, acc,  label='Training accuracy')\r\n",
        "plt.title('Training accuracy')\r\n",
        "plt.xticks(epochs)\r\n",
        "plt.xlabel('epoch')\r\n",
        "plt.ylabel('accuracy')\r\n",
        "plt.legend();"
      ],
      "execution_count": 69,
      "outputs": [
        {
          "output_type": "display_data",
          "data": {
            "image/png": "[encoded data removed]",
            "text/plain": [
              "<Figure size 432x288 with 1 Axes>"
            ]
          },
          "metadata": {
            "tags": [],
            "needs_background": "light"
          }
        }
      ]
    },
    {
      "cell_type": "code",
      "metadata": {
        "id": "pyZCLaaGtbwa",
        "colab": {
          "base_uri": "https://localhost:8080/"
        },
        "outputId": "cbed87d0-3907-43aa-88bb-35b2c4ccd1a1"
      },
      "source": [
        "test_loss, test_accuracy = model.evaluate(X_test, y_test, batch_size=128 , verbose=2)\r\n",
        "print('Accuracy on test dataset:', test_accuracy)"
      ],
      "execution_count": 70,
      "outputs": [
        {
          "output_type": "stream",
          "text": [
            "79/79 - 0s - loss: 0.9516 - accuracy: 0.7723\n",
            "Accuracy on test dataset: 0.7723000049591064\n"
          ],
          "name": "stdout"
        }
      ]
    },
    {
      "cell_type": "markdown",
      "metadata": {
        "id": "VhnjKY-YiNEO"
      },
      "source": [
        "## **Expiriment 7**"
      ]
    },
    {
      "cell_type": "markdown",
      "metadata": {
        "id": "7HbXziprsBbd"
      },
      "source": [
        "### Regularisation Method \r\n",
        "**As the model is overfitting i am going to try regularization methods:**\r\n",
        "\r\n",
        "1. L2 regularization\r\n",
        "3. Dropout\r\n",
        "4. Data augmentation"
      ]
    },
    {
      "cell_type": "markdown",
      "metadata": {
        "id": "QN-emxI3tIZg"
      },
      "source": [
        "####  **1. L2Regularisation**"
      ]
    },
    {
      "cell_type": "code",
      "metadata": {
        "colab": {
          "base_uri": "https://localhost:8080/"
        },
        "id": "wcIKwb9wpdzb",
        "outputId": "f7132a5c-dd22-447a-88e7-690d25e37001"
      },
      "source": [
        "# define the model architecture\r\n",
        "\r\n",
        "model = tf.keras.models.Sequential([\r\n",
        "    \r\n",
        "\r\n",
        "    tf.keras.layers.Conv2D(filters=32, kernel_size=3, padding=\"same\", activation=\"relu\", input_shape=[32,32,3],kernel_regularizer=tf.keras.regularizers.l2(0.001)),\r\n",
        "    tf.keras.layers.Conv2D(filters=32, kernel_size=3,padding=\"same\",activation=\"relu\",kernel_regularizer=tf.keras.regularizers.l2(0.001)),\r\n",
        "    tf.keras.layers.MaxPool2D(pool_size=2),\r\n",
        "\r\n",
        "\r\n",
        "\r\n",
        "    tf.keras.layers.Conv2D(filters=64, kernel_size=3,padding=\"same\",activation=\"relu\",kernel_regularizer=tf.keras.regularizers.l2(0.001)),\r\n",
        "    tf.keras.layers.Conv2D(filters=64, kernel_size=3,padding=\"same\",activation=\"relu\",kernel_regularizer=tf.keras.regularizers.l2(0.001)),\r\n",
        "    tf.keras.layers.MaxPool2D(pool_size=2),\r\n",
        "    \r\n",
        "\r\n",
        "    tf.keras.layers.Conv2D(filters=128, kernel_size=3,padding=\"same\",activation=\"relu\",kernel_regularizer=tf.keras.regularizers.l2(0.001)),\r\n",
        "    tf.keras.layers.Conv2D(filters=128, kernel_size=3,padding=\"same\",activation=\"relu\",kernel_regularizer=tf.keras.regularizers.l2(0.001)),\r\n",
        "    tf.keras.layers.MaxPool2D(pool_size=2),\r\n",
        "\r\n",
        "\r\n",
        "    tf.keras.layers.Flatten(),\r\n",
        "\r\n",
        "    tf.keras.layers.Dense(128,activation=\"relu\"),\r\n",
        "    tf.keras.layers.Dense(10,activation=\"softmax\")\r\n",
        "])\r\n",
        "model.summary()\r\n",
        "\r\n"
      ],
      "execution_count": 71,
      "outputs": [
        {
          "output_type": "stream",
          "text": [
            "Model: \"sequential_9\"\n",
            "_________________________________________________________________\n",
            "Layer (type)                 Output Shape              Param #   \n",
            "=================================================================\n",
            "conv2d_62 (Conv2D)           (None, 32, 32, 32)        896       \n",
            "_________________________________________________________________\n",
            "conv2d_63 (Conv2D)           (None, 32, 32, 32)        9248      \n",
            "_________________________________________________________________\n",
            "max_pooling2d_25 (MaxPooling (None, 16, 16, 32)        0         \n",
            "_________________________________________________________________\n",
            "conv2d_64 (Conv2D)           (None, 16, 16, 64)        18496     \n",
            "_________________________________________________________________\n",
            "conv2d_65 (Conv2D)           (None, 16, 16, 64)        36928     \n",
            "_________________________________________________________________\n",
            "max_pooling2d_26 (MaxPooling (None, 8, 8, 64)          0         \n",
            "_________________________________________________________________\n",
            "conv2d_66 (Conv2D)           (None, 8, 8, 128)         73856     \n",
            "_________________________________________________________________\n",
            "conv2d_67 (Conv2D)           (None, 8, 8, 128)         147584    \n",
            "_________________________________________________________________\n",
            "max_pooling2d_27 (MaxPooling (None, 4, 4, 128)         0         \n",
            "_________________________________________________________________\n",
            "flatten_9 (Flatten)          (None, 2048)              0         \n",
            "_________________________________________________________________\n",
            "dense_18 (Dense)             (None, 128)               262272    \n",
            "_________________________________________________________________\n",
            "dense_19 (Dense)             (None, 10)                1290      \n",
            "=================================================================\n",
            "Total params: 550,570\n",
            "Trainable params: 550,570\n",
            "Non-trainable params: 0\n",
            "_________________________________________________________________\n"
          ],
          "name": "stdout"
        }
      ]
    },
    {
      "cell_type": "code",
      "metadata": {
        "colab": {
          "base_uri": "https://localhost:8080/"
        },
        "id": "OiJX8fssuZB6",
        "outputId": "07590ad2-29cd-44ec-dcba-bc607682a93a"
      },
      "source": [
        "\r\n",
        "model.compile(loss = \"sparse_categorical_crossentropy\",\r\n",
        "              optimizer =\"adam\",\r\n",
        "              metrics = [\"accuracy\"] )\r\n",
        "\r\n",
        "history = model.fit(X_train, y_train, epochs=10,batch_size=128)"
      ],
      "execution_count": 72,
      "outputs": [
        {
          "output_type": "stream",
          "text": [
            "Epoch 1/10\n",
            "391/391 [==============================] - 5s 11ms/step - loss: 2.0055 - accuracy: 0.3388\n",
            "Epoch 2/10\n",
            "391/391 [==============================] - 4s 11ms/step - loss: 1.2339 - accuracy: 0.6133\n",
            "Epoch 3/10\n",
            "391/391 [==============================] - 4s 11ms/step - loss: 1.0216 - accuracy: 0.6982\n",
            "Epoch 4/10\n",
            "391/391 [==============================] - 4s 11ms/step - loss: 0.8709 - accuracy: 0.7525\n",
            "Epoch 5/10\n",
            "391/391 [==============================] - 4s 11ms/step - loss: 0.8018 - accuracy: 0.7806\n",
            "Epoch 6/10\n",
            "391/391 [==============================] - 4s 11ms/step - loss: 0.7301 - accuracy: 0.8066\n",
            "Epoch 7/10\n",
            "391/391 [==============================] - 4s 11ms/step - loss: 0.6948 - accuracy: 0.8217\n",
            "Epoch 8/10\n",
            "391/391 [==============================] - 4s 11ms/step - loss: 0.6364 - accuracy: 0.8444\n",
            "Epoch 9/10\n",
            "391/391 [==============================] - 4s 11ms/step - loss: 0.5906 - accuracy: 0.8630\n",
            "Epoch 10/10\n",
            "391/391 [==============================] - 4s 11ms/step - loss: 0.5717 - accuracy: 0.8728\n"
          ],
          "name": "stdout"
        }
      ]
    },
    {
      "cell_type": "code",
      "metadata": {
        "colab": {
          "base_uri": "https://localhost:8080/",
          "height": 0
        },
        "id": "8nGmGtX1uZE9",
        "outputId": "c59716d2-ec33-4983-ff10-05455f3868b6"
      },
      "source": [
        "# accuracy values are stored in the dictionary `History.history` \r\n",
        "# the dictonary key to access these accuracy values are:\r\n",
        "# \"acc\" in tensorflow versions <2\r\n",
        "# \"accuracy\" in later versions\r\n",
        "\r\n",
        "# check the current version\r\n",
        "if int(tf.__version__.split('.')[0]) > 1:\r\n",
        "    acc_key = 'accuracy'\r\n",
        "else:\r\n",
        "    acc_key = 'acc'\r\n",
        "\r\n",
        "#-----------------------------------------------------------\r\n",
        "# Retrieve a list of list results on training and validation data\r\n",
        "# sets for each training epoch\r\n",
        "#-----------------------------------------------------------\r\n",
        "acc      = history.history[acc_key]\r\n",
        "loss     = history.history['loss']\r\n",
        "epochs   = range(1,len(acc)+1) # Get number of epochs\r\n",
        "#------------------------------------------------\r\n",
        "# Plot training and validation accuracy per epoch\r\n",
        "#------------------------------------------------\r\n",
        "plt.plot(epochs, acc,  label='Training accuracy')\r\n",
        "plt.title('Training accuracy')\r\n",
        "plt.xticks(epochs)\r\n",
        "plt.xlabel('epoch')\r\n",
        "plt.ylabel('accuracy')\r\n",
        "plt.legend();"
      ],
      "execution_count": 73,
      "outputs": [
        {
          "output_type": "display_data",
          "data": {
            "image/png": "[encoded data removed]",
            "text/plain": [
              "<Figure size 432x288 with 1 Axes>"
            ]
          },
          "metadata": {
            "tags": [],
            "needs_background": "light"
          }
        }
      ]
    },
    {
      "cell_type": "code",
      "metadata": {
        "colab": {
          "base_uri": "https://localhost:8080/"
        },
        "id": "aDa_7p_IuZHp",
        "outputId": "c9a94ee0-5766-45e8-f116-d3020c996b6a"
      },
      "source": [
        "\r\n",
        "\r\n",
        "test_loss, test_accuracy = model.evaluate(X_test, y_test, batch_size=128 , verbose=2)\r\n",
        "print('Accuracy on test dataset:', test_accuracy)"
      ],
      "execution_count": 74,
      "outputs": [
        {
          "output_type": "stream",
          "text": [
            "79/79 - 0s - loss: 0.8715 - accuracy: 0.7830\n",
            "Accuracy on test dataset: 0.7829999923706055\n"
          ],
          "name": "stdout"
        }
      ]
    },
    {
      "cell_type": "markdown",
      "metadata": {
        "id": "HrQEfQod3OqR"
      },
      "source": [
        "#### **2. Drop Out**\r\n",
        "- the reason for choosing the numbering is according to the website :\r\n",
        "https://towardsdatascience.com/deep-learning-3-more-on-cnns-handling-overfitting-2bd5d99abe5d"
      ]
    },
    {
      "cell_type": "code",
      "metadata": {
        "colab": {
          "base_uri": "https://localhost:8080/"
        },
        "id": "WIBYannuyetl",
        "outputId": "5906e3f1-b7a0-4e6e-e935-1f54b42dfafc"
      },
      "source": [
        "# define the model architecture\r\n",
        "\r\n",
        "model = tf.keras.models.Sequential([\r\n",
        "    \r\n",
        "\r\n",
        "    tf.keras.layers.Conv2D(filters=32, kernel_size=3, padding=\"same\", activation=\"relu\", input_shape=[32,32,3],kernel_regularizer=tf.keras.regularizers.l2(0.0001)),\r\n",
        "    tf.keras.layers.Conv2D(filters=32, kernel_size=3,padding=\"same\",activation=\"relu\",kernel_regularizer=tf.keras.regularizers.l2(0.001)),\r\n",
        "    tf.keras.layers.MaxPool2D(pool_size=2),\r\n",
        "    tf.keras.layers.Dropout(rate=0.1),\r\n",
        "\r\n",
        "\r\n",
        "\r\n",
        "    tf.keras.layers.Conv2D(filters=64, kernel_size=3,padding=\"same\",activation=\"relu\",kernel_regularizer=tf.keras.regularizers.l2(0.001)),\r\n",
        "    tf.keras.layers.Conv2D(filters=64, kernel_size=3,padding=\"same\",activation=\"relu\",kernel_regularizer=tf.keras.regularizers.l2(0.001)),\r\n",
        "    tf.keras.layers.MaxPool2D(pool_size=2),\r\n",
        "    tf.keras.layers.Dropout(rate=0.2),\r\n",
        "    \r\n",
        "\r\n",
        "    tf.keras.layers.Conv2D(filters=128, kernel_size=3,padding=\"same\",activation=\"relu\",kernel_regularizer=tf.keras.regularizers.l2(0.001)),\r\n",
        "    tf.keras.layers.Conv2D(filters=128, kernel_size=3,padding=\"same\",activation=\"relu\",kernel_regularizer=tf.keras.regularizers.l2(0.001)),\r\n",
        "    tf.keras.layers.MaxPool2D(pool_size=2),\r\n",
        "    tf.keras.layers.Dropout(rate=0.3),\r\n",
        "\r\n",
        "\r\n",
        "    tf.keras.layers.Flatten(),\r\n",
        "\r\n",
        "    tf.keras.layers.Dense(128,activation=\"relu\"),\r\n",
        "    tf.keras.layers.Dense(10,activation=\"softmax\")\r\n",
        "])\r\n",
        "model.summary()"
      ],
      "execution_count": 75,
      "outputs": [
        {
          "output_type": "stream",
          "text": [
            "Model: \"sequential_10\"\n",
            "_________________________________________________________________\n",
            "Layer (type)                 Output Shape              Param #   \n",
            "=================================================================\n",
            "conv2d_68 (Conv2D)           (None, 32, 32, 32)        896       \n",
            "_________________________________________________________________\n",
            "conv2d_69 (Conv2D)           (None, 32, 32, 32)        9248      \n",
            "_________________________________________________________________\n",
            "max_pooling2d_28 (MaxPooling (None, 16, 16, 32)        0         \n",
            "_________________________________________________________________\n",
            "dropout (Dropout)            (None, 16, 16, 32)        0         \n",
            "_________________________________________________________________\n",
            "conv2d_70 (Conv2D)           (None, 16, 16, 64)        18496     \n",
            "_________________________________________________________________\n",
            "conv2d_71 (Conv2D)           (None, 16, 16, 64)        36928     \n",
            "_________________________________________________________________\n",
            "max_pooling2d_29 (MaxPooling (None, 8, 8, 64)          0         \n",
            "_________________________________________________________________\n",
            "dropout_1 (Dropout)          (None, 8, 8, 64)          0         \n",
            "_________________________________________________________________\n",
            "conv2d_72 (Conv2D)           (None, 8, 8, 128)         73856     \n",
            "_________________________________________________________________\n",
            "conv2d_73 (Conv2D)           (None, 8, 8, 128)         147584    \n",
            "_________________________________________________________________\n",
            "max_pooling2d_30 (MaxPooling (None, 4, 4, 128)         0         \n",
            "_________________________________________________________________\n",
            "dropout_2 (Dropout)          (None, 4, 4, 128)         0         \n",
            "_________________________________________________________________\n",
            "flatten_10 (Flatten)         (None, 2048)              0         \n",
            "_________________________________________________________________\n",
            "dense_20 (Dense)             (None, 128)               262272    \n",
            "_________________________________________________________________\n",
            "dense_21 (Dense)             (None, 10)                1290      \n",
            "=================================================================\n",
            "Total params: 550,570\n",
            "Trainable params: 550,570\n",
            "Non-trainable params: 0\n",
            "_________________________________________________________________\n"
          ],
          "name": "stdout"
        }
      ]
    },
    {
      "cell_type": "code",
      "metadata": {
        "colab": {
          "base_uri": "https://localhost:8080/"
        },
        "id": "5KV-E6w23Wh7",
        "outputId": "9510e994-a4c7-40c2-c3d6-c272f37f2d9c"
      },
      "source": [
        "\r\n",
        "model.compile(loss = \"sparse_categorical_crossentropy\",\r\n",
        "              optimizer =\"adam\",\r\n",
        "              metrics = [\"accuracy\"] )\r\n",
        "\r\n",
        "history = model.fit(X_train, y_train, epochs=10,batch_size=128)"
      ],
      "execution_count": 76,
      "outputs": [
        {
          "output_type": "stream",
          "text": [
            "Epoch 1/10\n",
            "391/391 [==============================] - 5s 12ms/step - loss: 1.9957 - accuracy: 0.3370\n",
            "Epoch 2/10\n",
            "391/391 [==============================] - 5s 12ms/step - loss: 1.2976 - accuracy: 0.5832\n",
            "Epoch 3/10\n",
            "391/391 [==============================] - 4s 11ms/step - loss: 1.0872 - accuracy: 0.6665\n",
            "Epoch 4/10\n",
            "391/391 [==============================] - 5s 12ms/step - loss: 0.9780 - accuracy: 0.7064\n",
            "Epoch 5/10\n",
            "391/391 [==============================] - 5s 12ms/step - loss: 0.9050 - accuracy: 0.7350\n",
            "Epoch 6/10\n",
            "391/391 [==============================] - 5s 12ms/step - loss: 0.8527 - accuracy: 0.7552\n",
            "Epoch 7/10\n",
            "391/391 [==============================] - 4s 11ms/step - loss: 0.8133 - accuracy: 0.7697\n",
            "Epoch 8/10\n",
            "391/391 [==============================] - 5s 12ms/step - loss: 0.7709 - accuracy: 0.7858\n",
            "Epoch 9/10\n",
            "391/391 [==============================] - 5s 12ms/step - loss: 0.7465 - accuracy: 0.7998\n",
            "Epoch 10/10\n",
            "391/391 [==============================] - 5s 12ms/step - loss: 0.7308 - accuracy: 0.8022\n"
          ],
          "name": "stdout"
        }
      ]
    },
    {
      "cell_type": "code",
      "metadata": {
        "colab": {
          "base_uri": "https://localhost:8080/",
          "height": 295
        },
        "id": "1H7HjPJ63apL",
        "outputId": "3033448c-641a-4ac8-d9a5-3d2fd398848b"
      },
      "source": [
        "# accuracy values are stored in the dictionary `History.history` \r\n",
        "# the dictonary key to access these accuracy values are:\r\n",
        "# \"acc\" in tensorflow versions <2\r\n",
        "# \"accuracy\" in later versions\r\n",
        "\r\n",
        "# check the current version\r\n",
        "if int(tf.__version__.split('.')[0]) > 1:\r\n",
        "    acc_key = 'accuracy'\r\n",
        "else:\r\n",
        "    acc_key = 'acc'\r\n",
        "\r\n",
        "#-----------------------------------------------------------\r\n",
        "# Retrieve a list of list results on training and validation data\r\n",
        "# sets for each training epoch\r\n",
        "#-----------------------------------------------------------\r\n",
        "acc      = history.history[acc_key]\r\n",
        "loss     = history.history['loss']\r\n",
        "epochs   = range(1,len(acc)+1) # Get number of epochs\r\n",
        "#------------------------------------------------\r\n",
        "# Plot training and validation accuracy per epoch\r\n",
        "#------------------------------------------------\r\n",
        "plt.plot(epochs, acc,  label='Training accuracy')\r\n",
        "plt.title('Training accuracy')\r\n",
        "plt.xticks(epochs)\r\n",
        "plt.xlabel('epoch')\r\n",
        "plt.ylabel('accuracy')\r\n",
        "plt.legend();"
      ],
      "execution_count": 77,
      "outputs": [
        {
          "output_type": "display_data",
          "data": {
            "image/png": "[encoded data removed]",
            "text/plain": [
              "<Figure size 432x288 with 1 Axes>"
            ]
          },
          "metadata": {
            "tags": [],
            "needs_background": "light"
          }
        }
      ]
    },
    {
      "cell_type": "code",
      "metadata": {
        "colab": {
          "base_uri": "https://localhost:8080/"
        },
        "id": "RIm21oFY3cwf",
        "outputId": "0b4afd2f-bb9f-48e3-92ce-64277602bd26"
      },
      "source": [
        "\r\n",
        "test_loss, test_accuracy = model.evaluate(X_test, y_test, batch_size=128 , verbose=2)\r\n",
        "print('Accuracy on test dataset:', test_accuracy)"
      ],
      "execution_count": 78,
      "outputs": [
        {
          "output_type": "stream",
          "text": [
            "79/79 - 0s - loss: 0.8053 - accuracy: 0.7844\n",
            "Accuracy on test dataset: 0.7843999862670898\n"
          ],
          "name": "stdout"
        }
      ]
    },
    {
      "cell_type": "markdown",
      "metadata": {
        "id": "r2-tGgypSKHd"
      },
      "source": [
        "#### **3. Data Argumentation**"
      ]
    },
    {
      "cell_type": "code",
      "metadata": {
        "colab": {
          "base_uri": "https://localhost:8080/"
        },
        "id": "JUEJ_dZiSVQt",
        "outputId": "8ad46a21-64af-45d1-d7f4-fb52e87a1edb"
      },
      "source": [
        "# define the model architecture\r\n",
        "\r\n",
        "model = tf.keras.models.Sequential([\r\n",
        "    \r\n",
        "\r\n",
        "    tf.keras.layers.Conv2D(filters=32, kernel_size=3, padding=\"same\", activation=\"relu\", input_shape=[32,32,3],kernel_regularizer=tf.keras.regularizers.l2(0.0001)),\r\n",
        "    tf.keras.layers.Conv2D(filters=32, kernel_size=3,padding=\"same\",activation=\"relu\",kernel_regularizer=tf.keras.regularizers.l2(0.001)),\r\n",
        "    tf.keras.layers.MaxPool2D(pool_size=2),\r\n",
        "    tf.keras.layers.Dropout(rate=0.1),\r\n",
        "\r\n",
        "\r\n",
        "\r\n",
        "    tf.keras.layers.Conv2D(filters=64, kernel_size=3,padding=\"same\",activation=\"relu\",kernel_regularizer=tf.keras.regularizers.l2(0.001)),\r\n",
        "    tf.keras.layers.Conv2D(filters=64, kernel_size=3,padding=\"same\",activation=\"relu\",kernel_regularizer=tf.keras.regularizers.l2(0.001)),\r\n",
        "    tf.keras.layers.MaxPool2D(pool_size=2),\r\n",
        "    tf.keras.layers.Dropout(rate=0.2),\r\n",
        "    \r\n",
        "\r\n",
        "    tf.keras.layers.Conv2D(filters=128, kernel_size=3,padding=\"same\",activation=\"relu\",kernel_regularizer=tf.keras.regularizers.l2(0.001)),\r\n",
        "    tf.keras.layers.Conv2D(filters=128, kernel_size=3,padding=\"same\",activation=\"relu\",kernel_regularizer=tf.keras.regularizers.l2(0.001)),\r\n",
        "    tf.keras.layers.MaxPool2D(pool_size=2),\r\n",
        "    tf.keras.layers.Dropout(rate=0.3),\r\n",
        "\r\n",
        "\r\n",
        "    tf.keras.layers.Flatten(),\r\n",
        "\r\n",
        "    tf.keras.layers.Dense(128,activation=\"relu\"),\r\n",
        "    tf.keras.layers.Dense(10,activation=\"softmax\")\r\n",
        "])\r\n",
        "model.summary()"
      ],
      "execution_count": 79,
      "outputs": [
        {
          "output_type": "stream",
          "text": [
            "Model: \"sequential_11\"\n",
            "_________________________________________________________________\n",
            "Layer (type)                 Output Shape              Param #   \n",
            "=================================================================\n",
            "conv2d_74 (Conv2D)           (None, 32, 32, 32)        896       \n",
            "_________________________________________________________________\n",
            "conv2d_75 (Conv2D)           (None, 32, 32, 32)        9248      \n",
            "_________________________________________________________________\n",
            "max_pooling2d_31 (MaxPooling (None, 16, 16, 32)        0         \n",
            "_________________________________________________________________\n",
            "dropout_3 (Dropout)          (None, 16, 16, 32)        0         \n",
            "_________________________________________________________________\n",
            "conv2d_76 (Conv2D)           (None, 16, 16, 64)        18496     \n",
            "_________________________________________________________________\n",
            "conv2d_77 (Conv2D)           (None, 16, 16, 64)        36928     \n",
            "_________________________________________________________________\n",
            "max_pooling2d_32 (MaxPooling (None, 8, 8, 64)          0         \n",
            "_________________________________________________________________\n",
            "dropout_4 (Dropout)          (None, 8, 8, 64)          0         \n",
            "_________________________________________________________________\n",
            "conv2d_78 (Conv2D)           (None, 8, 8, 128)         73856     \n",
            "_________________________________________________________________\n",
            "conv2d_79 (Conv2D)           (None, 8, 8, 128)         147584    \n",
            "_________________________________________________________________\n",
            "max_pooling2d_33 (MaxPooling (None, 4, 4, 128)         0         \n",
            "_________________________________________________________________\n",
            "dropout_5 (Dropout)          (None, 4, 4, 128)         0         \n",
            "_________________________________________________________________\n",
            "flatten_11 (Flatten)         (None, 2048)              0         \n",
            "_________________________________________________________________\n",
            "dense_22 (Dense)             (None, 128)               262272    \n",
            "_________________________________________________________________\n",
            "dense_23 (Dense)             (None, 10)                1290      \n",
            "=================================================================\n",
            "Total params: 550,570\n",
            "Trainable params: 550,570\n",
            "Non-trainable params: 0\n",
            "_________________________________________________________________\n"
          ],
          "name": "stdout"
        }
      ]
    },
    {
      "cell_type": "code",
      "metadata": {
        "id": "5_NumWbnSfYI"
      },
      "source": [
        "\r\n",
        "model.compile(loss = \"sparse_categorical_crossentropy\",\r\n",
        "              optimizer =\"adam\",\r\n",
        "              metrics = [\"accuracy\"] )\r\n"
      ],
      "execution_count": 80,
      "outputs": []
    },
    {
      "cell_type": "code",
      "metadata": {
        "id": "pjn0MON1SfbF"
      },
      "source": [
        "from keras.preprocessing.image import ImageDataGenerator\r\n",
        "datagen = ImageDataGenerator(\r\n",
        "    rotation_range=10,\r\n",
        "    width_shift_range=0.2,\r\n",
        "    height_shift_range=0.2,\r\n",
        "    horizontal_flip=True)\r\n",
        "it_train = datagen.flow(X_train, y_train, batch_size=128)"
      ],
      "execution_count": 81,
      "outputs": []
    },
    {
      "cell_type": "code",
      "metadata": {
        "colab": {
          "base_uri": "https://localhost:8080/"
        },
        "id": "xOCjOZUJSfeJ",
        "outputId": "d45bf226-0094-4448-fdb8-753d71afd7fb"
      },
      "source": [
        "\r\n",
        "history = model.fit(it_train, epochs=10,batch_size=128)\r\n"
      ],
      "execution_count": null,
      "outputs": [
        {
          "output_type": "stream",
          "text": [
            "Epoch 1/10\n",
            "391/391 [==============================] - 23s 58ms/step - loss: 2.1418 - accuracy: 0.2731\n",
            "Epoch 2/10\n",
            "391/391 [==============================] - 23s 58ms/step - loss: 1.5616 - accuracy: 0.4650\n",
            "Epoch 3/10\n",
            "391/391 [==============================] - 23s 58ms/step - loss: 1.3920 - accuracy: 0.5340\n",
            "Epoch 4/10\n",
            "170/391 [============>.................] - ETA: 12s - loss: 1.2867 - accuracy: 0.5829"
          ],
          "name": "stdout"
        }
      ]
    },
    {
      "cell_type": "code",
      "metadata": {
        "id": "bWvsnSOxSnvV"
      },
      "source": [
        "\r\n",
        "if int(tf.__version__.split('.')[0]) > 1:\r\n",
        "    acc_key = 'accuracy'\r\n",
        "else:\r\n",
        "    acc_key = 'acc'\r\n",
        "\r\n",
        "#-----------------------------------------------------------\r\n",
        "# Retrieve a list of list results on training and validation data\r\n",
        "# sets for each training epoch\r\n",
        "#-----------------------------------------------------------\r\n",
        "acc      = history.history[acc_key]\r\n",
        "loss     = history.history['loss']\r\n",
        "epochs   = range(1,len(acc)+1) \r\n",
        "#------------------------------------------------\r\n",
        "# Plot training and validation accuracy per epoch\r\n",
        "#------------------------------------------------\r\n",
        "plt.plot(epochs, acc,  label='Training accuracy')\r\n",
        "plt.title('Training accuracy')\r\n",
        "plt.xticks(epochs)\r\n",
        "plt.xlabel('epoch')\r\n",
        "plt.ylabel('accuracy')\r\n",
        "plt.legend();\r\n"
      ],
      "execution_count": null,
      "outputs": []
    },
    {
      "cell_type": "code",
      "metadata": {
        "id": "Rn_fY5_ISnya"
      },
      "source": [
        "\r\n",
        "\r\n",
        "test_loss, test_accuracy = model.evaluate(X_test, y_test, batch_size=128 , verbose=2)\r\n",
        "print('Accuracy on test dataset:', test_accuracy)"
      ],
      "execution_count": null,
      "outputs": []
    },
    {
      "cell_type": "markdown",
      "metadata": {
        "id": "r487r_YOlE23"
      },
      "source": [
        "## **Expiriment 8**"
      ]
    },
    {
      "cell_type": "markdown",
      "metadata": {
        "id": "q8KcDVLUfD_a"
      },
      "source": [
        "### **1. Earlier Stopping**"
      ]
    },
    {
      "cell_type": "code",
      "metadata": {
        "id": "kU_Kb_gZfQRh"
      },
      "source": [
        "# define the model architecture\r\n",
        "\r\n",
        "model = tf.keras.models.Sequential([\r\n",
        "    \r\n",
        "\r\n",
        "    tf.keras.layers.Conv2D(filters=32, kernel_size=3, padding=\"same\", activation=\"relu\", input_shape=[32,32,3],kernel_regularizer=tf.keras.regularizers.l2(0.0001)),\r\n",
        "    tf.keras.layers.Conv2D(filters=32, kernel_size=3,padding=\"same\",activation=\"relu\",kernel_regularizer=tf.keras.regularizers.l2(0.001)),\r\n",
        "    tf.keras.layers.MaxPool2D(pool_size=2),\r\n",
        "    tf.keras.layers.Dropout(rate=0.1),\r\n",
        "\r\n",
        "\r\n",
        "\r\n",
        "    tf.keras.layers.Conv2D(filters=64, kernel_size=3,padding=\"same\",activation=\"relu\",kernel_regularizer=tf.keras.regularizers.l2(0.001)),\r\n",
        "    tf.keras.layers.Conv2D(filters=64, kernel_size=3,padding=\"same\",activation=\"relu\",kernel_regularizer=tf.keras.regularizers.l2(0.001)),\r\n",
        "    tf.keras.layers.MaxPool2D(pool_size=2),\r\n",
        "    tf.keras.layers.Dropout(rate=0.2),\r\n",
        "    \r\n",
        "\r\n",
        "    tf.keras.layers.Conv2D(filters=128, kernel_size=3,padding=\"same\",activation=\"relu\",kernel_regularizer=tf.keras.regularizers.l2(0.001)),\r\n",
        "    tf.keras.layers.Conv2D(filters=128, kernel_size=3,padding=\"same\",activation=\"relu\",kernel_regularizer=tf.keras.regularizers.l2(0.001)),\r\n",
        "    tf.keras.layers.MaxPool2D(pool_size=2),\r\n",
        "    tf.keras.layers.Dropout(rate=0.3),\r\n",
        "\r\n",
        "\r\n",
        "    tf.keras.layers.Flatten(),\r\n",
        "\r\n",
        "    tf.keras.layers.Dense(128,activation=\"relu\"),\r\n",
        "    tf.keras.layers.Dense(10,activation=\"softmax\")\r\n",
        "])\r\n",
        "model.summary()"
      ],
      "execution_count": null,
      "outputs": []
    },
    {
      "cell_type": "code",
      "metadata": {
        "id": "aESpNM6bfQUg"
      },
      "source": [
        "# Compile your model\r\n",
        "### Start CODE HERE ### (1 lines of code)\r\n",
        "model.compile(loss = \"sparse_categorical_crossentropy\",\r\n",
        "              optimizer =\"adam\",\r\n",
        "              metrics = [\"accuracy\"] )\r\n",
        "\r\n",
        "\r\n",
        "from keras.callbacks import EarlyStopping, ModelCheckpoint\r\n",
        "\r\n",
        "early_stopping = tf.keras.callbacks.EarlyStopping(monitor='loss')\r\n",
        "\r\n",
        "history = model.fit(X_train, y_train, epochs=10,batch_size=128,callbacks = [early_stopping])\r\n"
      ],
      "execution_count": null,
      "outputs": []
    },
    {
      "cell_type": "code",
      "metadata": {
        "id": "IfyDt3c3fQXH"
      },
      "source": [
        "\r\n",
        "if int(tf.__version__.split('.')[0]) > 1:\r\n",
        "    acc_key = 'accuracy'\r\n",
        "else:\r\n",
        "    acc_key = 'acc'\r\n",
        "\r\n",
        "#-----------------------------------------------------------\r\n",
        "# Retrieve a list of list results on training and validation data\r\n",
        "# sets for each training epoch\r\n",
        "#-----------------------------------------------------------\r\n",
        "acc      = history.history[acc_key]\r\n",
        "loss     = history.history['loss']\r\n",
        "epochs   = range(1,len(acc)+1) \r\n",
        "#------------------------------------------------\r\n",
        "# Plot training and validation accuracy per epoch\r\n",
        "#------------------------------------------------\r\n",
        "plt.plot(epochs, acc,  label='Training accuracy')\r\n",
        "plt.title('Training accuracy')\r\n",
        "plt.xticks(epochs)\r\n",
        "plt.xlabel('epoch')\r\n",
        "plt.ylabel('accuracy')\r\n",
        "plt.legend();\r\n"
      ],
      "execution_count": null,
      "outputs": []
    },
    {
      "cell_type": "code",
      "metadata": {
        "id": "t6TSij8Gfa9C"
      },
      "source": [
        "from keras.callbacks import EarlyStopping, ModelCheckpoint\r\n",
        "early_stopping = tf.keras.callbacks.EarlyStopping(monitor='loss')\r\n",
        "\r\n",
        "test_loss, test_accuracy = model.evaluate(X_test, y_test, batch_size=128 , verbose=2,callbacks = [early_stopping])\r\n",
        "print('Accuracy on test dataset:', test_accuracy)"
      ],
      "execution_count": null,
      "outputs": []
    },
    {
      "cell_type": "markdown",
      "metadata": {
        "id": "MKjiTx5KlRfW"
      },
      "source": [
        "## **Expiriment 9**"
      ]
    },
    {
      "cell_type": "markdown",
      "metadata": {
        "id": "fT7yXYUyHAth"
      },
      "source": [
        "### **Weight Initialisation**"
      ]
    },
    {
      "cell_type": "code",
      "metadata": {
        "id": "RcOqG8XwG4JX"
      },
      "source": [
        "# define the model architecture\r\n",
        "\r\n",
        "model = tf.keras.models.Sequential([\r\n",
        "    \r\n",
        "\r\n",
        "    tf.keras.layers.Conv2D(filters=32, kernel_size=3, padding=\"same\", activation=\"relu\", input_shape=[32,32,3],kernel_initializer='random_normal',bias_initializer='zeros',kernel_regularizer=tf.keras.regularizers.l2(0.0001)),\r\n",
        "    tf.keras.layers.Conv2D(filters=32, kernel_size=3,padding=\"same\",activation=\"relu\",kernel_initializer='random_normal',bias_initializer='zeros',kernel_regularizer=tf.keras.regularizers.l2(0.001)),\r\n",
        "    tf.keras.layers.MaxPool2D(pool_size=2),\r\n",
        "    tf.keras.layers.Dropout(rate=0.1),\r\n",
        "\r\n",
        "\r\n",
        "\r\n",
        "    tf.keras.layers.Conv2D(filters=64, kernel_size=3,padding=\"same\",activation=\"relu\",kernel_initializer='random_normal',bias_initializer='zeros',kernel_regularizer=tf.keras.regularizers.l2(0.001)),\r\n",
        "    tf.keras.layers.Conv2D(filters=64, kernel_size=3,padding=\"same\",activation=\"relu\",kernel_initializer='random_normal',bias_initializer='zeros',kernel_regularizer=tf.keras.regularizers.l2(0.001)),\r\n",
        "    tf.keras.layers.MaxPool2D(pool_size=2),\r\n",
        "    tf.keras.layers.Dropout(rate=0.2),\r\n",
        "    \r\n",
        "\r\n",
        "    tf.keras.layers.Conv2D(filters=128, kernel_size=3,padding=\"same\",activation=\"relu\",kernel_initializer='random_normal',bias_initializer='zeros',kernel_regularizer=tf.keras.regularizers.l2(0.001)),\r\n",
        "    tf.keras.layers.Conv2D(filters=128, kernel_size=3,padding=\"same\",activation=\"relu\",kernel_initializer='random_normal',bias_initializer='zeros',kernel_regularizer=tf.keras.regularizers.l2(0.001)),\r\n",
        "    tf.keras.layers.MaxPool2D(pool_size=2),\r\n",
        "    tf.keras.layers.Dropout(rate=0.3),\r\n",
        "\r\n",
        "\r\n",
        "    tf.keras.layers.Flatten(),\r\n",
        "\r\n",
        "    tf.keras.layers.Dense(128,activation=\"relu\"),\r\n",
        "    tf.keras.layers.Dense(10,activation=\"softmax\")\r\n",
        "])\r\n",
        "model.summary()"
      ],
      "execution_count": null,
      "outputs": []
    },
    {
      "cell_type": "code",
      "metadata": {
        "id": "BfVwobKDG8Zp"
      },
      "source": [
        "# Compile your model\r\n",
        "### Start CODE HERE ### (1 lines of code)\r\n",
        "model.compile(loss = \"sparse_categorical_crossentropy\",\r\n",
        "              optimizer =\"adam\",\r\n",
        "              metrics = [\"accuracy\"] )\r\n",
        "\r\n",
        "\r\n",
        "from keras.callbacks import EarlyStopping, ModelCheckpoint\r\n",
        "\r\n",
        "early_stopping = tf.keras.callbacks.EarlyStopping(monitor='loss')\r\n",
        "\r\n",
        "history = model.fit(X_train, y_train, epochs=10,batch_size=128,callbacks = [early_stopping])\r\n"
      ],
      "execution_count": null,
      "outputs": []
    },
    {
      "cell_type": "code",
      "metadata": {
        "id": "Vim-DUIzTtQT"
      },
      "source": [
        "# accuracy values are stored in the dictionary `History.history` \r\n",
        "# the dictonary key to access these accuracy values are:\r\n",
        "# \"acc\" in tensorflow versions <2\r\n",
        "# \"accuracy\" in later versions\r\n",
        "\r\n",
        "# check the current version\r\n",
        "if int(tf.__version__.split('.')[0]) > 1:\r\n",
        "    acc_key = 'accuracy'\r\n",
        "else:\r\n",
        "    acc_key = 'acc'\r\n",
        "\r\n",
        "#-----------------------------------------------------------\r\n",
        "# Retrieve a list of list results on training and validation data\r\n",
        "# sets for each training epoch\r\n",
        "#-----------------------------------------------------------\r\n",
        "acc      = history.history[acc_key]\r\n",
        "loss     = history.history['loss']\r\n",
        "epochs   = range(1,len(acc)+1) # Get number of epochs\r\n",
        "#------------------------------------------------\r\n",
        "# Plot training and validation accuracy per epoch\r\n",
        "#------------------------------------------------\r\n",
        "plt.plot(epochs, acc,  label='Training accuracy')\r\n",
        "plt.title('Training accuracy')\r\n",
        "plt.xticks(epochs)\r\n",
        "plt.xlabel('epoch')\r\n",
        "plt.ylabel('accuracy')\r\n",
        "plt.legend();"
      ],
      "execution_count": null,
      "outputs": []
    },
    {
      "cell_type": "code",
      "metadata": {
        "id": "tVHwQlCKTtTX"
      },
      "source": [
        "from keras.callbacks import EarlyStopping, ModelCheckpoint\r\n",
        "early_stopping = tf.keras.callbacks.EarlyStopping(monitor='loss')\r\n",
        "\r\n",
        "test_loss, test_accuracy = model.evaluate(X_test, y_test, batch_size=128 , verbose=2,callbacks = [early_stopping])\r\n",
        "print('Accuracy on test dataset:', test_accuracy)"
      ],
      "execution_count": null,
      "outputs": []
    },
    {
      "cell_type": "markdown",
      "metadata": {
        "id": "17G27mTSlfyF"
      },
      "source": [
        "## **Expiriment 10**"
      ]
    },
    {
      "cell_type": "markdown",
      "metadata": {
        "id": "Nzrl9G0y4Tmf"
      },
      "source": [
        "### **Batch Normalisation**\r\n",
        "- https://keras.io/api/layers/normalization_layers/batch_normalization/"
      ]
    },
    {
      "cell_type": "code",
      "metadata": {
        "id": "LOXeNlQtYQRW"
      },
      "source": [
        "# define the model architecture\r\n",
        "\r\n",
        "model = tf.keras.models.Sequential([\r\n",
        "    \r\n",
        "\r\n",
        "    tf.keras.layers.Conv2D(filters=32, kernel_size=3, padding=\"same\", activation=\"relu\", input_shape=[32,32,3],kernel_initializer='random_normal',bias_initializer='zeros',kernel_regularizer=tf.keras.regularizers.l2(0.0001)),\r\n",
        "    tf.keras.layers.BatchNormalization(),\r\n",
        "    tf.keras.layers.Conv2D(filters=32, kernel_size=3,padding=\"same\",activation=\"relu\",kernel_initializer='random_normal',bias_initializer='zeros',kernel_regularizer=tf.keras.regularizers.l2(0.001)),\r\n",
        "    tf.keras.layers.MaxPool2D(pool_size=2),\r\n",
        "    tf.keras.layers.BatchNormalization(),\r\n",
        "    tf.keras.layers.Dropout(rate=0.3),\r\n",
        "\r\n",
        "\r\n",
        "\r\n",
        "    tf.keras.layers.Conv2D(filters=64, kernel_size=3,padding=\"same\",activation=\"relu\",kernel_initializer='random_normal',bias_initializer='zeros',kernel_regularizer=tf.keras.regularizers.l2(0.001)),\r\n",
        "    tf.keras.layers.BatchNormalization(),\r\n",
        "    tf.keras.layers.Conv2D(filters=64, kernel_size=3,padding=\"same\",activation=\"relu\",kernel_initializer='random_normal',bias_initializer='zeros',kernel_regularizer=tf.keras.regularizers.l2(0.001)),\r\n",
        "    tf.keras.layers.MaxPool2D(pool_size=2),\r\n",
        "    tf.keras.layers.BatchNormalization(),\r\n",
        "    tf.keras.layers.Dropout(rate=0.4),\r\n",
        "    \r\n",
        "\r\n",
        "    tf.keras.layers.Conv2D(filters=128, kernel_size=3,padding=\"same\",activation=\"relu\",kernel_initializer='random_normal',bias_initializer='zeros',kernel_regularizer=tf.keras.regularizers.l2(0.001)),\r\n",
        "    tf.keras.layers.BatchNormalization(),\r\n",
        "    tf.keras.layers.Conv2D(filters=128, kernel_size=3,padding=\"same\",activation=\"relu\",kernel_initializer='random_normal',bias_initializer='zeros',kernel_regularizer=tf.keras.regularizers.l2(0.001)),\r\n",
        "    tf.keras.layers.MaxPool2D(pool_size=2),\r\n",
        "    tf.keras.layers.BatchNormalization(),\r\n",
        "    tf.keras.layers.Dropout(rate=0.5),\r\n",
        "\r\n",
        "\r\n",
        "    tf.keras.layers.Flatten(),\r\n",
        "\r\n",
        "    tf.keras.layers.Dense(256,activation=\"relu\"),\r\n",
        "    tf.keras.layers.Dense(10,activation=\"softmax\")\r\n",
        "])\r\n",
        "model.summary()"
      ],
      "execution_count": null,
      "outputs": []
    },
    {
      "cell_type": "code",
      "metadata": {
        "id": "O1bSojUk4eSy"
      },
      "source": [
        "# opt = tf.keras.optimizers.Adam(learning_rate=0.001)\r\n",
        "# opt = tf.keras.optimizers.Adam(learning_rate=0.001)\r\n",
        "model.compile(loss = \"sparse_categorical_crossentropy\",\r\n",
        "              optimizer =\"adam\",\r\n",
        "              metrics = [\"accuracy\"] )\r\n",
        "### End CODE HERE ###"
      ],
      "execution_count": null,
      "outputs": []
    },
    {
      "cell_type": "code",
      "metadata": {
        "id": "QVar-rQm4eVy"
      },
      "source": [
        "from keras.callbacks import EarlyStopping, ModelCheckpoint\r\n",
        "\r\n",
        "early_stopping = tf.keras.callbacks.EarlyStopping(patience=2,monitor='loss')\r\n",
        "\r\n",
        "history = model.fit(X_train, y_train, epochs=10,batch_size=128,callbacks = [early_stopping])"
      ],
      "execution_count": null,
      "outputs": []
    },
    {
      "cell_type": "code",
      "metadata": {
        "id": "rY7OjuOF4ebs"
      },
      "source": [
        "# accuracy values are stored in the dictionary `History.history` \r\n",
        "# the dictonary key to access these accuracy values are:\r\n",
        "# \"acc\" in tensorflow versions <2\r\n",
        "# \"accuracy\" in later versions\r\n",
        "\r\n",
        "# check the current version\r\n",
        "if int(tf.__version__.split('.')[0]) > 1:\r\n",
        "    acc_key = 'accuracy'\r\n",
        "else:\r\n",
        "    acc_key = 'acc'\r\n",
        "\r\n",
        "#-----------------------------------------------------------\r\n",
        "# Retrieve a list of list results on training and validation data\r\n",
        "# sets for each training epoch\r\n",
        "#-----------------------------------------------------------\r\n",
        "acc      = history.history[acc_key]\r\n",
        "loss     = history.history['loss']\r\n",
        "epochs   = range(1,len(acc)+1) # Get number of epochs\r\n",
        "#------------------------------------------------\r\n",
        "# Plot training and validation accuracy per epoch\r\n",
        "#------------------------------------------------\r\n",
        "plt.plot(epochs, acc,  label='Training accuracy')\r\n",
        "plt.title('Training accuracy')\r\n",
        "plt.xticks(epochs)\r\n",
        "plt.xlabel('epoch')\r\n",
        "plt.ylabel('accuracy')\r\n",
        "plt.legend();"
      ],
      "execution_count": null,
      "outputs": []
    },
    {
      "cell_type": "code",
      "metadata": {
        "id": "PmtCmt5Y4lu_"
      },
      "source": [
        "from keras.callbacks import EarlyStopping, ModelCheckpoint\r\n",
        "early_stopping = tf.keras.callbacks.EarlyStopping(patience=2,monitor='loss')\r\n",
        "\r\n",
        "test_loss, test_accuracy = model.evaluate(X_test, y_test, batch_size=128 , verbose=2, callbacks = [early_stopping])\r\n",
        "print('Accuracy on test dataset:', test_accuracy)"
      ],
      "execution_count": null,
      "outputs": []
    },
    {
      "cell_type": "markdown",
      "metadata": {
        "id": "fHs22aWKlvO_"
      },
      "source": [
        "## **Expiriment 11**"
      ]
    },
    {
      "cell_type": "markdown",
      "metadata": {
        "id": "S0vL6AJP7lU1"
      },
      "source": [
        "### **Gradient Descent**\r\n",
        "- Batch gradient descent\r\n",
        "- Mini-batch gradient descent\r\n",
        "- https://towardsdatascience.com/hyper-parameter-tuning-techniques-in-deep-learning-4dad592c63c8"
      ]
    },
    {
      "cell_type": "markdown",
      "metadata": {
        "id": "GlWuMfx47yTA"
      },
      "source": [
        "#### **1. Batch gradient descent**"
      ]
    },
    {
      "cell_type": "code",
      "metadata": {
        "id": "DI5Bhpki7v6S"
      },
      "source": [
        "\r\n",
        "model = tf.keras.models.Sequential([\r\n",
        "    \r\n",
        "\r\n",
        "    tf.keras.layers.Conv2D(filters=32, kernel_size=3, padding=\"same\", activation=\"relu\", input_shape=[32,32,3],kernel_initializer='random_normal',bias_initializer='zeros',kernel_regularizer=tf.keras.regularizers.l2(0.0001)),\r\n",
        "    tf.keras.layers.BatchNormalization(),\r\n",
        "    tf.keras.layers.Conv2D(filters=32, kernel_size=3,padding=\"same\",activation=\"relu\",kernel_initializer='random_normal',bias_initializer='zeros',kernel_regularizer=tf.keras.regularizers.l2(0.001)),\r\n",
        "    tf.keras.layers.MaxPool2D(pool_size=2),\r\n",
        "    tf.keras.layers.BatchNormalization(),\r\n",
        "    tf.keras.layers.Dropout(rate=0.3),\r\n",
        "\r\n",
        "\r\n",
        "\r\n",
        "    tf.keras.layers.Conv2D(filters=64, kernel_size=3,padding=\"same\",activation=\"relu\",kernel_initializer='random_normal',bias_initializer='zeros',kernel_regularizer=tf.keras.regularizers.l2(0.001)),\r\n",
        "    tf.keras.layers.BatchNormalization(),\r\n",
        "    tf.keras.layers.Conv2D(filters=64, kernel_size=3,padding=\"same\",activation=\"relu\",kernel_initializer='random_normal',bias_initializer='zeros',kernel_regularizer=tf.keras.regularizers.l2(0.001)),\r\n",
        "    tf.keras.layers.MaxPool2D(pool_size=2),\r\n",
        "    tf.keras.layers.BatchNormalization(),\r\n",
        "    tf.keras.layers.Dropout(rate=0.4),\r\n",
        "    \r\n",
        "\r\n",
        "    tf.keras.layers.Conv2D(filters=128, kernel_size=3,padding=\"same\",activation=\"relu\",kernel_initializer='random_normal',bias_initializer='zeros',kernel_regularizer=tf.keras.regularizers.l2(0.001)),\r\n",
        "    tf.keras.layers.BatchNormalization(),\r\n",
        "    tf.keras.layers.Conv2D(filters=128, kernel_size=3,padding=\"same\",activation=\"relu\",kernel_initializer='random_normal',bias_initializer='zeros',kernel_regularizer=tf.keras.regularizers.l2(0.001)),\r\n",
        "    tf.keras.layers.MaxPool2D(pool_size=2),\r\n",
        "    tf.keras.layers.BatchNormalization(),\r\n",
        "    tf.keras.layers.Dropout(rate=0.5),\r\n",
        "\r\n",
        "\r\n",
        "    tf.keras.layers.Flatten(),\r\n",
        "\r\n",
        "    tf.keras.layers.Dense(256,activation=\"relu\"),\r\n",
        "    tf.keras.layers.Dense(10,activation=\"softmax\")\r\n",
        "])\r\n",
        "model.summary()"
      ],
      "execution_count": null,
      "outputs": []
    },
    {
      "cell_type": "code",
      "metadata": {
        "id": "d4lg9-AXQnjp"
      },
      "source": [
        "\r\n",
        "model.compile(loss = \"sparse_categorical_crossentropy\",\r\n",
        "              optimizer =\"adam\",\r\n",
        "              metrics = [\"accuracy\"] )\r\n",
        "### End CODE HERE ###"
      ],
      "execution_count": null,
      "outputs": []
    },
    {
      "cell_type": "code",
      "metadata": {
        "id": "REjfggGtQnl7"
      },
      "source": [
        "from keras.callbacks import EarlyStopping, ModelCheckpoint\r\n",
        "\r\n",
        "early_stopping = tf.keras.callbacks.EarlyStopping(monitor='loss')\r\n",
        "\r\n",
        "history = model.fit(X_train, y_train, epochs=10,callbacks = [early_stopping])"
      ],
      "execution_count": null,
      "outputs": []
    },
    {
      "cell_type": "code",
      "metadata": {
        "id": "qEF7_pqyQnrF"
      },
      "source": [
        "# accuracy values are stored in the dictionary `History.history` \r\n",
        "# the dictonary key to access these accuracy values are:\r\n",
        "# \"acc\" in tensorflow versions <2\r\n",
        "# \"accuracy\" in later versions\r\n",
        "\r\n",
        "# check the current version\r\n",
        "if int(tf.__version__.split('.')[0]) > 1:\r\n",
        "    acc_key = 'accuracy'\r\n",
        "else:\r\n",
        "    acc_key = 'acc'\r\n",
        "\r\n",
        "#-----------------------------------------------------------\r\n",
        "# Retrieve a list of list results on training and validation data\r\n",
        "# sets for each training epoch\r\n",
        "#-----------------------------------------------------------\r\n",
        "acc      = history.history[acc_key]\r\n",
        "loss     = history.history['loss']\r\n",
        "epochs   = range(1,len(acc)+1) # Get number of epochs\r\n",
        "#------------------------------------------------\r\n",
        "# Plot training and validation accuracy per epoch\r\n",
        "#------------------------------------------------\r\n",
        "plt.plot(epochs, acc,  label='Training accuracy')\r\n",
        "plt.title('Training accuracy')\r\n",
        "plt.xticks(epochs)\r\n",
        "plt.xlabel('epoch')\r\n",
        "plt.ylabel('accuracy')\r\n",
        "plt.legend();"
      ],
      "execution_count": null,
      "outputs": []
    },
    {
      "cell_type": "code",
      "metadata": {
        "id": "DFJH6Ka0Qn-2"
      },
      "source": [
        "from keras.callbacks import EarlyStopping, ModelCheckpoint\r\n",
        "early_stopping = tf.keras.callbacks.EarlyStopping(patience=2,monitor='loss')\r\n",
        "\r\n",
        "test_loss, test_accuracy = model.evaluate(X_test, y_test,verbose=2, callbacks = [early_stopping])\r\n",
        "print('Accuracy on test dataset:', test_accuracy)"
      ],
      "execution_count": null,
      "outputs": []
    },
    {
      "cell_type": "code",
      "metadata": {
        "id": "Wg9_VoUZQoBc"
      },
      "source": [
        ""
      ],
      "execution_count": null,
      "outputs": []
    },
    {
      "cell_type": "markdown",
      "metadata": {
        "id": "IHaHpmLc725R"
      },
      "source": [
        "#### **2. Mini-batch gradient descent**"
      ]
    },
    {
      "cell_type": "code",
      "metadata": {
        "id": "JLRzzAsP75lU"
      },
      "source": [
        "# define the model architecture\r\n",
        "\r\n",
        "model = tf.keras.models.Sequential([\r\n",
        "    \r\n",
        "\r\n",
        "    tf.keras.layers.Conv2D(filters=32, kernel_size=3, padding=\"same\", activation=\"relu\", input_shape=[32,32,3],kernel_initializer='random_normal',bias_initializer='zeros',kernel_regularizer=tf.keras.regularizers.l2(0.0001)),\r\n",
        "    tf.keras.layers.BatchNormalization(),\r\n",
        "    tf.keras.layers.Conv2D(filters=32, kernel_size=3,padding=\"same\",activation=\"relu\",kernel_initializer='random_normal',bias_initializer='zeros',kernel_regularizer=tf.keras.regularizers.l2(0.001)),\r\n",
        "    tf.keras.layers.MaxPool2D(pool_size=2),\r\n",
        "    tf.keras.layers.BatchNormalization(),\r\n",
        "    tf.keras.layers.Dropout(rate=0.3),\r\n",
        "\r\n",
        "\r\n",
        "\r\n",
        "    tf.keras.layers.Conv2D(filters=64, kernel_size=3,padding=\"same\",activation=\"relu\",kernel_initializer='random_normal',bias_initializer='zeros',kernel_regularizer=tf.keras.regularizers.l2(0.001)),\r\n",
        "    tf.keras.layers.BatchNormalization(),\r\n",
        "    tf.keras.layers.Conv2D(filters=64, kernel_size=3,padding=\"same\",activation=\"relu\",kernel_initializer='random_normal',bias_initializer='zeros',kernel_regularizer=tf.keras.regularizers.l2(0.001)),\r\n",
        "    tf.keras.layers.MaxPool2D(pool_size=2),\r\n",
        "    tf.keras.layers.BatchNormalization(),\r\n",
        "    tf.keras.layers.Dropout(rate=0.4),\r\n",
        "    \r\n",
        "\r\n",
        "    tf.keras.layers.Conv2D(filters=128, kernel_size=3,padding=\"same\",activation=\"relu\",kernel_initializer='random_normal',bias_initializer='zeros',kernel_regularizer=tf.keras.regularizers.l2(0.001)),\r\n",
        "    tf.keras.layers.BatchNormalization(),\r\n",
        "    tf.keras.layers.Conv2D(filters=128, kernel_size=3,padding=\"same\",activation=\"relu\",kernel_initializer='random_normal',bias_initializer='zeros',kernel_regularizer=tf.keras.regularizers.l2(0.001)),\r\n",
        "    tf.keras.layers.MaxPool2D(pool_size=2),\r\n",
        "    tf.keras.layers.BatchNormalization(),\r\n",
        "    tf.keras.layers.Dropout(rate=0.5),\r\n",
        "\r\n",
        "\r\n",
        "    tf.keras.layers.Flatten(),\r\n",
        "\r\n",
        "    tf.keras.layers.Dense(256,activation=\"relu\"),\r\n",
        "    tf.keras.layers.Dense(10,activation=\"softmax\")\r\n",
        "])\r\n",
        "model.summary()"
      ],
      "execution_count": null,
      "outputs": []
    },
    {
      "cell_type": "code",
      "metadata": {
        "id": "gi9x5v2aPzfa"
      },
      "source": [
        "# opt = tf.keras.optimizers.Adam(learning_rate=0.001)\r\n",
        "# opt = tf.keras.optimizers.Adam(learning_rate=0.001)\r\n",
        "model.compile(loss = \"sparse_categorical_crossentropy\",\r\n",
        "              optimizer =\"adam\",\r\n",
        "              metrics = [\"accuracy\"] )\r\n",
        "### End CODE HERE ###"
      ],
      "execution_count": null,
      "outputs": []
    },
    {
      "cell_type": "code",
      "metadata": {
        "id": "BX95gplfPzis"
      },
      "source": [
        "\r\n",
        "from keras.callbacks import EarlyStopping, ModelCheckpoint\r\n",
        "\r\n",
        "early_stopping = tf.keras.callbacks.EarlyStopping(monitor='loss')\r\n",
        "\r\n",
        "history = model.fit(X_train, y_train, epochs=10,batch_size=128,callbacks = [early_stopping])"
      ],
      "execution_count": null,
      "outputs": []
    },
    {
      "cell_type": "code",
      "metadata": {
        "id": "H76CBYE1Pznu"
      },
      "source": [
        "# accuracy values are stored in the dictionary `History.history` \r\n",
        "# the dictonary key to access these accuracy values are:\r\n",
        "# \"acc\" in tensorflow versions <2\r\n",
        "# \"accuracy\" in later versions\r\n",
        "\r\n",
        "# check the current version\r\n",
        "if int(tf.__version__.split('.')[0]) > 1:\r\n",
        "    acc_key = 'accuracy'\r\n",
        "else:\r\n",
        "    acc_key = 'acc'\r\n",
        "\r\n",
        "#-----------------------------------------------------------\r\n",
        "# Retrieve a list of list results on training and validation data\r\n",
        "# sets for each training epoch\r\n",
        "#-----------------------------------------------------------\r\n",
        "acc      = history.history[acc_key]\r\n",
        "loss     = history.history['loss']\r\n",
        "epochs   = range(1,len(acc)+1) # Get number of epochs\r\n",
        "#------------------------------------------------\r\n",
        "# Plot training and validation accuracy per epoch\r\n",
        "#------------------------------------------------\r\n",
        "plt.plot(epochs, acc,  label='Training accuracy')\r\n",
        "plt.title('Training accuracy')\r\n",
        "plt.xticks(epochs)\r\n",
        "plt.xlabel('epoch')\r\n",
        "plt.ylabel('accuracy')\r\n",
        "plt.legend();"
      ],
      "execution_count": null,
      "outputs": []
    },
    {
      "cell_type": "code",
      "metadata": {
        "id": "3Xz1ID6mQBe6"
      },
      "source": [
        "from keras.callbacks import EarlyStopping, ModelCheckpoint\r\n",
        "early_stopping = tf.keras.callbacks.EarlyStopping(monitor='loss')\r\n",
        "\r\n",
        "test_loss, test_accuracy = model.evaluate(X_test, y_test, batch_size=128 , verbose=2, callbacks = [early_stopping])\r\n",
        "print('Accuracy on test dataset:', test_accuracy)"
      ],
      "execution_count": null,
      "outputs": []
    },
    {
      "cell_type": "markdown",
      "metadata": {
        "id": "QW2ac4rT-RBd"
      },
      "source": [
        "---"
      ]
    },
    {
      "cell_type": "markdown",
      "metadata": {
        "id": "b7Aa91gtmPrS"
      },
      "source": [
        "## **Expiriment 12**"
      ]
    },
    {
      "cell_type": "markdown",
      "metadata": {
        "id": "L9Wa1E-D78Nd"
      },
      "source": [
        "### **Optimization Algorithms** \r\n",
        "\r\n",
        "Teaking its learning rate and other parameters\r\n",
        "\r\n",
        "Keras Link:- https://keras.io/api/optimizers/\r\n",
        "\r\n",
        "- SGD\r\n",
        "- RMSprop\r\n",
        "- Adam\r\n",
        "- Adadelta\r\n",
        "- Adagrad\r\n",
        "- Adamax"
      ]
    },
    {
      "cell_type": "markdown",
      "metadata": {
        "id": "e7PbYULh8pOu"
      },
      "source": [
        "#### **1. SDG**"
      ]
    },
    {
      "cell_type": "code",
      "metadata": {
        "id": "vGOuIDXI8j85"
      },
      "source": [
        "model = tf.keras.models.Sequential([\r\n",
        "    \r\n",
        "\r\n",
        "    tf.keras.layers.Conv2D(filters=32, kernel_size=3, padding=\"same\", activation=\"relu\", input_shape=[32,32,3],kernel_initializer='random_normal',bias_initializer='zeros',kernel_regularizer=tf.keras.regularizers.l2(0.0001)),\r\n",
        "    tf.keras.layers.BatchNormalization(),\r\n",
        "    tf.keras.layers.Conv2D(filters=32, kernel_size=3,padding=\"same\",activation=\"relu\",kernel_initializer='random_normal',bias_initializer='zeros',kernel_regularizer=tf.keras.regularizers.l2(0.001)),\r\n",
        "    tf.keras.layers.MaxPool2D(pool_size=2),\r\n",
        "    tf.keras.layers.BatchNormalization(),\r\n",
        "    tf.keras.layers.Dropout(rate=0.3),\r\n",
        "\r\n",
        "\r\n",
        "\r\n",
        "    tf.keras.layers.Conv2D(filters=64, kernel_size=3,padding=\"same\",activation=\"relu\",kernel_initializer='random_normal',bias_initializer='zeros',kernel_regularizer=tf.keras.regularizers.l2(0.001)),\r\n",
        "    tf.keras.layers.BatchNormalization(),\r\n",
        "    tf.keras.layers.Conv2D(filters=64, kernel_size=3,padding=\"same\",activation=\"relu\",kernel_initializer='random_normal',bias_initializer='zeros',kernel_regularizer=tf.keras.regularizers.l2(0.001)),\r\n",
        "    tf.keras.layers.MaxPool2D(pool_size=2),\r\n",
        "    tf.keras.layers.BatchNormalization(),\r\n",
        "    tf.keras.layers.Dropout(rate=0.4),\r\n",
        "    \r\n",
        "\r\n",
        "    tf.keras.layers.Conv2D(filters=128, kernel_size=3,padding=\"same\",activation=\"relu\",kernel_initializer='random_normal',bias_initializer='zeros',kernel_regularizer=tf.keras.regularizers.l2(0.001)),\r\n",
        "    tf.keras.layers.BatchNormalization(),\r\n",
        "    tf.keras.layers.Conv2D(filters=128, kernel_size=3,padding=\"same\",activation=\"relu\",kernel_initializer='random_normal',bias_initializer='zeros',kernel_regularizer=tf.keras.regularizers.l2(0.001)),\r\n",
        "    tf.keras.layers.MaxPool2D(pool_size=2),\r\n",
        "    tf.keras.layers.BatchNormalization(),\r\n",
        "    tf.keras.layers.Dropout(rate=0.5),\r\n",
        "\r\n",
        "\r\n",
        "    tf.keras.layers.Flatten(),\r\n",
        "\r\n",
        "    tf.keras.layers.Dense(128,activation=\"relu\"),\r\n",
        "    tf.keras.layers.Dense(10,activation=\"softmax\")\r\n",
        "])\r\n",
        "model.summary()"
      ],
      "execution_count": null,
      "outputs": []
    },
    {
      "cell_type": "code",
      "metadata": {
        "id": "knMhcxz9cE3K"
      },
      "source": [
        "# SDG Without Parameter tuned \r\n",
        "# opt  = tf.keras.optimizers.SGD( )\r\n",
        "\r\n",
        "\r\n",
        "# SDG With Parameter tuned \r\n",
        "\r\n",
        "\r\n",
        "# opt  = tf.keras.optimizers.SGD( learning_rate = 0.01)\r\n",
        "\r\n",
        "opt  = tf.keras.optimizers.SGD( learning_rate = 0.001)\r\n",
        "\r\n",
        "# opt  = tf.keras.optimizers.SGD( learning_rate = 0.0001)\r\n",
        "\r\n",
        "\r\n",
        "# opt  = tf.keras.optimizers.SGD( learning_rate=0.01, momentum= 0.2)\r\n",
        "\r\n",
        "\r\n",
        "# opt  = tf.keras.optimizers.SGD( learning_rate=0.01, momentum= 0.6)\r\n",
        "\r\n",
        "\r\n",
        "# opt  = tf.keras.optimizers.SGD( learning_rate=0.01, momentum= 0.9)\r\n",
        "\r\n",
        "\r\n",
        "model.compile(loss = \"sparse_categorical_crossentropy\",\r\n",
        "              optimizer = opt,\r\n",
        "              metrics = [\"accuracy\"] )\r\n",
        "### End CODE HERE ###"
      ],
      "execution_count": null,
      "outputs": []
    },
    {
      "cell_type": "code",
      "metadata": {
        "id": "_vlgjLMOcE6T"
      },
      "source": [
        "from keras.callbacks import EarlyStopping, ModelCheckpoint\r\n",
        "\r\n",
        "early_stopping = tf.keras.callbacks.EarlyStopping(monitor='loss')\r\n",
        "\r\n",
        "history = model.fit(X_train, y_train, epochs=10,batch_size=128,callbacks = [early_stopping])"
      ],
      "execution_count": null,
      "outputs": []
    },
    {
      "cell_type": "code",
      "metadata": {
        "id": "ECVAc_ULcE9q"
      },
      "source": [
        "# accuracy values are stored in the dictionary `History.history` \r\n",
        "# the dictonary key to access these accuracy values are:\r\n",
        "# \"acc\" in tensorflow versions <2\r\n",
        "# \"accuracy\" in later versions\r\n",
        "\r\n",
        "# check the current version\r\n",
        "if int(tf.__version__.split('.')[0]) > 1:\r\n",
        "    acc_key = 'accuracy'\r\n",
        "else:\r\n",
        "    acc_key = 'acc'\r\n",
        "\r\n",
        "#-----------------------------------------------------------\r\n",
        "# Retrieve a list of list results on training and validation data\r\n",
        "# sets for each training epoch\r\n",
        "#-----------------------------------------------------------\r\n",
        "acc      = history.history[acc_key]\r\n",
        "loss     = history.history['loss']\r\n",
        "epochs   = range(1,len(acc)+1) # Get number of epochs\r\n",
        "#------------------------------------------------\r\n",
        "# Plot training and validation accuracy per epoch\r\n",
        "#------------------------------------------------\r\n",
        "plt.plot(epochs, acc,  label='Training accuracy')\r\n",
        "plt.title('Training accuracy')\r\n",
        "plt.xticks(epochs)\r\n",
        "plt.xlabel('epoch')\r\n",
        "plt.ylabel('accuracy')\r\n",
        "plt.legend();"
      ],
      "execution_count": null,
      "outputs": []
    },
    {
      "cell_type": "code",
      "metadata": {
        "id": "v7SD8mp7cFP6"
      },
      "source": [
        "from keras.callbacks import EarlyStopping, ModelCheckpoint\r\n",
        "early_stopping = tf.keras.callbacks.EarlyStopping(monitor='loss')\r\n",
        "\r\n",
        "test_loss, test_accuracy = model.evaluate(X_test, y_test, batch_size=128 , verbose=2, callbacks = [early_stopping])\r\n",
        "print('Accuracy on test dataset:', test_accuracy)"
      ],
      "execution_count": null,
      "outputs": []
    },
    {
      "cell_type": "markdown",
      "metadata": {
        "id": "QD1iBKry8sU5"
      },
      "source": [
        "#### **2. RMSprop**"
      ]
    },
    {
      "cell_type": "code",
      "metadata": {
        "id": "dU6L-igZ8rTm"
      },
      "source": [
        "model = tf.keras.models.Sequential([\r\n",
        "    \r\n",
        "\r\n",
        "    tf.keras.layers.Conv2D(filters=32, kernel_size=3, padding=\"same\", activation=\"relu\", input_shape=[32,32,3],kernel_initializer='random_normal',bias_initializer='zeros',kernel_regularizer=tf.keras.regularizers.l2(0.0001)),\r\n",
        "    tf.keras.layers.BatchNormalization(),\r\n",
        "    tf.keras.layers.Conv2D(filters=32, kernel_size=3,padding=\"same\",activation=\"relu\",kernel_initializer='random_normal',bias_initializer='zeros',kernel_regularizer=tf.keras.regularizers.l2(0.001)),\r\n",
        "    tf.keras.layers.MaxPool2D(pool_size=2),\r\n",
        "    tf.keras.layers.BatchNormalization(),\r\n",
        "    tf.keras.layers.Dropout(rate=0.3),\r\n",
        "\r\n",
        "\r\n",
        "\r\n",
        "    tf.keras.layers.Conv2D(filters=64, kernel_size=3,padding=\"same\",activation=\"relu\",kernel_initializer='random_normal',bias_initializer='zeros',kernel_regularizer=tf.keras.regularizers.l2(0.001)),\r\n",
        "    tf.keras.layers.BatchNormalization(),\r\n",
        "    tf.keras.layers.Conv2D(filters=64, kernel_size=3,padding=\"same\",activation=\"relu\",kernel_initializer='random_normal',bias_initializer='zeros',kernel_regularizer=tf.keras.regularizers.l2(0.001)),\r\n",
        "    tf.keras.layers.MaxPool2D(pool_size=2),\r\n",
        "    tf.keras.layers.BatchNormalization(),\r\n",
        "    tf.keras.layers.Dropout(rate=0.4),\r\n",
        "    \r\n",
        "\r\n",
        "    tf.keras.layers.Conv2D(filters=128, kernel_size=3,padding=\"same\",activation=\"relu\",kernel_initializer='random_normal',bias_initializer='zeros',kernel_regularizer=tf.keras.regularizers.l2(0.001)),\r\n",
        "    tf.keras.layers.BatchNormalization(),\r\n",
        "    tf.keras.layers.Conv2D(filters=128, kernel_size=3,padding=\"same\",activation=\"relu\",kernel_initializer='random_normal',bias_initializer='zeros',kernel_regularizer=tf.keras.regularizers.l2(0.001)),\r\n",
        "    tf.keras.layers.MaxPool2D(pool_size=2),\r\n",
        "    tf.keras.layers.BatchNormalization(),\r\n",
        "    tf.keras.layers.Dropout(rate=0.5),\r\n",
        "\r\n",
        "\r\n",
        "    tf.keras.layers.Flatten(),\r\n",
        "\r\n",
        "    tf.keras.layers.Dense(128,activation=\"relu\"),\r\n",
        "    tf.keras.layers.Dense(10,activation=\"softmax\")\r\n",
        "])\r\n",
        "model.summary()"
      ],
      "execution_count": null,
      "outputs": []
    },
    {
      "cell_type": "code",
      "metadata": {
        "id": "XRoGKRe9xHrq"
      },
      "source": [
        "# #Normal RMSPROP \r\n",
        "# opt  = tf.keras.optimizers.RMSprop()\r\n",
        "\r\n",
        "# #Parameters tunings expiriment\r\n",
        "# opt  = tf.keras.optimizers.RMSprop(learning_rate=0.01)\r\n",
        "\r\n",
        "# opt  = tf.keras.optimizers.RMSprop(learning_rate=0.001)\r\n",
        "\r\n",
        "# opt  = tf.keras.optimizers.RMSprop(learning_rate=0.0001)\r\n",
        "\r\n",
        "opt  = tf.keras.optimizers.RMSprop(learning_rate=0.001, momentum=0.2)\r\n",
        "\r\n",
        "# opt  = tf.keras.optimizers.RMSprop(learning_rate=0.001, momentum=0.6)\r\n",
        "\r\n",
        "# opt  = tf.keras.optimizers.RMSprop(learning_rate=0.001, momentum=0.9)\r\n",
        "\r\n",
        "model.compile(loss = \"sparse_categorical_crossentropy\",\r\n",
        "              optimizer = opt,\r\n",
        "              metrics = [\"accuracy\"] )\r\n",
        "### End CODE HERE ###"
      ],
      "execution_count": null,
      "outputs": []
    },
    {
      "cell_type": "code",
      "metadata": {
        "id": "qvoB0a08xHvN"
      },
      "source": [
        "from keras.callbacks import EarlyStopping, ModelCheckpoint\r\n",
        "\r\n",
        "early_stopping = tf.keras.callbacks.EarlyStopping(monitor='loss')\r\n",
        "\r\n",
        "history = model.fit(X_train, y_train, epochs=10,batch_size=128,callbacks = [early_stopping])"
      ],
      "execution_count": null,
      "outputs": []
    },
    {
      "cell_type": "code",
      "metadata": {
        "id": "ke2zTMDuxHxc"
      },
      "source": [
        "# accuracy values are stored in the dictionary `History.history` \r\n",
        "# the dictonary key to access these accuracy values are:\r\n",
        "# \"acc\" in tensorflow versions <2\r\n",
        "# \"accuracy\" in later versions\r\n",
        "\r\n",
        "# check the current version\r\n",
        "if int(tf.__version__.split('.')[0]) > 1:\r\n",
        "    acc_key = 'accuracy'\r\n",
        "else:\r\n",
        "    acc_key = 'acc'\r\n",
        "\r\n",
        "#-----------------------------------------------------------\r\n",
        "# Retrieve a list of list results on training and validation data\r\n",
        "# sets for each training epoch\r\n",
        "#-----------------------------------------------------------\r\n",
        "acc      = history.history[acc_key]\r\n",
        "loss     = history.history['loss']\r\n",
        "epochs   = range(1,len(acc)+1) # Get number of epochs\r\n",
        "#------------------------------------------------\r\n",
        "# Plot training and validation accuracy per epoch\r\n",
        "#------------------------------------------------\r\n",
        "plt.plot(epochs, acc,  label='Training accuracy')\r\n",
        "plt.title('Training accuracy')\r\n",
        "plt.xticks(epochs)\r\n",
        "plt.xlabel('epoch')\r\n",
        "plt.ylabel('accuracy')\r\n",
        "plt.legend();"
      ],
      "execution_count": null,
      "outputs": []
    },
    {
      "cell_type": "code",
      "metadata": {
        "id": "KQfIJ_W-xH0Y"
      },
      "source": [
        "from keras.callbacks import EarlyStopping, ModelCheckpoint\r\n",
        "early_stopping = tf.keras.callbacks.EarlyStopping(monitor='loss')\r\n",
        "\r\n",
        "test_loss, test_accuracy = model.evaluate(X_test, y_test, batch_size=128 , verbose=2, callbacks = [early_stopping])\r\n",
        "print('Accuracy on test dataset:', test_accuracy)"
      ],
      "execution_count": null,
      "outputs": []
    },
    {
      "cell_type": "markdown",
      "metadata": {
        "id": "MBM6jWAR8xbn"
      },
      "source": [
        "#### **3. Adam**"
      ]
    },
    {
      "cell_type": "code",
      "metadata": {
        "id": "uCTvF-j280F4"
      },
      "source": [
        "model = tf.keras.models.Sequential([\r\n",
        "    \r\n",
        "\r\n",
        "    tf.keras.layers.Conv2D(filters=32, kernel_size=3, padding=\"same\", activation=\"relu\", input_shape=[32,32,3],kernel_initializer='random_normal',bias_initializer='zeros',kernel_regularizer=tf.keras.regularizers.l2(0.0001)),\r\n",
        "    tf.keras.layers.BatchNormalization(),\r\n",
        "    tf.keras.layers.Conv2D(filters=32, kernel_size=3,padding=\"same\",activation=\"relu\",kernel_initializer='random_normal',bias_initializer='zeros',kernel_regularizer=tf.keras.regularizers.l2(0.001)),\r\n",
        "    tf.keras.layers.MaxPool2D(pool_size=2),\r\n",
        "    tf.keras.layers.BatchNormalization(),\r\n",
        "    tf.keras.layers.Dropout(rate=0.3),\r\n",
        "\r\n",
        "\r\n",
        "\r\n",
        "    tf.keras.layers.Conv2D(filters=64, kernel_size=3,padding=\"same\",activation=\"relu\",kernel_initializer='random_normal',bias_initializer='zeros',kernel_regularizer=tf.keras.regularizers.l2(0.001)),\r\n",
        "    tf.keras.layers.BatchNormalization(),\r\n",
        "    tf.keras.layers.Conv2D(filters=64, kernel_size=3,padding=\"same\",activation=\"relu\",kernel_initializer='random_normal',bias_initializer='zeros',kernel_regularizer=tf.keras.regularizers.l2(0.001)),\r\n",
        "    tf.keras.layers.MaxPool2D(pool_size=2),\r\n",
        "    tf.keras.layers.BatchNormalization(),\r\n",
        "    tf.keras.layers.Dropout(rate=0.4),\r\n",
        "    \r\n",
        "\r\n",
        "    tf.keras.layers.Conv2D(filters=128, kernel_size=3,padding=\"same\",activation=\"relu\",kernel_initializer='random_normal',bias_initializer='zeros',kernel_regularizer=tf.keras.regularizers.l2(0.001)),\r\n",
        "    tf.keras.layers.BatchNormalization(),\r\n",
        "    tf.keras.layers.Conv2D(filters=128, kernel_size=3,padding=\"same\",activation=\"relu\",kernel_initializer='random_normal',bias_initializer='zeros',kernel_regularizer=tf.keras.regularizers.l2(0.001)),\r\n",
        "    tf.keras.layers.MaxPool2D(pool_size=2),\r\n",
        "    tf.keras.layers.BatchNormalization(),\r\n",
        "    tf.keras.layers.Dropout(rate=0.5),\r\n",
        "\r\n",
        "\r\n",
        "    tf.keras.layers.Flatten(),\r\n",
        "\r\n",
        "    tf.keras.layers.Dense(128,activation=\"relu\"),\r\n",
        "    tf.keras.layers.Dense(10,activation=\"softmax\")\r\n",
        "])\r\n",
        "model.summary()"
      ],
      "execution_count": null,
      "outputs": []
    },
    {
      "cell_type": "code",
      "metadata": {
        "id": "xyJERn5eUttn"
      },
      "source": [
        "# #Normal Adam \r\n",
        "# opt  = tf.keras.optimizers.Adam()\r\n",
        "\r\n",
        "# #Parameters tunings expiriment\r\n",
        "# opt  = tf.keras.optimizers.Adam(learning_rate=0.01)\r\n",
        "\r\n",
        "# opt  = tf.keras.optimizers.Adam(learning_rate=0.001)\r\n",
        "\r\n",
        "# opt  = tf.keras.optimizers.Adam(learning_rate=0.0001)\r\n",
        "\r\n",
        "opt  = tf.keras.optimizers.Adam(learning_rate=0.001, epsilon=0.001)\r\n",
        "\r\n",
        "# opt  = tf.keras.optimizers.Adam(learning_rate=0.001, epsilon=0.01)\r\n",
        "\r\n",
        "# opt  = tf.keras.optimizers.Adam(learning_rate=0.001, epsilon=0.0001)\r\n",
        "\r\n",
        "model.compile(loss = \"sparse_categorical_crossentropy\",\r\n",
        "              optimizer = opt,\r\n",
        "              metrics = [\"accuracy\"] )\r\n",
        "### End CODE HERE ###"
      ],
      "execution_count": null,
      "outputs": []
    },
    {
      "cell_type": "code",
      "metadata": {
        "id": "woRwdPsCUtwY"
      },
      "source": [
        "from keras.callbacks import EarlyStopping, ModelCheckpoint\r\n",
        "\r\n",
        "early_stopping = tf.keras.callbacks.EarlyStopping(monitor='loss')\r\n",
        "\r\n",
        "history = model.fit(X_train, y_train, epochs=10,batch_size=128,callbacks = [early_stopping])"
      ],
      "execution_count": null,
      "outputs": []
    },
    {
      "cell_type": "code",
      "metadata": {
        "id": "OicTKWOWUtyu"
      },
      "source": [
        "# accuracy values are stored in the dictionary `History.history` \r\n",
        "# the dictonary key to access these accuracy values are:\r\n",
        "# \"acc\" in tensorflow versions <2\r\n",
        "# \"accuracy\" in later versions\r\n",
        "\r\n",
        "# check the current version\r\n",
        "if int(tf.__version__.split('.')[0]) > 1:\r\n",
        "    acc_key = 'accuracy'\r\n",
        "else:\r\n",
        "    acc_key = 'acc'\r\n",
        "\r\n",
        "#-----------------------------------------------------------\r\n",
        "# Retrieve a list of list results on training and validation data\r\n",
        "# sets for each training epoch\r\n",
        "#-----------------------------------------------------------\r\n",
        "acc      = history.history[acc_key]\r\n",
        "loss     = history.history['loss']\r\n",
        "epochs   = range(1,len(acc)+1) # Get number of epochs\r\n",
        "#------------------------------------------------\r\n",
        "# Plot training and validation accuracy per epoch\r\n",
        "#------------------------------------------------\r\n",
        "plt.plot(epochs, acc,  label='Training accuracy')\r\n",
        "plt.title('Training accuracy')\r\n",
        "plt.xticks(epochs)\r\n",
        "plt.xlabel('epoch')\r\n",
        "plt.ylabel('accuracy')\r\n",
        "plt.legend();"
      ],
      "execution_count": null,
      "outputs": []
    },
    {
      "cell_type": "code",
      "metadata": {
        "id": "pOqV3T3DUt3W"
      },
      "source": [
        "from keras.callbacks import EarlyStopping, ModelCheckpoint\r\n",
        "early_stopping = tf.keras.callbacks.EarlyStopping(monitor='loss')\r\n",
        "\r\n",
        "test_loss, test_accuracy = model.evaluate(X_test, y_test, batch_size=128 , verbose=2, callbacks = [early_stopping])\r\n",
        "print('Accuracy on test dataset:', test_accuracy)"
      ],
      "execution_count": null,
      "outputs": []
    },
    {
      "cell_type": "markdown",
      "metadata": {
        "id": "WvqsbAK080cL"
      },
      "source": [
        "#### **4. Adadelta**"
      ]
    },
    {
      "cell_type": "code",
      "metadata": {
        "id": "cug97AAQ88IZ"
      },
      "source": [
        "model = tf.keras.models.Sequential([\r\n",
        "    \r\n",
        "\r\n",
        "    tf.keras.layers.Conv2D(filters=32, kernel_size=3, padding=\"same\", activation=\"relu\", input_shape=[32,32,3],kernel_initializer='random_normal',bias_initializer='zeros',kernel_regularizer=tf.keras.regularizers.l2(0.0001)),\r\n",
        "    tf.keras.layers.BatchNormalization(),\r\n",
        "    tf.keras.layers.Conv2D(filters=32, kernel_size=3,padding=\"same\",activation=\"relu\",kernel_initializer='random_normal',bias_initializer='zeros',kernel_regularizer=tf.keras.regularizers.l2(0.001)),\r\n",
        "    tf.keras.layers.MaxPool2D(pool_size=2),\r\n",
        "    tf.keras.layers.BatchNormalization(),\r\n",
        "    tf.keras.layers.Dropout(rate=0.3),\r\n",
        "\r\n",
        "\r\n",
        "\r\n",
        "    tf.keras.layers.Conv2D(filters=64, kernel_size=3,padding=\"same\",activation=\"relu\",kernel_initializer='random_normal',bias_initializer='zeros',kernel_regularizer=tf.keras.regularizers.l2(0.001)),\r\n",
        "    tf.keras.layers.BatchNormalization(),\r\n",
        "    tf.keras.layers.Conv2D(filters=64, kernel_size=3,padding=\"same\",activation=\"relu\",kernel_initializer='random_normal',bias_initializer='zeros',kernel_regularizer=tf.keras.regularizers.l2(0.001)),\r\n",
        "    tf.keras.layers.MaxPool2D(pool_size=2),\r\n",
        "    tf.keras.layers.BatchNormalization(),\r\n",
        "    tf.keras.layers.Dropout(rate=0.4),\r\n",
        "    \r\n",
        "\r\n",
        "    tf.keras.layers.Conv2D(filters=128, kernel_size=3,padding=\"same\",activation=\"relu\",kernel_initializer='random_normal',bias_initializer='zeros',kernel_regularizer=tf.keras.regularizers.l2(0.001)),\r\n",
        "    tf.keras.layers.BatchNormalization(),\r\n",
        "    tf.keras.layers.Conv2D(filters=128, kernel_size=3,padding=\"same\",activation=\"relu\",kernel_initializer='random_normal',bias_initializer='zeros',kernel_regularizer=tf.keras.regularizers.l2(0.001)),\r\n",
        "    tf.keras.layers.MaxPool2D(pool_size=2),\r\n",
        "    tf.keras.layers.BatchNormalization(),\r\n",
        "    tf.keras.layers.Dropout(rate=0.5),\r\n",
        "\r\n",
        "\r\n",
        "    tf.keras.layers.Flatten(),\r\n",
        "\r\n",
        "    tf.keras.layers.Dense(128,activation=\"relu\"),\r\n",
        "    tf.keras.layers.Dense(10,activation=\"softmax\")\r\n",
        "])\r\n",
        "model.summary()"
      ],
      "execution_count": null,
      "outputs": []
    },
    {
      "cell_type": "code",
      "metadata": {
        "id": "LdDxxBytc0rS"
      },
      "source": [
        "# #Normal Adadelta \r\n",
        "# opt  = tf.keras.optimizers.Adadelta()\r\n",
        "\r\n",
        "# #Parameters tunings expiriment\r\n",
        "# opt  = tf.keras.optimizers.Adadelta(learning_rate=0.01)\r\n",
        "\r\n",
        "# opt  = tf.keras.optimizers.Adadelta(learning_rate=0.001)\r\n",
        "\r\n",
        "# opt  = tf.keras.optimizers.Adadelta(learning_rate=0.0001)\r\n",
        "\r\n",
        "# opt  = tf.keras.optimizers.Adadelta(learning_rate=0.01, epsilon=0.01)\r\n",
        "\r\n",
        "# opt  = tf.keras.optimizers.Adadelta(learning_rate=0.01, epsilon=0.001)\r\n",
        "\r\n",
        "opt  = tf.keras.optimizers.Adadelta(learning_rate=0.01, epsilon=0.0001)\r\n",
        "\r\n",
        "model.compile(loss = \"sparse_categorical_crossentropy\",\r\n",
        "              optimizer = opt,\r\n",
        "              metrics = [\"accuracy\"] )\r\n",
        "### End CODE HERE ###"
      ],
      "execution_count": null,
      "outputs": []
    },
    {
      "cell_type": "code",
      "metadata": {
        "id": "zZiJWoWrc0t1"
      },
      "source": [
        "from keras.callbacks import EarlyStopping, ModelCheckpoint\r\n",
        "\r\n",
        "early_stopping = tf.keras.callbacks.EarlyStopping(monitor='loss')\r\n",
        "\r\n",
        "history = model.fit(X_train, y_train, epochs=10,batch_size=128,callbacks = [early_stopping])"
      ],
      "execution_count": null,
      "outputs": []
    },
    {
      "cell_type": "code",
      "metadata": {
        "id": "K8w0MqToc0xQ"
      },
      "source": [
        "# accuracy values are stored in the dictionary `History.history` \r\n",
        "# the dictonary key to access these accuracy values are:\r\n",
        "# \"acc\" in tensorflow versions <2\r\n",
        "# \"accuracy\" in later versions\r\n",
        "\r\n",
        "# check the current version\r\n",
        "if int(tf.__version__.split('.')[0]) > 1:\r\n",
        "    acc_key = 'accuracy'\r\n",
        "else:\r\n",
        "    acc_key = 'acc'\r\n",
        "\r\n",
        "#-----------------------------------------------------------\r\n",
        "# Retrieve a list of list results on training and validation data\r\n",
        "# sets for each training epoch\r\n",
        "#-----------------------------------------------------------\r\n",
        "acc      = history.history[acc_key]\r\n",
        "loss     = history.history['loss']\r\n",
        "epochs   = range(1,len(acc)+1) # Get number of epochs\r\n",
        "#------------------------------------------------\r\n",
        "# Plot training and validation accuracy per epoch\r\n",
        "#------------------------------------------------\r\n",
        "plt.plot(epochs, acc,  label='Training accuracy')\r\n",
        "plt.title('Training accuracy')\r\n",
        "plt.xticks(epochs)\r\n",
        "plt.xlabel('epoch')\r\n",
        "plt.ylabel('accuracy')\r\n",
        "plt.legend();"
      ],
      "execution_count": null,
      "outputs": []
    },
    {
      "cell_type": "code",
      "metadata": {
        "id": "NE3x2CwNdDmw"
      },
      "source": [
        "from keras.callbacks import EarlyStopping, ModelCheckpoint\r\n",
        "early_stopping = tf.keras.callbacks.EarlyStopping(monitor='loss')\r\n",
        "\r\n",
        "test_loss, test_accuracy = model.evaluate(X_test, y_test, batch_size=128 , verbose=2, callbacks = [early_stopping])\r\n",
        "print('Accuracy on test dataset:', test_accuracy)"
      ],
      "execution_count": null,
      "outputs": []
    },
    {
      "cell_type": "markdown",
      "metadata": {
        "id": "H3ya0Bnd886C"
      },
      "source": [
        "#### **5. Adamax**\r\n"
      ]
    },
    {
      "cell_type": "code",
      "metadata": {
        "id": "JaQAffun9Az5"
      },
      "source": [
        "model = tf.keras.models.Sequential([\r\n",
        "    \r\n",
        "\r\n",
        "    tf.keras.layers.Conv2D(filters=32, kernel_size=3, padding=\"same\", activation=\"relu\", input_shape=[32,32,3],kernel_initializer='random_normal',bias_initializer='zeros',kernel_regularizer=tf.keras.regularizers.l2(0.0001)),\r\n",
        "    tf.keras.layers.BatchNormalization(),\r\n",
        "    tf.keras.layers.Conv2D(filters=32, kernel_size=3,padding=\"same\",activation=\"relu\",kernel_initializer='random_normal',bias_initializer='zeros',kernel_regularizer=tf.keras.regularizers.l2(0.001)),\r\n",
        "    tf.keras.layers.MaxPool2D(pool_size=2),\r\n",
        "    tf.keras.layers.BatchNormalization(),\r\n",
        "    tf.keras.layers.Dropout(rate=0.3),\r\n",
        "\r\n",
        "\r\n",
        "\r\n",
        "    tf.keras.layers.Conv2D(filters=64, kernel_size=3,padding=\"same\",activation=\"relu\",kernel_initializer='random_normal',bias_initializer='zeros',kernel_regularizer=tf.keras.regularizers.l2(0.001)),\r\n",
        "    tf.keras.layers.BatchNormalization(),\r\n",
        "    tf.keras.layers.Conv2D(filters=64, kernel_size=3,padding=\"same\",activation=\"relu\",kernel_initializer='random_normal',bias_initializer='zeros',kernel_regularizer=tf.keras.regularizers.l2(0.001)),\r\n",
        "    tf.keras.layers.MaxPool2D(pool_size=2),\r\n",
        "    tf.keras.layers.BatchNormalization(),\r\n",
        "    tf.keras.layers.Dropout(rate=0.4),\r\n",
        "    \r\n",
        "\r\n",
        "    tf.keras.layers.Conv2D(filters=128, kernel_size=3,padding=\"same\",activation=\"relu\",kernel_initializer='random_normal',bias_initializer='zeros',kernel_regularizer=tf.keras.regularizers.l2(0.001)),\r\n",
        "    tf.keras.layers.BatchNormalization(),\r\n",
        "    tf.keras.layers.Conv2D(filters=128, kernel_size=3,padding=\"same\",activation=\"relu\",kernel_initializer='random_normal',bias_initializer='zeros',kernel_regularizer=tf.keras.regularizers.l2(0.001)),\r\n",
        "    tf.keras.layers.MaxPool2D(pool_size=2),\r\n",
        "    tf.keras.layers.BatchNormalization(),\r\n",
        "    tf.keras.layers.Dropout(rate=0.5),\r\n",
        "\r\n",
        "\r\n",
        "    tf.keras.layers.Flatten(),\r\n",
        "\r\n",
        "    tf.keras.layers.Dense(128,activation=\"relu\"),\r\n",
        "    tf.keras.layers.Dense(10,activation=\"softmax\")\r\n",
        "])\r\n",
        "model.summary()"
      ],
      "execution_count": null,
      "outputs": []
    },
    {
      "cell_type": "code",
      "metadata": {
        "id": "lFkRQ12ojORD"
      },
      "source": [
        "# #Normal Adagrad \r\n",
        "# opt  = tf.keras.optimizers.Adamax()\r\n",
        "\r\n",
        "# #Parameters tunings expiriment\r\n",
        "# opt  = tf.keras.optimizers.Adamax(learning_rate=0.01)\r\n",
        "\r\n",
        "# opt  = tf.keras.optimizers.Adamax(learning_rate=0.001)\r\n",
        "\r\n",
        "# opt  = tf.keras.optimizers.Adamax(learning_rate=0.0001)\r\n",
        "\r\n",
        "# opt  = tf.keras.optimizers.Adamax(learning_rate=0.001, epsilon=0.01)\r\n",
        "\r\n",
        "opt  = tf.keras.optimizers.Adamax(learning_rate=0.001, epsilon=0.001)\r\n",
        "\r\n",
        "# opt  = tf.keras.optimizers.Adamax(learning_rate=0.001, epsilon=0.0001)\r\n",
        "\r\n",
        "model.compile(loss = \"sparse_categorical_crossentropy\",\r\n",
        "              optimizer = opt,\r\n",
        "              metrics = [\"accuracy\"] )\r\n",
        "### End CODE HERE ###"
      ],
      "execution_count": null,
      "outputs": []
    },
    {
      "cell_type": "code",
      "metadata": {
        "id": "zowuwDRKjOT9"
      },
      "source": [
        "from keras.callbacks import EarlyStopping, ModelCheckpoint\r\n",
        "\r\n",
        "early_stopping = tf.keras.callbacks.EarlyStopping(monitor='loss')\r\n",
        "\r\n",
        "history = model.fit(X_train, y_train, epochs=10,batch_size=128,callbacks = [early_stopping])"
      ],
      "execution_count": null,
      "outputs": []
    },
    {
      "cell_type": "code",
      "metadata": {
        "id": "HVM0ic4ajOXB"
      },
      "source": [
        "# accuracy values are stored in the dictionary `History.history` \r\n",
        "# the dictonary key to access these accuracy values are:\r\n",
        "# \"acc\" in tensorflow versions <2\r\n",
        "# \"accuracy\" in later versions\r\n",
        "\r\n",
        "# check the current version\r\n",
        "if int(tf.__version__.split('.')[0]) > 1:\r\n",
        "    acc_key = 'accuracy'\r\n",
        "else:\r\n",
        "    acc_key = 'acc'\r\n",
        "\r\n",
        "#-----------------------------------------------------------\r\n",
        "# Retrieve a list of list results on training and validation data\r\n",
        "# sets for each training epoch\r\n",
        "#-----------------------------------------------------------\r\n",
        "acc      = history.history[acc_key]\r\n",
        "loss     = history.history['loss']\r\n",
        "epochs   = range(1,len(acc)+1) # Get number of epochs\r\n",
        "#------------------------------------------------\r\n",
        "# Plot training and validation accuracy per epoch\r\n",
        "#------------------------------------------------\r\n",
        "plt.plot(epochs, acc,  label='Training accuracy')\r\n",
        "plt.title('Training accuracy')\r\n",
        "plt.xticks(epochs)\r\n",
        "plt.xlabel('epoch')\r\n",
        "plt.ylabel('accuracy')\r\n",
        "plt.legend();"
      ],
      "execution_count": null,
      "outputs": []
    },
    {
      "cell_type": "code",
      "metadata": {
        "id": "fS5y33X1jOaA"
      },
      "source": [
        "from keras.callbacks import EarlyStopping, ModelCheckpoint\r\n",
        "early_stopping = tf.keras.callbacks.EarlyStopping(monitor='loss')\r\n",
        "\r\n",
        "test_loss, test_accuracy = model.evaluate(X_test, y_test, batch_size=128 , verbose=2, callbacks = [early_stopping])\r\n",
        "print('Accuracy on test dataset:', test_accuracy)"
      ],
      "execution_count": null,
      "outputs": []
    },
    {
      "cell_type": "markdown",
      "metadata": {
        "id": "H6P2J2r2ls5I"
      },
      "source": [
        "#### **6. Visualisation**\r\n"
      ]
    },
    {
      "cell_type": "code",
      "metadata": {
        "id": "gFzNSaBOjOeN"
      },
      "source": [
        " d = {'optimizer': [\"SDG\",\"RMSProp\",\"Adam\",\"Adedelta\",\"Adamax\"], 'Train_Accuracy': [43.5,80.1,80.8,65.3,77.7], 'Test_Accuracy': [44.2,79.6,80.8,64.8,77.5]}\r\n",
        "\r\n",
        "\r\n",
        "df = pd.DataFrame(data=d)\r\n",
        "df.sort_values(by='Test_Accuracy', ascending=False)\r\n",
        "df\r\n",
        "\r\n"
      ],
      "execution_count": null,
      "outputs": []
    },
    {
      "cell_type": "code",
      "metadata": {
        "id": "gIT1_mwqmXIk"
      },
      "source": [
        "fig = px.bar(df, x='optimizer', y='Test_Accuracy',color = \"optimizer\",title=\"Expirimenting Different optimizer\")\r\n",
        "fig.show()\r\n"
      ],
      "execution_count": null,
      "outputs": []
    },
    {
      "cell_type": "markdown",
      "metadata": {
        "id": "Gp_TW9D-nUT9"
      },
      "source": [
        "## **Converting to PDF**"
      ]
    },
    {
      "cell_type": "code",
      "metadata": {
        "id": "cnI8c9Jy7d63"
      },
      "source": [
        "stop"
      ],
      "execution_count": null,
      "outputs": []
    },
    {
      "cell_type": "code",
      "metadata": {
        "id": "1viq1y-snY3u"
      },
      "source": [
        "!sudo apt-get install texlive-xetex texlive-fonts-recommended texlive-generic-recommended\r\n",
        "\r\n",
        "!jupyter nbconvert --to PDF \"Assessment.ipynb\"\r\n"
      ],
      "execution_count": null,
      "outputs": []
    }
  ]
}